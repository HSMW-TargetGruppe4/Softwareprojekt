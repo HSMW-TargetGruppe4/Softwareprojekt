{
 "cells": [
  {
   "cell_type": "markdown",
   "id": "35d47aab",
   "metadata": {
    "papermill": {
     "duration": 0.098478,
     "end_time": "2022-12-19T13:13:24.355742",
     "exception": false,
     "start_time": "2022-12-19T13:13:24.257264",
     "status": "completed"
    },
    "tags": []
   },
   "source": [
    "<a id='1'></a>\n",
    "## _Import Libraries and Load Data_"
   ]
  },
  {
   "cell_type": "code",
   "execution_count": 1,
   "id": "1d8defb3",
   "metadata": {
    "execution": {
     "iopub.execute_input": "2022-12-19T13:13:24.548754Z",
     "iopub.status.busy": "2022-12-19T13:13:24.547552Z",
     "iopub.status.idle": "2022-12-19T13:13:26.185947Z",
     "shell.execute_reply": "2022-12-19T13:13:26.185119Z",
     "shell.execute_reply.started": "2022-12-19T13:10:47.821868Z"
    },
    "papermill": {
     "duration": 1.735847,
     "end_time": "2022-12-19T13:13:26.186132",
     "exception": false,
     "start_time": "2022-12-19T13:13:24.450285",
     "status": "completed"
    },
    "tags": []
   },
   "outputs": [],
   "source": [
    "#general packages for data manipulation\n",
    "import os\n",
    "import pandas as pd\n",
    "import numpy as np\n",
    "#visualizations\n",
    "import matplotlib.pyplot as plt\n",
    "import seaborn as sns\n",
    "%matplotlib inline\n",
    "#consistent sized plot \n",
    "from pylab import rcParams\n",
    "rcParams['figure.figsize']=12,5\n",
    "rcParams['axes.labelsize']=12\n",
    "rcParams['xtick.labelsize']=12\n",
    "rcParams['ytick.labelsize']=12\n",
    "#handle the warnings in the code\n",
    "import warnings\n",
    "warnings.filterwarnings(action='ignore',category=DeprecationWarning)\n",
    "warnings.filterwarnings(action='ignore',category=FutureWarning)\n",
    "#text preprocessing libraries\n",
    "import nltk\n",
    "from nltk.corpus import stopwords\n",
    "from nltk.tokenize import word_tokenize\n",
    "from nltk.tokenize import sent_tokenize\n",
    "from nltk.tokenize import WordPunctTokenizer\n",
    "from nltk.tokenize import TweetTokenizer\n",
    "from nltk.stem import WordNetLemmatizer\n",
    "from nltk.stem import PorterStemmer\n",
    "#import texthero\n",
    "#import texthero as hero\n",
    "#regular expressions\n",
    "import re\n",
    "#display pandas dataframe columns \n",
    "pd.options.display.max_columns = None"
   ]
  },
  {
   "cell_type": "code",
   "execution_count": 2,
   "id": "2d1887d7",
   "metadata": {
    "execution": {
     "iopub.execute_input": "2022-12-19T13:13:26.381677Z",
     "iopub.status.busy": "2022-12-19T13:13:26.380961Z",
     "iopub.status.idle": "2022-12-19T13:13:26.722803Z",
     "shell.execute_reply": "2022-12-19T13:13:26.723282Z",
     "shell.execute_reply.started": "2022-12-19T13:10:49.513490Z"
    },
    "papermill": {
     "duration": 0.444466,
     "end_time": "2022-12-19T13:13:26.723481",
     "exception": false,
     "start_time": "2022-12-19T13:13:26.279015",
     "status": "completed"
    },
    "tags": []
   },
   "outputs": [
    {
     "data": {
      "text/html": [
       "<div>\n",
       "<style scoped>\n",
       "    .dataframe tbody tr th:only-of-type {\n",
       "        vertical-align: middle;\n",
       "    }\n",
       "\n",
       "    .dataframe tbody tr th {\n",
       "        vertical-align: top;\n",
       "    }\n",
       "\n",
       "    .dataframe thead th {\n",
       "        text-align: right;\n",
       "    }\n",
       "</style>\n",
       "<table border=\"1\" class=\"dataframe\">\n",
       "  <thead>\n",
       "    <tr style=\"text-align: right;\">\n",
       "      <th></th>\n",
       "      <th>c_text</th>\n",
       "      <th>target</th>\n",
       "    </tr>\n",
       "  </thead>\n",
       "  <tbody>\n",
       "    <tr>\n",
       "      <th>0</th>\n",
       "      <td>@Laika66753508 @MartinaWeiss48 @reitschuster M...</td>\n",
       "      <td>person</td>\n",
       "    </tr>\n",
       "    <tr>\n",
       "      <th>1</th>\n",
       "      <td>@manaf12hassan Die Karte muss in Gesicht von F...</td>\n",
       "      <td>person</td>\n",
       "    </tr>\n",
       "    <tr>\n",
       "      <th>2</th>\n",
       "      <td>@Tino_Chrupalla @Karl_Lauterbach Wenn Sie kack...</td>\n",
       "      <td>group</td>\n",
       "    </tr>\n",
       "    <tr>\n",
       "      <th>3</th>\n",
       "      <td>@DemokratDer @manuelak62 666</td>\n",
       "      <td>public</td>\n",
       "    </tr>\n",
       "    <tr>\n",
       "      <th>4</th>\n",
       "      <td>@_agronym Junge was für Verfolgung, die befeue...</td>\n",
       "      <td>person</td>\n",
       "    </tr>\n",
       "  </tbody>\n",
       "</table>\n",
       "</div>"
      ],
      "text/plain": [
       "                                              c_text  target\n",
       "0  @Laika66753508 @MartinaWeiss48 @reitschuster M...  person\n",
       "1  @manaf12hassan Die Karte muss in Gesicht von F...  person\n",
       "2  @Tino_Chrupalla @Karl_Lauterbach Wenn Sie kack...   group\n",
       "3                       @DemokratDer @manuelak62 666  public\n",
       "4  @_agronym Junge was für Verfolgung, die befeue...  person"
      ]
     },
     "execution_count": 2,
     "metadata": {},
     "output_type": "execute_result"
    }
   ],
   "source": [
    "#load the csv file as a pandas dataframe\n",
    "#tweet = pd.read_csv('../input/datensatz-target/Datensatz_target - Tabellenblatt1.csv',delimiter=',',engine='python',encoding='utf-8-sig')\n",
    "\n",
    "#load modified\n",
    "tweet = pd.read_csv('/kaggle/input/data-modified/to_annotate - to_annotate.tsv', sep = '\\t')\n",
    "tweet = tweet.drop('Status', axis=1)\n",
    "tweet = tweet.drop('hatespeech', axis=1)\n",
    "tweet = tweet.drop('toxi', axis=1)\n",
    "\n",
    "tweet.head()"
   ]
  },
  {
   "cell_type": "code",
   "execution_count": 3,
   "id": "a4e631e4",
   "metadata": {
    "execution": {
     "iopub.execute_input": "2022-12-19T13:13:26.938068Z",
     "iopub.status.busy": "2022-12-19T13:13:26.936974Z",
     "iopub.status.idle": "2022-12-19T13:13:26.960644Z",
     "shell.execute_reply": "2022-12-19T13:13:26.961168Z",
     "shell.execute_reply.started": "2022-12-19T13:10:49.809120Z"
    },
    "papermill": {
     "duration": 0.14281,
     "end_time": "2022-12-19T13:13:26.961348",
     "exception": false,
     "start_time": "2022-12-19T13:13:26.818538",
     "status": "completed"
    },
    "tags": []
   },
   "outputs": [
    {
     "name": "stdout",
     "output_type": "stream",
     "text": [
      "<class 'pandas.core.frame.DataFrame'>\n",
      "RangeIndex: 38142 entries, 0 to 38141\n",
      "Data columns (total 2 columns):\n",
      " #   Column  Non-Null Count  Dtype \n",
      "---  ------  --------------  ----- \n",
      " 0   c_text  38142 non-null  object\n",
      " 1   target  10090 non-null  object\n",
      "dtypes: object(2)\n",
      "memory usage: 596.1+ KB\n"
     ]
    }
   ],
   "source": [
    "tweet.info()"
   ]
  },
  {
   "cell_type": "code",
   "execution_count": 4,
   "id": "165c462e",
   "metadata": {
    "execution": {
     "iopub.execute_input": "2022-12-19T13:13:27.161511Z",
     "iopub.status.busy": "2022-12-19T13:13:27.160815Z",
     "iopub.status.idle": "2022-12-19T13:13:27.302443Z",
     "shell.execute_reply": "2022-12-19T13:13:27.301730Z",
     "shell.execute_reply.started": "2022-12-19T13:10:49.838191Z"
    },
    "papermill": {
     "duration": 0.246065,
     "end_time": "2022-12-19T13:13:27.302596",
     "exception": false,
     "start_time": "2022-12-19T13:13:27.056531",
     "status": "completed"
    },
    "tags": []
   },
   "outputs": [
    {
     "data": {
      "text/plain": [
       "c_text    0\n",
       "target    0\n",
       "dtype: int64"
      ]
     },
     "execution_count": 4,
     "metadata": {},
     "output_type": "execute_result"
    }
   ],
   "source": [
    "#Prüfung auf NaN im Datensatz\n",
    "tweet.isnull().sum() #771 Datensätze haben ein NaN in ['target']\n",
    "\n",
    "#Entfernen der NaN aus Datensatz\n",
    "tweet = tweet.dropna()\n",
    "tweet.isnull().sum() #0 Datensätze haben ein NaN in ['target']"
   ]
  },
  {
   "cell_type": "code",
   "execution_count": 5,
   "id": "b1872e3b",
   "metadata": {
    "execution": {
     "iopub.execute_input": "2022-12-19T13:13:27.500600Z",
     "iopub.status.busy": "2022-12-19T13:13:27.499950Z",
     "iopub.status.idle": "2022-12-19T13:13:27.512145Z",
     "shell.execute_reply": "2022-12-19T13:13:27.512747Z"
    },
    "papermill": {
     "duration": 0.111515,
     "end_time": "2022-12-19T13:13:27.512923",
     "exception": false,
     "start_time": "2022-12-19T13:13:27.401408",
     "status": "completed"
    },
    "tags": []
   },
   "outputs": [
    {
     "data": {
      "text/plain": [
       "person     4609\n",
       "group      3502\n",
       "public     1970\n",
       "puplic        3\n",
       "target        2\n",
       "peson         1\n",
       "pweaon        1\n",
       "person        1\n",
       "perosn        1\n",
       "Name: target, dtype: int64"
      ]
     },
     "execution_count": 5,
     "metadata": {},
     "output_type": "execute_result"
    }
   ],
   "source": [
    "tweet['target'] =tweet['target'].map(lambda x: x.lower())\n",
    "tweet['target'].value_counts()"
   ]
  },
  {
   "cell_type": "code",
   "execution_count": 6,
   "id": "6144dc5b",
   "metadata": {
    "execution": {
     "iopub.execute_input": "2022-12-19T13:13:27.713186Z",
     "iopub.status.busy": "2022-12-19T13:13:27.712540Z",
     "iopub.status.idle": "2022-12-19T13:13:27.731052Z",
     "shell.execute_reply": "2022-12-19T13:13:27.730298Z"
    },
    "papermill": {
     "duration": 0.121394,
     "end_time": "2022-12-19T13:13:27.731208",
     "exception": false,
     "start_time": "2022-12-19T13:13:27.609814",
     "status": "completed"
    },
    "tags": []
   },
   "outputs": [
    {
     "data": {
      "text/plain": [
       "person    4609\n",
       "group     3502\n",
       "public    1970\n",
       "Name: target, dtype: int64"
      ]
     },
     "execution_count": 6,
     "metadata": {},
     "output_type": "execute_result"
    }
   ],
   "source": [
    "tweet = tweet[tweet['target'] != 'target']\n",
    "tweet = tweet[tweet['target'] != 'peson']\n",
    "tweet = tweet[tweet['target'] != 'pweaon']\n",
    "tweet = tweet[tweet['target'] != 'perosn']\n",
    "tweet = tweet[tweet['target'] != 'puplic']\n",
    "tweet = tweet[tweet['target'] != 'person ']\n",
    "tweet['target'].value_counts()"
   ]
  },
  {
   "cell_type": "code",
   "execution_count": 7,
   "id": "b87aa2b4",
   "metadata": {
    "execution": {
     "iopub.execute_input": "2022-12-19T13:13:27.925441Z",
     "iopub.status.busy": "2022-12-19T13:13:27.924770Z",
     "iopub.status.idle": "2022-12-19T13:13:27.932921Z",
     "shell.execute_reply": "2022-12-19T13:13:27.933413Z"
    },
    "papermill": {
     "duration": 0.10718,
     "end_time": "2022-12-19T13:13:27.933641",
     "exception": false,
     "start_time": "2022-12-19T13:13:27.826461",
     "status": "completed"
    },
    "tags": []
   },
   "outputs": [
    {
     "name": "stdout",
     "output_type": "stream",
     "text": [
      "3654\n"
     ]
    },
    {
     "data": {
      "text/plain": [
       "'@DanieleUlrich @CR_Schmid @joergscheller1 @LeaKusano Und noch eine Prise Rassismus durch einen Zwangsmassnahmen-Befürworter. Direkt von einem Account eines grossen Staatsbetriebs. Allerliebst.'"
      ]
     },
     "execution_count": 7,
     "metadata": {},
     "output_type": "execute_result"
    }
   ],
   "source": [
    "#view one of the tweets randomly \n",
    "random = np.random.randint(0,len(tweet))\n",
    "print(random)\n",
    "tweet.iloc[random]['c_text']"
   ]
  },
  {
   "cell_type": "code",
   "execution_count": 8,
   "id": "ee3eebce",
   "metadata": {
    "execution": {
     "iopub.execute_input": "2022-12-19T13:13:28.129136Z",
     "iopub.status.busy": "2022-12-19T13:13:28.128466Z",
     "iopub.status.idle": "2022-12-19T13:13:28.133111Z",
     "shell.execute_reply": "2022-12-19T13:13:28.132600Z"
    },
    "papermill": {
     "duration": 0.103304,
     "end_time": "2022-12-19T13:13:28.133258",
     "exception": false,
     "start_time": "2022-12-19T13:13:28.029954",
     "status": "completed"
    },
    "tags": []
   },
   "outputs": [],
   "source": [
    "#create a copy of the original data to work with \n",
    "df = tweet.copy()"
   ]
  },
  {
   "cell_type": "markdown",
   "id": "d641d571",
   "metadata": {
    "papermill": {
     "duration": 0.096762,
     "end_time": "2022-12-19T13:13:28.326000",
     "exception": false,
     "start_time": "2022-12-19T13:13:28.229238",
     "status": "completed"
    },
    "tags": []
   },
   "source": [
    "<a id='2'></a>\n",
    "## _Text Cleaning_"
   ]
  },
  {
   "cell_type": "markdown",
   "id": "c0e2d634",
   "metadata": {
    "papermill": {
     "duration": 0.098214,
     "end_time": "2022-12-19T13:13:28.524688",
     "exception": false,
     "start_time": "2022-12-19T13:13:28.426474",
     "status": "completed"
    },
    "tags": []
   },
   "source": [
    "<a id='2-2'></a>\n",
    "### _Remove user handles_"
   ]
  },
  {
   "cell_type": "code",
   "execution_count": 9,
   "id": "cc0f0654",
   "metadata": {
    "execution": {
     "iopub.execute_input": "2022-12-19T13:13:28.729399Z",
     "iopub.status.busy": "2022-12-19T13:13:28.728568Z",
     "iopub.status.idle": "2022-12-19T13:13:28.732455Z",
     "shell.execute_reply": "2022-12-19T13:13:28.731827Z"
    },
    "papermill": {
     "duration": 0.107223,
     "end_time": "2022-12-19T13:13:28.732606",
     "exception": false,
     "start_time": "2022-12-19T13:13:28.625383",
     "status": "completed"
    },
    "tags": []
   },
   "outputs": [
    {
     "data": {
      "text/plain": [
       "['@user1', '@user2', '@username3']"
      ]
     },
     "execution_count": 9,
     "metadata": {},
     "output_type": "execute_result"
    }
   ],
   "source": [
    "#test on a sample string\n",
    "sample = \"and @user1 i would like you to discuss with @user2 and then with @username3\"\n",
    "pattern = re.compile(r'@\\w+')\n",
    "re.findall(pattern,sample)"
   ]
  },
  {
   "cell_type": "code",
   "execution_count": 10,
   "id": "b1797187",
   "metadata": {
    "execution": {
     "iopub.execute_input": "2022-12-19T13:13:28.940994Z",
     "iopub.status.busy": "2022-12-19T13:13:28.939987Z",
     "iopub.status.idle": "2022-12-19T13:13:28.968526Z",
     "shell.execute_reply": "2022-12-19T13:13:28.967967Z"
    },
    "papermill": {
     "duration": 0.135492,
     "end_time": "2022-12-19T13:13:28.968685",
     "exception": false,
     "start_time": "2022-12-19T13:13:28.833193",
     "status": "completed"
    },
    "tags": []
   },
   "outputs": [
    {
     "data": {
      "text/plain": [
       "0       Meine Liebe.. Sie bilden sich anscheinend a...\n",
       "1     Die Karte muss in Gesicht von Frau Merkel und...\n",
       "2      Wenn Sie kackbraune Scheiße blau übermalen w...\n",
       "3                                                  666\n",
       "4     Junge was für Verfolgung, die befeuern aus ih...\n",
       "Name: c_text, dtype: object"
      ]
     },
     "execution_count": 10,
     "metadata": {},
     "output_type": "execute_result"
    }
   ],
   "source": [
    "#remove all the user handles --> strings starting with @\n",
    "df['c_text'].replace(r'@\\w+','',regex=True,inplace=True)\n",
    "df['c_text'].head()"
   ]
  },
  {
   "cell_type": "markdown",
   "id": "ce2664fa",
   "metadata": {
    "papermill": {
     "duration": 0.095857,
     "end_time": "2022-12-19T13:13:29.161502",
     "exception": false,
     "start_time": "2022-12-19T13:13:29.065645",
     "status": "completed"
    },
    "tags": []
   },
   "source": [
    "<a id='2-3'></a>\n",
    "### _Remove the urls_"
   ]
  },
  {
   "cell_type": "code",
   "execution_count": 11,
   "id": "8fb01a12",
   "metadata": {
    "execution": {
     "iopub.execute_input": "2022-12-19T13:13:29.361768Z",
     "iopub.status.busy": "2022-12-19T13:13:29.361045Z",
     "iopub.status.idle": "2022-12-19T13:13:29.367155Z",
     "shell.execute_reply": "2022-12-19T13:13:29.367799Z"
    },
    "papermill": {
     "duration": 0.1086,
     "end_time": "2022-12-19T13:13:29.367991",
     "exception": false,
     "start_time": "2022-12-19T13:13:29.259391",
     "status": "completed"
    },
    "tags": []
   },
   "outputs": [
    {
     "data": {
      "text/plain": [
       "['https://www.machinelearing.com', 'https://www.simple.com']"
      ]
     },
     "execution_count": 11,
     "metadata": {},
     "output_type": "execute_result"
    }
   ],
   "source": [
    "#test on a sample \n",
    "sample = \"https://www.machinelearing.com prakhar and https://www.simple.com\"\n",
    "pattern = re.compile(r'http\\S+')\n",
    "re.findall(pattern,sample)"
   ]
  },
  {
   "cell_type": "code",
   "execution_count": 12,
   "id": "f4d70a5b",
   "metadata": {
    "execution": {
     "iopub.execute_input": "2022-12-19T13:13:29.569872Z",
     "iopub.status.busy": "2022-12-19T13:13:29.569147Z",
     "iopub.status.idle": "2022-12-19T13:13:29.597024Z",
     "shell.execute_reply": "2022-12-19T13:13:29.597579Z"
    },
    "papermill": {
     "duration": 0.127529,
     "end_time": "2022-12-19T13:13:29.597755",
     "exception": false,
     "start_time": "2022-12-19T13:13:29.470226",
     "status": "completed"
    },
    "tags": []
   },
   "outputs": [
    {
     "data": {
      "text/plain": [
       "0       Meine Liebe.. Sie bilden sich anscheinend a...\n",
       "1     Die Karte muss in Gesicht von Frau Merkel und...\n",
       "2      Wenn Sie kackbraune Scheiße blau übermalen w...\n",
       "3                                                  666\n",
       "4     Junge was für Verfolgung, die befeuern aus ih...\n",
       "Name: c_text, dtype: object"
      ]
     },
     "execution_count": 12,
     "metadata": {},
     "output_type": "execute_result"
    }
   ],
   "source": [
    "df['c_text'].replace(r'http\\S+','',regex=True,inplace=True)\n",
    "df['c_text'].head()"
   ]
  },
  {
   "cell_type": "markdown",
   "id": "12b756e0",
   "metadata": {
    "papermill": {
     "duration": 0.096299,
     "end_time": "2022-12-19T13:13:29.791308",
     "exception": false,
     "start_time": "2022-12-19T13:13:29.695009",
     "status": "completed"
    },
    "tags": []
   },
   "source": [
    "<a id='2-4'></a>\n",
    "### _Tokenize using tweet tokenizer_"
   ]
  },
  {
   "cell_type": "code",
   "execution_count": 13,
   "id": "ecb4884f",
   "metadata": {
    "execution": {
     "iopub.execute_input": "2022-12-19T13:13:29.988106Z",
     "iopub.status.busy": "2022-12-19T13:13:29.987467Z",
     "iopub.status.idle": "2022-12-19T13:13:29.992946Z",
     "shell.execute_reply": "2022-12-19T13:13:29.993601Z"
    },
    "papermill": {
     "duration": 0.105622,
     "end_time": "2022-12-19T13:13:29.993780",
     "exception": false,
     "start_time": "2022-12-19T13:13:29.888158",
     "status": "completed"
    },
    "tags": []
   },
   "outputs": [
    {
     "data": {
      "text/plain": [
       "['wonderfl', ':-)', 'when', 'are', 'you', 'coming', 'for', '#party']"
      ]
     },
     "execution_count": 13,
     "metadata": {},
     "output_type": "execute_result"
    }
   ],
   "source": [
    "#test on a sample text\n",
    "sample = 'wonderfl :-)  when are you coming for #party'\n",
    "tweet_tokenize = TweetTokenizer(preserve_case=True)\n",
    "tweet_tokenize.tokenize(sample)"
   ]
  },
  {
   "cell_type": "code",
   "execution_count": 14,
   "id": "d95472d3",
   "metadata": {
    "execution": {
     "iopub.execute_input": "2022-12-19T13:13:30.193419Z",
     "iopub.status.busy": "2022-12-19T13:13:30.192779Z",
     "iopub.status.idle": "2022-12-19T13:13:31.013857Z",
     "shell.execute_reply": "2022-12-19T13:13:31.013080Z"
    },
    "papermill": {
     "duration": 0.921852,
     "end_time": "2022-12-19T13:13:31.014025",
     "exception": false,
     "start_time": "2022-12-19T13:13:30.092173",
     "status": "completed"
    },
    "tags": []
   },
   "outputs": [],
   "source": [
    "#tokenize the tweets in the dataframe using TweetTokenizer\n",
    "tokenizer = TweetTokenizer(preserve_case=True)\n",
    "df['c_text_tokens'] = df['c_text'].apply(tokenizer.tokenize)"
   ]
  },
  {
   "cell_type": "code",
   "execution_count": 15,
   "id": "286b4fcc",
   "metadata": {
    "execution": {
     "iopub.execute_input": "2022-12-19T13:13:31.278712Z",
     "iopub.status.busy": "2022-12-19T13:13:31.277796Z",
     "iopub.status.idle": "2022-12-19T13:13:31.280925Z",
     "shell.execute_reply": "2022-12-19T13:13:31.281450Z"
    },
    "papermill": {
     "duration": 0.169143,
     "end_time": "2022-12-19T13:13:31.281635",
     "exception": false,
     "start_time": "2022-12-19T13:13:31.112492",
     "status": "completed"
    },
    "tags": []
   },
   "outputs": [
    {
     "data": {
      "text/html": [
       "<div>\n",
       "<style scoped>\n",
       "    .dataframe tbody tr th:only-of-type {\n",
       "        vertical-align: middle;\n",
       "    }\n",
       "\n",
       "    .dataframe tbody tr th {\n",
       "        vertical-align: top;\n",
       "    }\n",
       "\n",
       "    .dataframe thead th {\n",
       "        text-align: right;\n",
       "    }\n",
       "</style>\n",
       "<table border=\"1\" class=\"dataframe\">\n",
       "  <thead>\n",
       "    <tr style=\"text-align: right;\">\n",
       "      <th></th>\n",
       "      <th>c_text</th>\n",
       "      <th>target</th>\n",
       "      <th>c_text_tokens</th>\n",
       "    </tr>\n",
       "  </thead>\n",
       "  <tbody>\n",
       "    <tr>\n",
       "      <th>0</th>\n",
       "      <td>Meine Liebe.. Sie bilden sich anscheinend a...</td>\n",
       "      <td>person</td>\n",
       "      <td>[Meine, Liebe, .., Sie, bilden, sich, anschein...</td>\n",
       "    </tr>\n",
       "    <tr>\n",
       "      <th>1</th>\n",
       "      <td>Die Karte muss in Gesicht von Frau Merkel und...</td>\n",
       "      <td>person</td>\n",
       "      <td>[Die, Karte, muss, in, Gesicht, von, Frau, Mer...</td>\n",
       "    </tr>\n",
       "    <tr>\n",
       "      <th>2</th>\n",
       "      <td>Wenn Sie kackbraune Scheiße blau übermalen w...</td>\n",
       "      <td>group</td>\n",
       "      <td>[Wenn, Sie, kackbraune, Scheiße, blau, übermal...</td>\n",
       "    </tr>\n",
       "  </tbody>\n",
       "</table>\n",
       "</div>"
      ],
      "text/plain": [
       "                                              c_text  target  \\\n",
       "0     Meine Liebe.. Sie bilden sich anscheinend a...  person   \n",
       "1   Die Karte muss in Gesicht von Frau Merkel und...  person   \n",
       "2    Wenn Sie kackbraune Scheiße blau übermalen w...   group   \n",
       "\n",
       "                                       c_text_tokens  \n",
       "0  [Meine, Liebe, .., Sie, bilden, sich, anschein...  \n",
       "1  [Die, Karte, muss, in, Gesicht, von, Frau, Mer...  \n",
       "2  [Wenn, Sie, kackbraune, Scheiße, blau, übermal...  "
      ]
     },
     "execution_count": 15,
     "metadata": {},
     "output_type": "execute_result"
    }
   ],
   "source": [
    "#view the tokenized tweets\n",
    "df.head(3)"
   ]
  },
  {
   "cell_type": "markdown",
   "id": "ea2930fa",
   "metadata": {
    "papermill": {
     "duration": 0.099068,
     "end_time": "2022-12-19T13:13:31.486317",
     "exception": false,
     "start_time": "2022-12-19T13:13:31.387249",
     "status": "completed"
    },
    "tags": []
   },
   "source": [
    "<a id='2-5'></a>\n",
    "### _Remove Stopwords_\n",
    "_Append more words to be removed from the text - example rt and amp which occur very frequently_"
   ]
  },
  {
   "cell_type": "code",
   "execution_count": 16,
   "id": "2617bfe1",
   "metadata": {
    "execution": {
     "iopub.execute_input": "2022-12-19T13:13:31.685678Z",
     "iopub.status.busy": "2022-12-19T13:13:31.685028Z",
     "iopub.status.idle": "2022-12-19T13:13:31.695542Z",
     "shell.execute_reply": "2022-12-19T13:13:31.696093Z"
    },
    "papermill": {
     "duration": 0.111899,
     "end_time": "2022-12-19T13:13:31.696289",
     "exception": false,
     "start_time": "2022-12-19T13:13:31.584390",
     "status": "completed"
    },
    "tags": []
   },
   "outputs": [],
   "source": [
    "stop_words = stopwords.words('german')\n",
    "\n",
    "#add additional stop words to be removed from the text\n",
    "additional_list = ['Die', 'Das', 'Und', 'mal', 'ja', 'schon', 'mehr', 'immer', 'Aber', 'Wenn']\n",
    "#Die, Das, Und, mal, ja, schon, mehr\n",
    "\n",
    "for words in additional_list:\n",
    "    stop_words.append(words)"
   ]
  },
  {
   "cell_type": "code",
   "execution_count": 17,
   "id": "ad0bff85",
   "metadata": {
    "execution": {
     "iopub.execute_input": "2022-12-19T13:13:31.896328Z",
     "iopub.status.busy": "2022-12-19T13:13:31.895692Z",
     "iopub.status.idle": "2022-12-19T13:13:31.900806Z",
     "shell.execute_reply": "2022-12-19T13:13:31.901337Z"
    },
    "papermill": {
     "duration": 0.106499,
     "end_time": "2022-12-19T13:13:31.901543",
     "exception": false,
     "start_time": "2022-12-19T13:13:31.795044",
     "status": "completed"
    },
    "tags": []
   },
   "outputs": [
    {
     "data": {
      "text/plain": [
       "['Die', 'Das', 'Und', 'mal', 'ja', 'schon', 'mehr', 'immer', 'Aber', 'Wenn']"
      ]
     },
     "execution_count": 17,
     "metadata": {},
     "output_type": "execute_result"
    }
   ],
   "source": [
    "stop_words[-10:]"
   ]
  },
  {
   "cell_type": "code",
   "execution_count": 18,
   "id": "b12d7de3",
   "metadata": {
    "execution": {
     "iopub.execute_input": "2022-12-19T13:13:32.102463Z",
     "iopub.status.busy": "2022-12-19T13:13:32.100074Z",
     "iopub.status.idle": "2022-12-19T13:13:32.105365Z",
     "shell.execute_reply": "2022-12-19T13:13:32.104750Z"
    },
    "papermill": {
     "duration": 0.105867,
     "end_time": "2022-12-19T13:13:32.105550",
     "exception": false,
     "start_time": "2022-12-19T13:13:31.999683",
     "status": "completed"
    },
    "tags": []
   },
   "outputs": [],
   "source": [
    "#remove stop words\n",
    "def remove_stopwords(text):\n",
    "    '''Function to remove the stop words from the text corpus'''\n",
    "    clean_text = [word for word in text if not word in stop_words]\n",
    "    return clean_text    "
   ]
  },
  {
   "cell_type": "code",
   "execution_count": 19,
   "id": "04ee3118",
   "metadata": {
    "execution": {
     "iopub.execute_input": "2022-12-19T13:13:32.314133Z",
     "iopub.status.busy": "2022-12-19T13:13:32.313395Z",
     "iopub.status.idle": "2022-12-19T13:13:33.351993Z",
     "shell.execute_reply": "2022-12-19T13:13:33.351414Z"
    },
    "papermill": {
     "duration": 1.148247,
     "end_time": "2022-12-19T13:13:33.352151",
     "exception": false,
     "start_time": "2022-12-19T13:13:32.203904",
     "status": "completed"
    },
    "tags": []
   },
   "outputs": [],
   "source": [
    "#remove the stop words from the tweets\n",
    "df['c_text_tokens'] = df['c_text_tokens'].apply(remove_stopwords)"
   ]
  },
  {
   "cell_type": "code",
   "execution_count": 20,
   "id": "5b43b396",
   "metadata": {
    "execution": {
     "iopub.execute_input": "2022-12-19T13:13:33.555406Z",
     "iopub.status.busy": "2022-12-19T13:13:33.554783Z",
     "iopub.status.idle": "2022-12-19T13:13:33.561985Z",
     "shell.execute_reply": "2022-12-19T13:13:33.562485Z"
    },
    "papermill": {
     "duration": 0.110037,
     "end_time": "2022-12-19T13:13:33.562661",
     "exception": false,
     "start_time": "2022-12-19T13:13:33.452624",
     "status": "completed"
    },
    "tags": []
   },
   "outputs": [
    {
     "data": {
      "text/plain": [
       "0      [Meine, Liebe, .., Sie, bilden, anscheinend, 🧐]\n",
       "1    [Karte, Gesicht, Frau, Merkel, Herr, spahn, ho...\n",
       "2    [Sie, kackbraune, Scheiße, blau, übermalen, kl...\n",
       "3                                                [666]\n",
       "4    [Junge, Verfolgung, ,, befeuern, Eigentumswohn...\n",
       "Name: c_text_tokens, dtype: object"
      ]
     },
     "execution_count": 20,
     "metadata": {},
     "output_type": "execute_result"
    }
   ],
   "source": [
    "df['c_text_tokens'].head()"
   ]
  },
  {
   "cell_type": "markdown",
   "id": "06d8617e",
   "metadata": {
    "papermill": {
     "duration": 0.097948,
     "end_time": "2022-12-19T13:13:33.758753",
     "exception": false,
     "start_time": "2022-12-19T13:13:33.660805",
     "status": "completed"
    },
    "tags": []
   },
   "source": [
    "<a id='2-6'></a>\n",
    "### _Spelling corrections_"
   ]
  },
  {
   "cell_type": "markdown",
   "id": "213ee240",
   "metadata": {
    "papermill": {
     "duration": 0.09767,
     "end_time": "2022-12-19T13:13:33.954975",
     "exception": false,
     "start_time": "2022-12-19T13:13:33.857305",
     "status": "completed"
    },
    "tags": []
   },
   "source": [
    "<a id='2-7'></a>\n",
    "### _Remove # symbols while retaining the text_"
   ]
  },
  {
   "cell_type": "code",
   "execution_count": 21,
   "id": "91623368",
   "metadata": {
    "execution": {
     "iopub.execute_input": "2022-12-19T13:13:34.157704Z",
     "iopub.status.busy": "2022-12-19T13:13:34.156948Z",
     "iopub.status.idle": "2022-12-19T13:13:34.162256Z",
     "shell.execute_reply": "2022-12-19T13:13:34.162814Z"
    },
    "papermill": {
     "duration": 0.107992,
     "end_time": "2022-12-19T13:13:34.163005",
     "exception": false,
     "start_time": "2022-12-19T13:13:34.055013",
     "status": "completed"
    },
    "tags": []
   },
   "outputs": [
    {
     "data": {
      "text/plain": [
       "'winner machine i am learning'"
      ]
     },
     "execution_count": 21,
     "metadata": {},
     "output_type": "execute_result"
    }
   ],
   "source": [
    "#try tremoving # symbols from a sample text\n",
    "sample = '#winner #machine i am learning'\n",
    "pattern = re.compile(r'#')\n",
    "re.sub(pattern,'',sample)"
   ]
  },
  {
   "cell_type": "code",
   "execution_count": 22,
   "id": "d06200f8",
   "metadata": {
    "execution": {
     "iopub.execute_input": "2022-12-19T13:13:34.366494Z",
     "iopub.status.busy": "2022-12-19T13:13:34.365037Z",
     "iopub.status.idle": "2022-12-19T13:13:34.371240Z",
     "shell.execute_reply": "2022-12-19T13:13:34.371809Z"
    },
    "papermill": {
     "duration": 0.109948,
     "end_time": "2022-12-19T13:13:34.372031",
     "exception": false,
     "start_time": "2022-12-19T13:13:34.262083",
     "status": "completed"
    },
    "tags": []
   },
   "outputs": [],
   "source": [
    "def remove_hashsymbols(text):\n",
    "    '''Function to remove the hashtag symbol from the text'''\n",
    "    pattern = re.compile(r'#')\n",
    "    text = ' '.join(text)\n",
    "    clean_text = re.sub(pattern,'',text)\n",
    "    return tokenizer.tokenize(clean_text)    "
   ]
  },
  {
   "cell_type": "code",
   "execution_count": 23,
   "id": "df4d91ad",
   "metadata": {
    "execution": {
     "iopub.execute_input": "2022-12-19T13:13:34.617712Z",
     "iopub.status.busy": "2022-12-19T13:13:34.612703Z",
     "iopub.status.idle": "2022-12-19T13:13:35.201204Z",
     "shell.execute_reply": "2022-12-19T13:13:35.200630Z"
    },
    "papermill": {
     "duration": 0.729414,
     "end_time": "2022-12-19T13:13:35.201350",
     "exception": false,
     "start_time": "2022-12-19T13:13:34.471936",
     "status": "completed"
    },
    "tags": []
   },
   "outputs": [],
   "source": [
    "df['c_text_tokens'] = df['c_text_tokens'].apply(remove_hashsymbols)"
   ]
  },
  {
   "cell_type": "code",
   "execution_count": 24,
   "id": "4277f550",
   "metadata": {
    "execution": {
     "iopub.execute_input": "2022-12-19T13:13:35.411580Z",
     "iopub.status.busy": "2022-12-19T13:13:35.410622Z",
     "iopub.status.idle": "2022-12-19T13:13:35.415278Z",
     "shell.execute_reply": "2022-12-19T13:13:35.414651Z"
    },
    "papermill": {
     "duration": 0.115376,
     "end_time": "2022-12-19T13:13:35.415440",
     "exception": false,
     "start_time": "2022-12-19T13:13:35.300064",
     "status": "completed"
    },
    "tags": []
   },
   "outputs": [
    {
     "data": {
      "text/html": [
       "<div>\n",
       "<style scoped>\n",
       "    .dataframe tbody tr th:only-of-type {\n",
       "        vertical-align: middle;\n",
       "    }\n",
       "\n",
       "    .dataframe tbody tr th {\n",
       "        vertical-align: top;\n",
       "    }\n",
       "\n",
       "    .dataframe thead th {\n",
       "        text-align: right;\n",
       "    }\n",
       "</style>\n",
       "<table border=\"1\" class=\"dataframe\">\n",
       "  <thead>\n",
       "    <tr style=\"text-align: right;\">\n",
       "      <th></th>\n",
       "      <th>c_text</th>\n",
       "      <th>target</th>\n",
       "      <th>c_text_tokens</th>\n",
       "    </tr>\n",
       "  </thead>\n",
       "  <tbody>\n",
       "    <tr>\n",
       "      <th>0</th>\n",
       "      <td>Meine Liebe.. Sie bilden sich anscheinend a...</td>\n",
       "      <td>person</td>\n",
       "      <td>[Meine, Liebe, .., Sie, bilden, anscheinend, 🧐]</td>\n",
       "    </tr>\n",
       "    <tr>\n",
       "      <th>1</th>\n",
       "      <td>Die Karte muss in Gesicht von Frau Merkel und...</td>\n",
       "      <td>person</td>\n",
       "      <td>[Karte, Gesicht, Frau, Merkel, Herr, spahn, ho...</td>\n",
       "    </tr>\n",
       "    <tr>\n",
       "      <th>2</th>\n",
       "      <td>Wenn Sie kackbraune Scheiße blau übermalen w...</td>\n",
       "      <td>group</td>\n",
       "      <td>[Sie, kackbraune, Scheiße, blau, übermalen, kl...</td>\n",
       "    </tr>\n",
       "  </tbody>\n",
       "</table>\n",
       "</div>"
      ],
      "text/plain": [
       "                                              c_text  target  \\\n",
       "0     Meine Liebe.. Sie bilden sich anscheinend a...  person   \n",
       "1   Die Karte muss in Gesicht von Frau Merkel und...  person   \n",
       "2    Wenn Sie kackbraune Scheiße blau übermalen w...   group   \n",
       "\n",
       "                                       c_text_tokens  \n",
       "0    [Meine, Liebe, .., Sie, bilden, anscheinend, 🧐]  \n",
       "1  [Karte, Gesicht, Frau, Merkel, Herr, spahn, ho...  \n",
       "2  [Sie, kackbraune, Scheiße, blau, übermalen, kl...  "
      ]
     },
     "execution_count": 24,
     "metadata": {},
     "output_type": "execute_result"
    }
   ],
   "source": [
    "df.head(3)"
   ]
  },
  {
   "cell_type": "markdown",
   "id": "4cfbd492",
   "metadata": {
    "papermill": {
     "duration": 0.099372,
     "end_time": "2022-12-19T13:13:35.616414",
     "exception": false,
     "start_time": "2022-12-19T13:13:35.517042",
     "status": "completed"
    },
    "tags": []
   },
   "source": [
    "<a id='2-9'></a>\n",
    "### _Remove digits_"
   ]
  },
  {
   "cell_type": "code",
   "execution_count": 25,
   "id": "cef61fc9",
   "metadata": {
    "execution": {
     "iopub.execute_input": "2022-12-19T13:13:35.819587Z",
     "iopub.status.busy": "2022-12-19T13:13:35.818633Z",
     "iopub.status.idle": "2022-12-19T13:13:35.823290Z",
     "shell.execute_reply": "2022-12-19T13:13:35.823804Z"
    },
    "papermill": {
     "duration": 0.107762,
     "end_time": "2022-12-19T13:13:35.823982",
     "exception": false,
     "start_time": "2022-12-19T13:13:35.716220",
     "status": "completed"
    },
    "tags": []
   },
   "outputs": [],
   "source": [
    "def rem_digits(text):\n",
    "    '''Function to remove the digits from the list of strings'''\n",
    "    no_digits = []\n",
    "    for word in text:\n",
    "        no_digits.append(re.sub(r'\\d','',word))\n",
    "    return ' '.join(no_digits)   "
   ]
  },
  {
   "cell_type": "code",
   "execution_count": 26,
   "id": "f8649854",
   "metadata": {
    "execution": {
     "iopub.execute_input": "2022-12-19T13:13:36.029731Z",
     "iopub.status.busy": "2022-12-19T13:13:36.029069Z",
     "iopub.status.idle": "2022-12-19T13:13:36.299930Z",
     "shell.execute_reply": "2022-12-19T13:13:36.300405Z"
    },
    "papermill": {
     "duration": 0.375793,
     "end_time": "2022-12-19T13:13:36.300624",
     "exception": false,
     "start_time": "2022-12-19T13:13:35.924831",
     "status": "completed"
    },
    "tags": []
   },
   "outputs": [],
   "source": [
    "df['c_text_tokens'] = df['c_text_tokens'].apply(rem_digits)"
   ]
  },
  {
   "cell_type": "code",
   "execution_count": 27,
   "id": "1b0869d4",
   "metadata": {
    "execution": {
     "iopub.execute_input": "2022-12-19T13:13:36.507658Z",
     "iopub.status.busy": "2022-12-19T13:13:36.506967Z",
     "iopub.status.idle": "2022-12-19T13:13:37.056947Z",
     "shell.execute_reply": "2022-12-19T13:13:37.056378Z"
    },
    "papermill": {
     "duration": 0.655523,
     "end_time": "2022-12-19T13:13:37.057106",
     "exception": false,
     "start_time": "2022-12-19T13:13:36.401583",
     "status": "completed"
    },
    "tags": []
   },
   "outputs": [],
   "source": [
    "df['c_text_tokens'] = df['c_text_tokens'].apply(tokenizer.tokenize)"
   ]
  },
  {
   "cell_type": "code",
   "execution_count": 28,
   "id": "402927be",
   "metadata": {
    "execution": {
     "iopub.execute_input": "2022-12-19T13:13:37.273404Z",
     "iopub.status.busy": "2022-12-19T13:13:37.272738Z",
     "iopub.status.idle": "2022-12-19T13:13:37.276928Z",
     "shell.execute_reply": "2022-12-19T13:13:37.276402Z"
    },
    "papermill": {
     "duration": 0.117508,
     "end_time": "2022-12-19T13:13:37.277093",
     "exception": false,
     "start_time": "2022-12-19T13:13:37.159585",
     "status": "completed"
    },
    "tags": []
   },
   "outputs": [
    {
     "data": {
      "text/html": [
       "<div>\n",
       "<style scoped>\n",
       "    .dataframe tbody tr th:only-of-type {\n",
       "        vertical-align: middle;\n",
       "    }\n",
       "\n",
       "    .dataframe tbody tr th {\n",
       "        vertical-align: top;\n",
       "    }\n",
       "\n",
       "    .dataframe thead th {\n",
       "        text-align: right;\n",
       "    }\n",
       "</style>\n",
       "<table border=\"1\" class=\"dataframe\">\n",
       "  <thead>\n",
       "    <tr style=\"text-align: right;\">\n",
       "      <th></th>\n",
       "      <th>c_text</th>\n",
       "      <th>target</th>\n",
       "      <th>c_text_tokens</th>\n",
       "    </tr>\n",
       "  </thead>\n",
       "  <tbody>\n",
       "    <tr>\n",
       "      <th>0</th>\n",
       "      <td>Meine Liebe.. Sie bilden sich anscheinend a...</td>\n",
       "      <td>person</td>\n",
       "      <td>[Meine, Liebe, .., Sie, bilden, anscheinend, 🧐]</td>\n",
       "    </tr>\n",
       "    <tr>\n",
       "      <th>1</th>\n",
       "      <td>Die Karte muss in Gesicht von Frau Merkel und...</td>\n",
       "      <td>person</td>\n",
       "      <td>[Karte, Gesicht, Frau, Merkel, Herr, spahn, ho...</td>\n",
       "    </tr>\n",
       "    <tr>\n",
       "      <th>2</th>\n",
       "      <td>Wenn Sie kackbraune Scheiße blau übermalen w...</td>\n",
       "      <td>group</td>\n",
       "      <td>[Sie, kackbraune, Scheiße, blau, übermalen, kl...</td>\n",
       "    </tr>\n",
       "    <tr>\n",
       "      <th>3</th>\n",
       "      <td>666</td>\n",
       "      <td>public</td>\n",
       "      <td>[]</td>\n",
       "    </tr>\n",
       "    <tr>\n",
       "      <th>4</th>\n",
       "      <td>Junge was für Verfolgung, die befeuern aus ih...</td>\n",
       "      <td>person</td>\n",
       "      <td>[Junge, Verfolgung, ,, befeuern, Eigentumswohn...</td>\n",
       "    </tr>\n",
       "  </tbody>\n",
       "</table>\n",
       "</div>"
      ],
      "text/plain": [
       "                                              c_text  target  \\\n",
       "0     Meine Liebe.. Sie bilden sich anscheinend a...  person   \n",
       "1   Die Karte muss in Gesicht von Frau Merkel und...  person   \n",
       "2    Wenn Sie kackbraune Scheiße blau übermalen w...   group   \n",
       "3                                                666  public   \n",
       "4   Junge was für Verfolgung, die befeuern aus ih...  person   \n",
       "\n",
       "                                       c_text_tokens  \n",
       "0    [Meine, Liebe, .., Sie, bilden, anscheinend, 🧐]  \n",
       "1  [Karte, Gesicht, Frau, Merkel, Herr, spahn, ho...  \n",
       "2  [Sie, kackbraune, Scheiße, blau, übermalen, kl...  \n",
       "3                                                 []  \n",
       "4  [Junge, Verfolgung, ,, befeuern, Eigentumswohn...  "
      ]
     },
     "execution_count": 28,
     "metadata": {},
     "output_type": "execute_result"
    }
   ],
   "source": [
    "df.head()"
   ]
  },
  {
   "cell_type": "markdown",
   "id": "7f1ec4d5",
   "metadata": {
    "papermill": {
     "duration": 0.101263,
     "end_time": "2022-12-19T13:13:37.480074",
     "exception": false,
     "start_time": "2022-12-19T13:13:37.378811",
     "status": "completed"
    },
    "tags": []
   },
   "source": [
    "### Remove Emojis"
   ]
  },
  {
   "cell_type": "code",
   "execution_count": 29,
   "id": "872e2436",
   "metadata": {
    "execution": {
     "iopub.execute_input": "2022-12-19T13:13:37.694554Z",
     "iopub.status.busy": "2022-12-19T13:13:37.693418Z",
     "iopub.status.idle": "2022-12-19T13:13:37.695926Z",
     "shell.execute_reply": "2022-12-19T13:13:37.696566Z"
    },
    "papermill": {
     "duration": 0.114209,
     "end_time": "2022-12-19T13:13:37.696746",
     "exception": false,
     "start_time": "2022-12-19T13:13:37.582537",
     "status": "completed"
    },
    "tags": []
   },
   "outputs": [],
   "source": [
    "emoji_pattern = re.compile(\n",
    "        \"[\"\n",
    "        u\"\\U0001F600-\\U0001F64F\" # emoticons\n",
    "        u\"\\U0001F300-\\U0001F5FF\" # symbols & pictographs\n",
    "        u\"\\U0001F680-\\U0001F6FF\" # transport & map symbols\n",
    "        u\"\\U0001F1E0-\\U0001F1FF\" # flags (iOS)\n",
    "        u\"\\U00002500-\\U00002BEF\" # chinese char\n",
    "        u\"\\U00002702-\\U000027B0\"\n",
    "        u\"\\U00002702-\\U000027B0\"\n",
    "        u\"\\U000024C2-\\U0001F251\"\n",
    "        u\"\\U0001f926-\\U0001f937\"\n",
    "        u\"\\U00010000-\\U0010ffff\"\n",
    "        u\"\\u2640-\\u2642\"\n",
    "        u\"\\u2600-\\u2B55\"\n",
    "        u\"\\u200d\"\n",
    "        u\"\\u23cf\"\n",
    "        u\"\\u23e9\"\n",
    "        u\"\\u231a\"\n",
    "        u\"\\ufe0f\" # dingbats\n",
    "        u\"\\u3030\"\n",
    "        \"]+\", \n",
    "        flags=re.UNICODE,\n",
    "    )\n",
    "\n",
    "def rem_emojis(text):\n",
    "    '''Function to remove the emojis from the list of strings'''\n",
    "    no_emojis = []\n",
    "    for word in text:\n",
    "        no_emojis.append(re.sub(emoji_pattern,'',word))\n",
    "    return ' '.join(no_emojis)   "
   ]
  },
  {
   "cell_type": "code",
   "execution_count": 30,
   "id": "426751ed",
   "metadata": {
    "execution": {
     "iopub.execute_input": "2022-12-19T13:13:37.973996Z",
     "iopub.status.busy": "2022-12-19T13:13:37.972996Z",
     "iopub.status.idle": "2022-12-19T13:13:38.444925Z",
     "shell.execute_reply": "2022-12-19T13:13:38.444147Z"
    },
    "papermill": {
     "duration": 0.63053,
     "end_time": "2022-12-19T13:13:38.445098",
     "exception": false,
     "start_time": "2022-12-19T13:13:37.814568",
     "status": "completed"
    },
    "tags": []
   },
   "outputs": [],
   "source": [
    "df['c_text_tokens'] = df['c_text_tokens'].apply(rem_emojis)"
   ]
  },
  {
   "cell_type": "code",
   "execution_count": 31,
   "id": "7ff90255",
   "metadata": {
    "execution": {
     "iopub.execute_input": "2022-12-19T13:13:38.670025Z",
     "iopub.status.busy": "2022-12-19T13:13:38.669096Z",
     "iopub.status.idle": "2022-12-19T13:13:39.199923Z",
     "shell.execute_reply": "2022-12-19T13:13:39.199316Z"
    },
    "papermill": {
     "duration": 0.650361,
     "end_time": "2022-12-19T13:13:39.200083",
     "exception": false,
     "start_time": "2022-12-19T13:13:38.549722",
     "status": "completed"
    },
    "tags": []
   },
   "outputs": [],
   "source": [
    "df['c_text_tokens'] = df['c_text_tokens'].apply(tokenizer.tokenize)"
   ]
  },
  {
   "cell_type": "code",
   "execution_count": 32,
   "id": "076216cb",
   "metadata": {
    "execution": {
     "iopub.execute_input": "2022-12-19T13:13:39.415875Z",
     "iopub.status.busy": "2022-12-19T13:13:39.405382Z",
     "iopub.status.idle": "2022-12-19T13:13:39.419415Z",
     "shell.execute_reply": "2022-12-19T13:13:39.419893Z"
    },
    "papermill": {
     "duration": 0.118868,
     "end_time": "2022-12-19T13:13:39.420086",
     "exception": false,
     "start_time": "2022-12-19T13:13:39.301218",
     "status": "completed"
    },
    "tags": []
   },
   "outputs": [
    {
     "data": {
      "text/html": [
       "<div>\n",
       "<style scoped>\n",
       "    .dataframe tbody tr th:only-of-type {\n",
       "        vertical-align: middle;\n",
       "    }\n",
       "\n",
       "    .dataframe tbody tr th {\n",
       "        vertical-align: top;\n",
       "    }\n",
       "\n",
       "    .dataframe thead th {\n",
       "        text-align: right;\n",
       "    }\n",
       "</style>\n",
       "<table border=\"1\" class=\"dataframe\">\n",
       "  <thead>\n",
       "    <tr style=\"text-align: right;\">\n",
       "      <th></th>\n",
       "      <th>c_text</th>\n",
       "      <th>target</th>\n",
       "      <th>c_text_tokens</th>\n",
       "    </tr>\n",
       "  </thead>\n",
       "  <tbody>\n",
       "    <tr>\n",
       "      <th>0</th>\n",
       "      <td>Meine Liebe.. Sie bilden sich anscheinend a...</td>\n",
       "      <td>person</td>\n",
       "      <td>[Meine, Liebe, .., Sie, bilden, anscheinend]</td>\n",
       "    </tr>\n",
       "    <tr>\n",
       "      <th>1</th>\n",
       "      <td>Die Karte muss in Gesicht von Frau Merkel und...</td>\n",
       "      <td>person</td>\n",
       "      <td>[Karte, Gesicht, Frau, Merkel, Herr, spahn, ho...</td>\n",
       "    </tr>\n",
       "    <tr>\n",
       "      <th>2</th>\n",
       "      <td>Wenn Sie kackbraune Scheiße blau übermalen w...</td>\n",
       "      <td>group</td>\n",
       "      <td>[Sie, kackbraune, Scheiße, blau, übermalen, kl...</td>\n",
       "    </tr>\n",
       "    <tr>\n",
       "      <th>3</th>\n",
       "      <td>666</td>\n",
       "      <td>public</td>\n",
       "      <td>[]</td>\n",
       "    </tr>\n",
       "    <tr>\n",
       "      <th>4</th>\n",
       "      <td>Junge was für Verfolgung, die befeuern aus ih...</td>\n",
       "      <td>person</td>\n",
       "      <td>[Junge, Verfolgung, ,, befeuern, Eigentumswohn...</td>\n",
       "    </tr>\n",
       "  </tbody>\n",
       "</table>\n",
       "</div>"
      ],
      "text/plain": [
       "                                              c_text  target  \\\n",
       "0     Meine Liebe.. Sie bilden sich anscheinend a...  person   \n",
       "1   Die Karte muss in Gesicht von Frau Merkel und...  person   \n",
       "2    Wenn Sie kackbraune Scheiße blau übermalen w...   group   \n",
       "3                                                666  public   \n",
       "4   Junge was für Verfolgung, die befeuern aus ih...  person   \n",
       "\n",
       "                                       c_text_tokens  \n",
       "0       [Meine, Liebe, .., Sie, bilden, anscheinend]  \n",
       "1  [Karte, Gesicht, Frau, Merkel, Herr, spahn, ho...  \n",
       "2  [Sie, kackbraune, Scheiße, blau, übermalen, kl...  \n",
       "3                                                 []  \n",
       "4  [Junge, Verfolgung, ,, befeuern, Eigentumswohn...  "
      ]
     },
     "execution_count": 32,
     "metadata": {},
     "output_type": "execute_result"
    }
   ],
   "source": [
    "df.head()"
   ]
  },
  {
   "cell_type": "markdown",
   "id": "72e96c66",
   "metadata": {
    "papermill": {
     "duration": 0.100644,
     "end_time": "2022-12-19T13:13:39.622458",
     "exception": false,
     "start_time": "2022-12-19T13:13:39.521814",
     "status": "completed"
    },
    "tags": []
   },
   "source": [
    "### Remove Punctuation"
   ]
  },
  {
   "cell_type": "code",
   "execution_count": 33,
   "id": "0a44e17b",
   "metadata": {
    "execution": {
     "iopub.execute_input": "2022-12-19T13:13:39.828447Z",
     "iopub.status.busy": "2022-12-19T13:13:39.827772Z",
     "iopub.status.idle": "2022-12-19T13:13:39.832576Z",
     "shell.execute_reply": "2022-12-19T13:13:39.832036Z"
    },
    "papermill": {
     "duration": 0.108826,
     "end_time": "2022-12-19T13:13:39.832723",
     "exception": false,
     "start_time": "2022-12-19T13:13:39.723897",
     "status": "completed"
    },
    "tags": []
   },
   "outputs": [],
   "source": [
    "\n",
    "def rem_punctuation(text):\n",
    "    '''Function to remove the punctuation from the list of strings'''\n",
    "    no_punc = []\n",
    "    for word in text:\n",
    "        no_punc.append(re.sub(r'[^\\w\\s]','',word))\n",
    "    return ' '.join(no_punc)   "
   ]
  },
  {
   "cell_type": "code",
   "execution_count": 34,
   "id": "621a439f",
   "metadata": {
    "execution": {
     "iopub.execute_input": "2022-12-19T13:13:40.045616Z",
     "iopub.status.busy": "2022-12-19T13:13:40.044681Z",
     "iopub.status.idle": "2022-12-19T13:13:40.302639Z",
     "shell.execute_reply": "2022-12-19T13:13:40.301969Z"
    },
    "papermill": {
     "duration": 0.369208,
     "end_time": "2022-12-19T13:13:40.302803",
     "exception": false,
     "start_time": "2022-12-19T13:13:39.933595",
     "status": "completed"
    },
    "tags": []
   },
   "outputs": [],
   "source": [
    "df['c_text_tokens'] = df['c_text_tokens'].apply(rem_punctuation)"
   ]
  },
  {
   "cell_type": "code",
   "execution_count": 35,
   "id": "45a45ca7",
   "metadata": {
    "execution": {
     "iopub.execute_input": "2022-12-19T13:13:40.511485Z",
     "iopub.status.busy": "2022-12-19T13:13:40.510792Z",
     "iopub.status.idle": "2022-12-19T13:13:40.982895Z",
     "shell.execute_reply": "2022-12-19T13:13:40.983365Z"
    },
    "papermill": {
     "duration": 0.579275,
     "end_time": "2022-12-19T13:13:40.983587",
     "exception": false,
     "start_time": "2022-12-19T13:13:40.404312",
     "status": "completed"
    },
    "tags": []
   },
   "outputs": [],
   "source": [
    "df['c_text_tokens'] = df['c_text_tokens'].apply(tokenizer.tokenize)"
   ]
  },
  {
   "cell_type": "code",
   "execution_count": 36,
   "id": "dbf23bbb",
   "metadata": {
    "execution": {
     "iopub.execute_input": "2022-12-19T13:13:41.199759Z",
     "iopub.status.busy": "2022-12-19T13:13:41.199043Z",
     "iopub.status.idle": "2022-12-19T13:13:41.201821Z",
     "shell.execute_reply": "2022-12-19T13:13:41.202299Z"
    },
    "papermill": {
     "duration": 0.116611,
     "end_time": "2022-12-19T13:13:41.202490",
     "exception": false,
     "start_time": "2022-12-19T13:13:41.085879",
     "status": "completed"
    },
    "tags": []
   },
   "outputs": [
    {
     "data": {
      "text/html": [
       "<div>\n",
       "<style scoped>\n",
       "    .dataframe tbody tr th:only-of-type {\n",
       "        vertical-align: middle;\n",
       "    }\n",
       "\n",
       "    .dataframe tbody tr th {\n",
       "        vertical-align: top;\n",
       "    }\n",
       "\n",
       "    .dataframe thead th {\n",
       "        text-align: right;\n",
       "    }\n",
       "</style>\n",
       "<table border=\"1\" class=\"dataframe\">\n",
       "  <thead>\n",
       "    <tr style=\"text-align: right;\">\n",
       "      <th></th>\n",
       "      <th>c_text</th>\n",
       "      <th>target</th>\n",
       "      <th>c_text_tokens</th>\n",
       "    </tr>\n",
       "  </thead>\n",
       "  <tbody>\n",
       "    <tr>\n",
       "      <th>0</th>\n",
       "      <td>Meine Liebe.. Sie bilden sich anscheinend a...</td>\n",
       "      <td>person</td>\n",
       "      <td>[Meine, Liebe, Sie, bilden, anscheinend]</td>\n",
       "    </tr>\n",
       "    <tr>\n",
       "      <th>1</th>\n",
       "      <td>Die Karte muss in Gesicht von Frau Merkel und...</td>\n",
       "      <td>person</td>\n",
       "      <td>[Karte, Gesicht, Frau, Merkel, Herr, spahn, ho...</td>\n",
       "    </tr>\n",
       "    <tr>\n",
       "      <th>2</th>\n",
       "      <td>Wenn Sie kackbraune Scheiße blau übermalen w...</td>\n",
       "      <td>group</td>\n",
       "      <td>[Sie, kackbraune, Scheiße, blau, übermalen, kl...</td>\n",
       "    </tr>\n",
       "    <tr>\n",
       "      <th>3</th>\n",
       "      <td>666</td>\n",
       "      <td>public</td>\n",
       "      <td>[]</td>\n",
       "    </tr>\n",
       "    <tr>\n",
       "      <th>4</th>\n",
       "      <td>Junge was für Verfolgung, die befeuern aus ih...</td>\n",
       "      <td>person</td>\n",
       "      <td>[Junge, Verfolgung, befeuern, Eigentumswohnung...</td>\n",
       "    </tr>\n",
       "  </tbody>\n",
       "</table>\n",
       "</div>"
      ],
      "text/plain": [
       "                                              c_text  target  \\\n",
       "0     Meine Liebe.. Sie bilden sich anscheinend a...  person   \n",
       "1   Die Karte muss in Gesicht von Frau Merkel und...  person   \n",
       "2    Wenn Sie kackbraune Scheiße blau übermalen w...   group   \n",
       "3                                                666  public   \n",
       "4   Junge was für Verfolgung, die befeuern aus ih...  person   \n",
       "\n",
       "                                       c_text_tokens  \n",
       "0           [Meine, Liebe, Sie, bilden, anscheinend]  \n",
       "1  [Karte, Gesicht, Frau, Merkel, Herr, spahn, ho...  \n",
       "2  [Sie, kackbraune, Scheiße, blau, übermalen, kl...  \n",
       "3                                                 []  \n",
       "4  [Junge, Verfolgung, befeuern, Eigentumswohnung...  "
      ]
     },
     "execution_count": 36,
     "metadata": {},
     "output_type": "execute_result"
    }
   ],
   "source": [
    "df.head()"
   ]
  },
  {
   "cell_type": "markdown",
   "id": "9f290bc9",
   "metadata": {
    "papermill": {
     "duration": 0.102408,
     "end_time": "2022-12-19T13:13:41.407311",
     "exception": false,
     "start_time": "2022-12-19T13:13:41.304903",
     "status": "completed"
    },
    "tags": []
   },
   "source": [
    "<a id='3'></a>\n",
    "## _Exploratory Data Analysis - Broad Approach_"
   ]
  },
  {
   "cell_type": "markdown",
   "id": "db7cb39f",
   "metadata": {
    "papermill": {
     "duration": 0.102083,
     "end_time": "2022-12-19T13:13:41.614196",
     "exception": false,
     "start_time": "2022-12-19T13:13:41.512113",
     "status": "completed"
    },
    "tags": []
   },
   "source": [
    "<a id='3-1'></a>\n",
    "### _Check for data balance_"
   ]
  },
  {
   "cell_type": "code",
   "execution_count": 37,
   "id": "57e755ad",
   "metadata": {
    "execution": {
     "iopub.execute_input": "2022-12-19T13:13:41.822815Z",
     "iopub.status.busy": "2022-12-19T13:13:41.822105Z",
     "iopub.status.idle": "2022-12-19T13:13:41.990466Z",
     "shell.execute_reply": "2022-12-19T13:13:41.989763Z"
    },
    "papermill": {
     "duration": 0.273892,
     "end_time": "2022-12-19T13:13:41.990621",
     "exception": false,
     "start_time": "2022-12-19T13:13:41.716729",
     "status": "completed"
    },
    "tags": []
   },
   "outputs": [
    {
     "data": {
      "image/png": "[encoded data removed]",
      "text/plain": [
       "<Figure size 864x360 with 1 Axes>"
      ]
     },
     "metadata": {
      "needs_background": "light"
     },
     "output_type": "display_data"
    }
   ],
   "source": [
    "#plot of the count of hate and non hate tweet\n",
    "sns.countplot(df['target'])\n",
    "plt.title('Count of targets')\n",
    "plt.grid()\n",
    "plt.show()"
   ]
  },
  {
   "cell_type": "code",
   "execution_count": 38,
   "id": "38f6f826",
   "metadata": {
    "execution": {
     "iopub.execute_input": "2022-12-19T13:13:42.204986Z",
     "iopub.status.busy": "2022-12-19T13:13:42.204207Z",
     "iopub.status.idle": "2022-12-19T13:13:42.208287Z",
     "shell.execute_reply": "2022-12-19T13:13:42.207785Z"
    },
    "papermill": {
     "duration": 0.114538,
     "end_time": "2022-12-19T13:13:42.208458",
     "exception": false,
     "start_time": "2022-12-19T13:13:42.093920",
     "status": "completed"
    },
    "tags": []
   },
   "outputs": [
    {
     "data": {
      "text/plain": [
       "person    4609\n",
       "group     3502\n",
       "public    1970\n",
       "Name: target, dtype: int64"
      ]
     },
     "execution_count": 38,
     "metadata": {},
     "output_type": "execute_result"
    }
   ],
   "source": [
    "df['target'].value_counts()"
   ]
  },
  {
   "cell_type": "markdown",
   "id": "deb77b1f",
   "metadata": {
    "execution": {
     "iopub.execute_input": "2021-08-13T08:28:31.024391Z",
     "iopub.status.busy": "2021-08-13T08:28:31.023999Z",
     "iopub.status.idle": "2021-08-13T08:28:31.13622Z",
     "shell.execute_reply": "2021-08-13T08:28:31.135427Z",
     "shell.execute_reply.started": "2021-08-13T08:28:31.024358Z"
    },
    "papermill": {
     "duration": 0.10233,
     "end_time": "2022-12-19T13:13:42.413135",
     "exception": false,
     "start_time": "2022-12-19T13:13:42.310805",
     "status": "completed"
    },
    "tags": []
   },
   "source": [
    "<a id='3-2'></a>\n",
    "### _Check out the top terms in the tweets_"
   ]
  },
  {
   "cell_type": "code",
   "execution_count": 39,
   "id": "9ed12648",
   "metadata": {
    "execution": {
     "iopub.execute_input": "2022-12-19T13:13:42.631528Z",
     "iopub.status.busy": "2022-12-19T13:13:42.630818Z",
     "iopub.status.idle": "2022-12-19T13:13:42.683958Z",
     "shell.execute_reply": "2022-12-19T13:13:42.683297Z"
    },
    "papermill": {
     "duration": 0.167057,
     "end_time": "2022-12-19T13:13:42.684106",
     "exception": false,
     "start_time": "2022-12-19T13:13:42.517049",
     "status": "completed"
    },
    "tags": []
   },
   "outputs": [
    {
     "name": "stdout",
     "output_type": "stream",
     "text": [
      "[('Sie', 2095), ('Ich', 1436), ('Du', 681), ('Es', 533), ('Querdenker', 528), ('Was', 459), ('Menschen', 458), ('AfD', 400), ('einfach', 398), ('Der', 396)]\n"
     ]
    }
   ],
   "source": [
    "from collections import Counter\n",
    "results = Counter()\n",
    "df['c_text_tokens'].apply(results.update)\n",
    "#print the top 10 most common terms in the tweet \n",
    "print(results.most_common(10))"
   ]
  },
  {
   "cell_type": "code",
   "execution_count": 40,
   "id": "ef99f481",
   "metadata": {
    "execution": {
     "iopub.execute_input": "2022-12-19T13:13:42.899292Z",
     "iopub.status.busy": "2022-12-19T13:13:42.898655Z",
     "iopub.status.idle": "2022-12-19T13:13:43.079531Z",
     "shell.execute_reply": "2022-12-19T13:13:43.079009Z"
    },
    "papermill": {
     "duration": 0.292013,
     "end_time": "2022-12-19T13:13:43.079682",
     "exception": false,
     "start_time": "2022-12-19T13:13:42.787669",
     "status": "completed"
    },
    "tags": []
   },
   "outputs": [
    {
     "data": {
      "image/png": "[encoded data removed]",
      "text/plain": [
       "<Figure size 864x360 with 1 Axes>"
      ]
     },
     "metadata": {
      "needs_background": "light"
     },
     "output_type": "display_data"
    }
   ],
   "source": [
    "#plot the cumulative frequency of the top 10 most common tokens \n",
    "frequency = nltk.FreqDist(results)\n",
    "plt.title('Top 10 Most Common Terms')\n",
    "frequency.plot(10,cumulative=True)\n",
    "plt.show()"
   ]
  },
  {
   "cell_type": "markdown",
   "id": "e8bbf663",
   "metadata": {
    "papermill": {
     "duration": 0.10447,
     "end_time": "2022-12-19T13:13:43.288546",
     "exception": false,
     "start_time": "2022-12-19T13:13:43.184076",
     "status": "completed"
    },
    "tags": []
   },
   "source": [
    "Die, Das, Und, mal, ja, schon, mehr"
   ]
  },
  {
   "cell_type": "code",
   "execution_count": 41,
   "id": "3ede007a",
   "metadata": {
    "execution": {
     "iopub.execute_input": "2022-12-19T13:13:43.570847Z",
     "iopub.status.busy": "2022-12-19T13:13:43.536380Z",
     "iopub.status.idle": "2022-12-19T13:13:43.699512Z",
     "shell.execute_reply": "2022-12-19T13:13:43.698548Z"
    },
    "papermill": {
     "duration": 0.304718,
     "end_time": "2022-12-19T13:13:43.699669",
     "exception": false,
     "start_time": "2022-12-19T13:13:43.394951",
     "status": "completed"
    },
    "tags": []
   },
   "outputs": [
    {
     "data": {
      "image/png": "[encoded data removed]",
      "text/plain": [
       "<Figure size 864x360 with 1 Axes>"
      ]
     },
     "metadata": {
      "needs_background": "light"
     },
     "output_type": "display_data"
    }
   ],
   "source": [
    "#plot the frequency of the top 10 most common tokens \n",
    "frequency = nltk.FreqDist(results)\n",
    "plt.title('Top 10 Most Common Terms')\n",
    "frequency.plot(10,cumulative=False)\n",
    "plt.show()"
   ]
  },
  {
   "cell_type": "markdown",
   "id": "8919d35a",
   "metadata": {
    "papermill": {
     "duration": 0.105492,
     "end_time": "2022-12-19T13:13:43.912046",
     "exception": false,
     "start_time": "2022-12-19T13:13:43.806554",
     "status": "completed"
    },
    "tags": []
   },
   "source": [
    "_Love is the most frequently used word followed by day, happy etc. This is expected as there are more non hate tweets than hate tweets in the dataset_"
   ]
  },
  {
   "cell_type": "markdown",
   "id": "af6eaefb",
   "metadata": {
    "papermill": {
     "duration": 0.105524,
     "end_time": "2022-12-19T13:13:44.124595",
     "exception": false,
     "start_time": "2022-12-19T13:13:44.019071",
     "status": "completed"
    },
    "tags": []
   },
   "source": [
    "<a id='4'></a>\n",
    "## _Predictive Modeling_"
   ]
  },
  {
   "cell_type": "markdown",
   "id": "83732cf9",
   "metadata": {
    "papermill": {
     "duration": 0.109898,
     "end_time": "2022-12-19T13:13:44.342568",
     "exception": false,
     "start_time": "2022-12-19T13:13:44.232670",
     "status": "completed"
    },
    "tags": []
   },
   "source": [
    "### _Data Formatting for Predictive Modeling_"
   ]
  },
  {
   "cell_type": "code",
   "execution_count": 42,
   "id": "d9b230da",
   "metadata": {
    "execution": {
     "iopub.execute_input": "2022-12-19T13:13:44.571137Z",
     "iopub.status.busy": "2022-12-19T13:13:44.570467Z",
     "iopub.status.idle": "2022-12-19T13:13:44.574977Z",
     "shell.execute_reply": "2022-12-19T13:13:44.574326Z"
    },
    "papermill": {
     "duration": 0.125259,
     "end_time": "2022-12-19T13:13:44.575125",
     "exception": false,
     "start_time": "2022-12-19T13:13:44.449866",
     "status": "completed"
    },
    "tags": []
   },
   "outputs": [
    {
     "data": {
      "text/html": [
       "<div>\n",
       "<style scoped>\n",
       "    .dataframe tbody tr th:only-of-type {\n",
       "        vertical-align: middle;\n",
       "    }\n",
       "\n",
       "    .dataframe tbody tr th {\n",
       "        vertical-align: top;\n",
       "    }\n",
       "\n",
       "    .dataframe thead th {\n",
       "        text-align: right;\n",
       "    }\n",
       "</style>\n",
       "<table border=\"1\" class=\"dataframe\">\n",
       "  <thead>\n",
       "    <tr style=\"text-align: right;\">\n",
       "      <th></th>\n",
       "      <th>c_text</th>\n",
       "      <th>target</th>\n",
       "      <th>c_text_tokens</th>\n",
       "    </tr>\n",
       "  </thead>\n",
       "  <tbody>\n",
       "    <tr>\n",
       "      <th>0</th>\n",
       "      <td>Meine Liebe.. Sie bilden sich anscheinend a...</td>\n",
       "      <td>person</td>\n",
       "      <td>[Meine, Liebe, Sie, bilden, anscheinend]</td>\n",
       "    </tr>\n",
       "    <tr>\n",
       "      <th>1</th>\n",
       "      <td>Die Karte muss in Gesicht von Frau Merkel und...</td>\n",
       "      <td>person</td>\n",
       "      <td>[Karte, Gesicht, Frau, Merkel, Herr, spahn, ho...</td>\n",
       "    </tr>\n",
       "    <tr>\n",
       "      <th>2</th>\n",
       "      <td>Wenn Sie kackbraune Scheiße blau übermalen w...</td>\n",
       "      <td>group</td>\n",
       "      <td>[Sie, kackbraune, Scheiße, blau, übermalen, kl...</td>\n",
       "    </tr>\n",
       "    <tr>\n",
       "      <th>3</th>\n",
       "      <td>666</td>\n",
       "      <td>public</td>\n",
       "      <td>[]</td>\n",
       "    </tr>\n",
       "    <tr>\n",
       "      <th>4</th>\n",
       "      <td>Junge was für Verfolgung, die befeuern aus ih...</td>\n",
       "      <td>person</td>\n",
       "      <td>[Junge, Verfolgung, befeuern, Eigentumswohnung...</td>\n",
       "    </tr>\n",
       "  </tbody>\n",
       "</table>\n",
       "</div>"
      ],
      "text/plain": [
       "                                              c_text  target  \\\n",
       "0     Meine Liebe.. Sie bilden sich anscheinend a...  person   \n",
       "1   Die Karte muss in Gesicht von Frau Merkel und...  person   \n",
       "2    Wenn Sie kackbraune Scheiße blau übermalen w...   group   \n",
       "3                                                666  public   \n",
       "4   Junge was für Verfolgung, die befeuern aus ih...  person   \n",
       "\n",
       "                                       c_text_tokens  \n",
       "0           [Meine, Liebe, Sie, bilden, anscheinend]  \n",
       "1  [Karte, Gesicht, Frau, Merkel, Herr, spahn, ho...  \n",
       "2  [Sie, kackbraune, Scheiße, blau, übermalen, kl...  \n",
       "3                                                 []  \n",
       "4  [Junge, Verfolgung, befeuern, Eigentumswohnung...  "
      ]
     },
     "execution_count": 42,
     "metadata": {},
     "output_type": "execute_result"
    }
   ],
   "source": [
    "df.head()"
   ]
  },
  {
   "cell_type": "code",
   "execution_count": 43,
   "id": "24ade427",
   "metadata": {
    "execution": {
     "iopub.execute_input": "2022-12-19T13:13:44.798364Z",
     "iopub.status.busy": "2022-12-19T13:13:44.797708Z",
     "iopub.status.idle": "2022-12-19T13:13:44.801331Z",
     "shell.execute_reply": "2022-12-19T13:13:44.800715Z"
    },
    "papermill": {
     "duration": 0.119886,
     "end_time": "2022-12-19T13:13:44.801501",
     "exception": false,
     "start_time": "2022-12-19T13:13:44.681615",
     "status": "completed"
    },
    "tags": []
   },
   "outputs": [
    {
     "data": {
      "text/plain": [
       "c_text           0\n",
       "target           0\n",
       "c_text_tokens    0\n",
       "dtype: int64"
      ]
     },
     "execution_count": 43,
     "metadata": {},
     "output_type": "execute_result"
    }
   ],
   "source": [
    "#check for the null values\n",
    "df.isnull().sum()"
   ]
  },
  {
   "cell_type": "code",
   "execution_count": 44,
   "id": "76d46a77",
   "metadata": {
    "execution": {
     "iopub.execute_input": "2022-12-19T13:13:45.037016Z",
     "iopub.status.busy": "2022-12-19T13:13:45.036349Z",
     "iopub.status.idle": "2022-12-19T13:13:45.039740Z",
     "shell.execute_reply": "2022-12-19T13:13:45.039108Z"
    },
    "papermill": {
     "duration": 0.125428,
     "end_time": "2022-12-19T13:13:45.039885",
     "exception": false,
     "start_time": "2022-12-19T13:13:44.914457",
     "status": "completed"
    },
    "tags": []
   },
   "outputs": [],
   "source": [
    "#join the tokens back to form the string\n",
    "df['tweet'] = df['c_text_tokens'].apply(lambda x: ' '.join(x))"
   ]
  },
  {
   "cell_type": "code",
   "execution_count": 45,
   "id": "412cd154",
   "metadata": {
    "execution": {
     "iopub.execute_input": "2022-12-19T13:13:45.261779Z",
     "iopub.status.busy": "2022-12-19T13:13:45.261102Z",
     "iopub.status.idle": "2022-12-19T13:13:45.269588Z",
     "shell.execute_reply": "2022-12-19T13:13:45.270089Z"
    },
    "papermill": {
     "duration": 0.12304,
     "end_time": "2022-12-19T13:13:45.270269",
     "exception": false,
     "start_time": "2022-12-19T13:13:45.147229",
     "status": "completed"
    },
    "tags": []
   },
   "outputs": [
    {
     "data": {
      "text/html": [
       "<div>\n",
       "<style scoped>\n",
       "    .dataframe tbody tr th:only-of-type {\n",
       "        vertical-align: middle;\n",
       "    }\n",
       "\n",
       "    .dataframe tbody tr th {\n",
       "        vertical-align: top;\n",
       "    }\n",
       "\n",
       "    .dataframe thead th {\n",
       "        text-align: right;\n",
       "    }\n",
       "</style>\n",
       "<table border=\"1\" class=\"dataframe\">\n",
       "  <thead>\n",
       "    <tr style=\"text-align: right;\">\n",
       "      <th></th>\n",
       "      <th>c_text</th>\n",
       "      <th>target</th>\n",
       "      <th>c_text_tokens</th>\n",
       "      <th>tweet</th>\n",
       "    </tr>\n",
       "  </thead>\n",
       "  <tbody>\n",
       "    <tr>\n",
       "      <th>0</th>\n",
       "      <td>Meine Liebe.. Sie bilden sich anscheinend a...</td>\n",
       "      <td>person</td>\n",
       "      <td>[Meine, Liebe, Sie, bilden, anscheinend]</td>\n",
       "      <td>Meine Liebe Sie bilden anscheinend</td>\n",
       "    </tr>\n",
       "    <tr>\n",
       "      <th>1</th>\n",
       "      <td>Die Karte muss in Gesicht von Frau Merkel und...</td>\n",
       "      <td>person</td>\n",
       "      <td>[Karte, Gesicht, Frau, Merkel, Herr, spahn, ho...</td>\n",
       "      <td>Karte Gesicht Frau Merkel Herr spahn hoch gezogen</td>\n",
       "    </tr>\n",
       "    <tr>\n",
       "      <th>2</th>\n",
       "      <td>Wenn Sie kackbraune Scheiße blau übermalen w...</td>\n",
       "      <td>group</td>\n",
       "      <td>[Sie, kackbraune, Scheiße, blau, übermalen, kl...</td>\n",
       "      <td>Sie kackbraune Scheiße blau übermalen kleine A...</td>\n",
       "    </tr>\n",
       "  </tbody>\n",
       "</table>\n",
       "</div>"
      ],
      "text/plain": [
       "                                              c_text  target  \\\n",
       "0     Meine Liebe.. Sie bilden sich anscheinend a...  person   \n",
       "1   Die Karte muss in Gesicht von Frau Merkel und...  person   \n",
       "2    Wenn Sie kackbraune Scheiße blau übermalen w...   group   \n",
       "\n",
       "                                       c_text_tokens  \\\n",
       "0           [Meine, Liebe, Sie, bilden, anscheinend]   \n",
       "1  [Karte, Gesicht, Frau, Merkel, Herr, spahn, ho...   \n",
       "2  [Sie, kackbraune, Scheiße, blau, übermalen, kl...   \n",
       "\n",
       "                                               tweet  \n",
       "0                 Meine Liebe Sie bilden anscheinend  \n",
       "1  Karte Gesicht Frau Merkel Herr spahn hoch gezogen  \n",
       "2  Sie kackbraune Scheiße blau übermalen kleine A...  "
      ]
     },
     "execution_count": 45,
     "metadata": {},
     "output_type": "execute_result"
    }
   ],
   "source": [
    "#check the top rows\n",
    "df.head(3)"
   ]
  },
  {
   "cell_type": "code",
   "execution_count": 46,
   "id": "44610a6f",
   "metadata": {
    "execution": {
     "iopub.execute_input": "2022-12-19T13:13:45.492094Z",
     "iopub.status.busy": "2022-12-19T13:13:45.491457Z",
     "iopub.status.idle": "2022-12-19T13:13:45.495103Z",
     "shell.execute_reply": "2022-12-19T13:13:45.495667Z"
    },
    "papermill": {
     "duration": 0.117478,
     "end_time": "2022-12-19T13:13:45.495841",
     "exception": false,
     "start_time": "2022-12-19T13:13:45.378363",
     "status": "completed"
    },
    "tags": []
   },
   "outputs": [],
   "source": [
    "#split the data into input X and output y\n",
    "X = df['tweet']\n",
    "y = df['target']"
   ]
  },
  {
   "cell_type": "code",
   "execution_count": 47,
   "id": "0bb8c721",
   "metadata": {
    "execution": {
     "iopub.execute_input": "2022-12-19T13:13:45.722567Z",
     "iopub.status.busy": "2022-12-19T13:13:45.721913Z",
     "iopub.status.idle": "2022-12-19T13:13:45.734196Z",
     "shell.execute_reply": "2022-12-19T13:13:45.733556Z"
    },
    "papermill": {
     "duration": 0.131049,
     "end_time": "2022-12-19T13:13:45.734339",
     "exception": false,
     "start_time": "2022-12-19T13:13:45.603290",
     "status": "completed"
    },
    "tags": []
   },
   "outputs": [
    {
     "name": "stdout",
     "output_type": "stream",
     "text": [
      "(8064,) (2017,) (8064,) (2017,)\n"
     ]
    }
   ],
   "source": [
    "#split the data \n",
    "from sklearn.model_selection import train_test_split\n",
    "seed = 51\n",
    "test_size = 0.2 #20% of the data in the \n",
    "X_train,X_test,y_train,y_test = train_test_split(X,y,test_size=0.2,random_state=seed,stratify=df['target'])\n",
    "print(X_train.shape,X_test.shape,y_train.shape,y_test.shape)"
   ]
  },
  {
   "cell_type": "markdown",
   "id": "65818bf8",
   "metadata": {
    "papermill": {
     "duration": 0.107149,
     "end_time": "2022-12-19T13:13:45.949149",
     "exception": false,
     "start_time": "2022-12-19T13:13:45.842000",
     "status": "completed"
    },
    "tags": []
   },
   "source": [
    "<a id='4-2'></a>\n",
    "### _Use tf-idf as a feature to get into the vector space model_\n"
   ]
  },
  {
   "cell_type": "code",
   "execution_count": 48,
   "id": "bf7d6756",
   "metadata": {
    "execution": {
     "iopub.execute_input": "2022-12-19T13:13:46.168199Z",
     "iopub.status.busy": "2022-12-19T13:13:46.167582Z",
     "iopub.status.idle": "2022-12-19T13:13:46.170708Z",
     "shell.execute_reply": "2022-12-19T13:13:46.170209Z"
    },
    "papermill": {
     "duration": 0.114731,
     "end_time": "2022-12-19T13:13:46.170852",
     "exception": false,
     "start_time": "2022-12-19T13:13:46.056121",
     "status": "completed"
    },
    "tags": []
   },
   "outputs": [],
   "source": [
    "#import tfidf vectorizer\n",
    "from sklearn.feature_extraction.text import TfidfVectorizer\n",
    "from sklearn.feature_extraction.text import TfidfTransformer"
   ]
  },
  {
   "cell_type": "code",
   "execution_count": 49,
   "id": "820e54d3",
   "metadata": {
    "execution": {
     "iopub.execute_input": "2022-12-19T13:13:46.394933Z",
     "iopub.status.busy": "2022-12-19T13:13:46.394248Z",
     "iopub.status.idle": "2022-12-19T13:13:46.396605Z",
     "shell.execute_reply": "2022-12-19T13:13:46.397205Z"
    },
    "papermill": {
     "duration": 0.119092,
     "end_time": "2022-12-19T13:13:46.397376",
     "exception": false,
     "start_time": "2022-12-19T13:13:46.278284",
     "status": "completed"
    },
    "tags": []
   },
   "outputs": [],
   "source": [
    "#instantiate the vectorizer \n",
    "vectorizer = TfidfVectorizer(max_features=5000)"
   ]
  },
  {
   "cell_type": "code",
   "execution_count": 50,
   "id": "9f951b8e",
   "metadata": {
    "execution": {
     "iopub.execute_input": "2022-12-19T13:13:46.619675Z",
     "iopub.status.busy": "2022-12-19T13:13:46.619019Z",
     "iopub.status.idle": "2022-12-19T13:13:46.875321Z",
     "shell.execute_reply": "2022-12-19T13:13:46.874787Z"
    },
    "papermill": {
     "duration": 0.367945,
     "end_time": "2022-12-19T13:13:46.875518",
     "exception": false,
     "start_time": "2022-12-19T13:13:46.507573",
     "status": "completed"
    },
    "tags": []
   },
   "outputs": [],
   "source": [
    "#fit on the training data\n",
    "X_train = vectorizer.fit_transform(X_train)\n",
    "#transform the test data\n",
    "X_test = vectorizer.transform(X_test)"
   ]
  },
  {
   "cell_type": "code",
   "execution_count": 51,
   "id": "2203adcf",
   "metadata": {
    "execution": {
     "iopub.execute_input": "2022-12-19T13:13:47.093086Z",
     "iopub.status.busy": "2022-12-19T13:13:47.092470Z",
     "iopub.status.idle": "2022-12-19T13:13:47.097403Z",
     "shell.execute_reply": "2022-12-19T13:13:47.098034Z"
    },
    "papermill": {
     "duration": 0.115434,
     "end_time": "2022-12-19T13:13:47.098208",
     "exception": false,
     "start_time": "2022-12-19T13:13:46.982774",
     "status": "completed"
    },
    "tags": []
   },
   "outputs": [
    {
     "data": {
      "text/plain": [
       "((8064, 5000), (2017, 5000))"
      ]
     },
     "execution_count": 51,
     "metadata": {},
     "output_type": "execute_result"
    }
   ],
   "source": [
    "#check the shape\n",
    "X_train.shape, X_test.shape"
   ]
  },
  {
   "cell_type": "code",
   "execution_count": 52,
   "id": "3d5ae87b",
   "metadata": {
    "execution": {
     "iopub.execute_input": "2022-12-19T13:13:47.317094Z",
     "iopub.status.busy": "2022-12-19T13:13:47.316416Z",
     "iopub.status.idle": "2022-12-19T13:13:47.563748Z",
     "shell.execute_reply": "2022-12-19T13:13:47.563052Z"
    },
    "papermill": {
     "duration": 0.357308,
     "end_time": "2022-12-19T13:13:47.563902",
     "exception": false,
     "start_time": "2022-12-19T13:13:47.206594",
     "status": "completed"
    },
    "tags": []
   },
   "outputs": [
    {
     "name": "stdout",
     "output_type": "stream",
     "text": [
      "Training target statistics: 0        public\n",
      "1        person\n",
      "2        person\n",
      "3        public\n",
      "4        public\n",
      "          ...  \n",
      "10170    public\n",
      "10171    public\n",
      "10172    public\n",
      "10173    public\n",
      "10174    public\n",
      "Name: target, Length: 10175, dtype: object\n",
      "Testing target statistics: 3434     public\n",
      "26889    person\n",
      "4922      group\n",
      "2312     public\n",
      "27130    person\n",
      "          ...  \n",
      "7698     person\n",
      "21890     group\n",
      "4458     person\n",
      "7696      group\n",
      "3319      group\n",
      "Name: target, Length: 2017, dtype: object\n"
     ]
    }
   ],
   "source": [
    "#RandomOverSampler\n",
    "from imblearn.over_sampling import RandomOverSampler\n",
    "over_sampler = RandomOverSampler(sampling_strategy='minority')\n",
    "X_res, y_res = over_sampler.fit_resample(X_train, y_train)\n",
    "print(f\"Training target statistics: {y_res}\")\n",
    "print(f\"Testing target statistics: {y_test}\")"
   ]
  },
  {
   "cell_type": "code",
   "execution_count": 53,
   "id": "3382d1d7",
   "metadata": {
    "execution": {
     "iopub.execute_input": "2022-12-19T13:13:47.785462Z",
     "iopub.status.busy": "2022-12-19T13:13:47.784659Z",
     "iopub.status.idle": "2022-12-19T13:13:47.787843Z",
     "shell.execute_reply": "2022-12-19T13:13:47.788342Z"
    },
    "papermill": {
     "duration": 0.116799,
     "end_time": "2022-12-19T13:13:47.788557",
     "exception": false,
     "start_time": "2022-12-19T13:13:47.671758",
     "status": "completed"
    },
    "tags": []
   },
   "outputs": [
    {
     "data": {
      "text/plain": [
       "((10175, 5000), (10175,))"
      ]
     },
     "execution_count": 53,
     "metadata": {},
     "output_type": "execute_result"
    }
   ],
   "source": [
    "X_res.shape, y_res.shape\n"
   ]
  },
  {
   "cell_type": "code",
   "execution_count": 54,
   "id": "6594b52b",
   "metadata": {
    "execution": {
     "iopub.execute_input": "2022-12-19T13:13:48.009075Z",
     "iopub.status.busy": "2022-12-19T13:13:48.008449Z",
     "iopub.status.idle": "2022-12-19T13:13:48.162239Z",
     "shell.execute_reply": "2022-12-19T13:13:48.161569Z"
    },
    "papermill": {
     "duration": 0.264375,
     "end_time": "2022-12-19T13:13:48.162392",
     "exception": false,
     "start_time": "2022-12-19T13:13:47.898017",
     "status": "completed"
    },
    "tags": []
   },
   "outputs": [
    {
     "data": {
      "image/png": "[encoded data removed]",
      "text/plain": [
       "<Figure size 864x360 with 1 Axes>"
      ]
     },
     "metadata": {
      "needs_background": "light"
     },
     "output_type": "display_data"
    }
   ],
   "source": [
    "#plot of the count of hate and non hate tweet\n",
    "sns.countplot(y_res)\n",
    "plt.title('Count of targets')\n",
    "plt.grid()\n",
    "plt.show()"
   ]
  },
  {
   "cell_type": "code",
   "execution_count": 55,
   "id": "fdaf77d2",
   "metadata": {
    "execution": {
     "iopub.execute_input": "2022-12-19T13:13:48.390509Z",
     "iopub.status.busy": "2022-12-19T13:13:48.389784Z",
     "iopub.status.idle": "2022-12-19T13:13:48.394740Z",
     "shell.execute_reply": "2022-12-19T13:13:48.394212Z"
    },
    "papermill": {
     "duration": 0.119969,
     "end_time": "2022-12-19T13:13:48.394890",
     "exception": false,
     "start_time": "2022-12-19T13:13:48.274921",
     "status": "completed"
    },
    "tags": []
   },
   "outputs": [],
   "source": [
    "X_train = X_res\n",
    "y_train = y_res"
   ]
  },
  {
   "cell_type": "markdown",
   "id": "d977a145",
   "metadata": {
    "papermill": {
     "duration": 0.110586,
     "end_time": "2022-12-19T13:13:48.615109",
     "exception": false,
     "start_time": "2022-12-19T13:13:48.504523",
     "status": "completed"
    },
    "tags": []
   },
   "source": [
    "<a id='4-3'></a>\n",
    "### _Model building: Ordinary Logistic Regression_"
   ]
  },
  {
   "cell_type": "code",
   "execution_count": 56,
   "id": "0c151e56",
   "metadata": {
    "execution": {
     "iopub.execute_input": "2022-12-19T13:13:48.840191Z",
     "iopub.status.busy": "2022-12-19T13:13:48.839530Z",
     "iopub.status.idle": "2022-12-19T13:13:48.843279Z",
     "shell.execute_reply": "2022-12-19T13:13:48.843897Z"
    },
    "papermill": {
     "duration": 0.11727,
     "end_time": "2022-12-19T13:13:48.844085",
     "exception": false,
     "start_time": "2022-12-19T13:13:48.726815",
     "status": "completed"
    },
    "tags": []
   },
   "outputs": [],
   "source": [
    "import time"
   ]
  },
  {
   "cell_type": "code",
   "execution_count": 57,
   "id": "8fff8e36",
   "metadata": {
    "execution": {
     "iopub.execute_input": "2022-12-19T13:13:49.093098Z",
     "iopub.status.busy": "2022-12-19T13:13:49.092451Z",
     "iopub.status.idle": "2022-12-19T13:13:49.098239Z",
     "shell.execute_reply": "2022-12-19T13:13:49.098790Z"
    },
    "papermill": {
     "duration": 0.119662,
     "end_time": "2022-12-19T13:13:49.098980",
     "exception": false,
     "start_time": "2022-12-19T13:13:48.979318",
     "status": "completed"
    },
    "tags": []
   },
   "outputs": [],
   "source": [
    "#import the models\n",
    "from sklearn.linear_model import LogisticRegression\n",
    "from sklearn.naive_bayes import MultinomialNB"
   ]
  },
  {
   "cell_type": "code",
   "execution_count": 58,
   "id": "1a4bbcdb",
   "metadata": {
    "execution": {
     "iopub.execute_input": "2022-12-19T13:13:49.321227Z",
     "iopub.status.busy": "2022-12-19T13:13:49.320589Z",
     "iopub.status.idle": "2022-12-19T13:13:50.977473Z",
     "shell.execute_reply": "2022-12-19T13:13:50.978723Z"
    },
    "papermill": {
     "duration": 1.770985,
     "end_time": "2022-12-19T13:13:50.979072",
     "exception": false,
     "start_time": "2022-12-19T13:13:49.208087",
     "status": "completed"
    },
    "tags": []
   },
   "outputs": [
    {
     "name": "stdout",
     "output_type": "stream",
     "text": [
      "It took 1.6487939357757568 seconds.\n"
     ]
    }
   ],
   "source": [
    "#instantiate the models with default hyper-parameters\n",
    "start= time.time()\n",
    "\n",
    "clf_LR = LogisticRegression()\n",
    "clf_LR.fit(X_train,y_train)\n",
    "LR_train_predictions = clf_LR.predict(X_train)\n",
    "LR_test_predictions = clf_LR.predict(X_test)\n",
    "\n",
    "time_NB= time.time()-start\n",
    "print('It took',time_NB, 'seconds.')"
   ]
  },
  {
   "cell_type": "markdown",
   "id": "f1a46131",
   "metadata": {
    "papermill": {
     "duration": 0.10985,
     "end_time": "2022-12-19T13:13:51.262906",
     "exception": false,
     "start_time": "2022-12-19T13:13:51.153056",
     "status": "completed"
    },
    "tags": []
   },
   "source": [
    "<a id='4-4'></a>\n",
    "### _Model evaluation_\n",
    "\n"
   ]
  },
  {
   "cell_type": "code",
   "execution_count": 59,
   "id": "9f16e18b",
   "metadata": {
    "execution": {
     "iopub.execute_input": "2022-12-19T13:13:51.494118Z",
     "iopub.status.busy": "2022-12-19T13:13:51.493062Z",
     "iopub.status.idle": "2022-12-19T13:13:51.495408Z",
     "shell.execute_reply": "2022-12-19T13:13:51.495950Z"
    },
    "papermill": {
     "duration": 0.120969,
     "end_time": "2022-12-19T13:13:51.496128",
     "exception": false,
     "start_time": "2022-12-19T13:13:51.375159",
     "status": "completed"
    },
    "tags": []
   },
   "outputs": [],
   "source": [
    "#import the metrics\n",
    "from sklearn.metrics import accuracy_score\n",
    "from sklearn.metrics import f1_score\n",
    "from sklearn.metrics import classification_report\n",
    "from sklearn.metrics import confusion_matrix"
   ]
  },
  {
   "cell_type": "code",
   "execution_count": 60,
   "id": "7de73372",
   "metadata": {
    "execution": {
     "iopub.execute_input": "2022-12-19T13:13:51.721525Z",
     "iopub.status.busy": "2022-12-19T13:13:51.720552Z",
     "iopub.status.idle": "2022-12-19T13:13:51.741701Z",
     "shell.execute_reply": "2022-12-19T13:13:51.741011Z"
    },
    "papermill": {
     "duration": 0.134359,
     "end_time": "2022-12-19T13:13:51.741853",
     "exception": false,
     "start_time": "2022-12-19T13:13:51.607494",
     "status": "completed"
    },
    "tags": []
   },
   "outputs": [
    {
     "name": "stdout",
     "output_type": "stream",
     "text": [
      "Accuracy Score on training set 0.85710\n",
      "Accuracy Score on test set 0.65047\n"
     ]
    }
   ],
   "source": [
    "#get the model accuracy on the training and the test set\n",
    "print('Accuracy Score on training set %.5f' %accuracy_score(y_train,LR_train_predictions))\n",
    "print('Accuracy Score on test set %.5f' %accuracy_score(y_test,LR_test_predictions))"
   ]
  },
  {
   "cell_type": "markdown",
   "id": "a6c9ec77",
   "metadata": {
    "papermill": {
     "duration": 0.110401,
     "end_time": "2022-12-19T13:13:51.962938",
     "exception": false,
     "start_time": "2022-12-19T13:13:51.852537",
     "status": "completed"
    },
    "tags": []
   },
   "source": [
    "_Accuracy is never a good metric for an imbalanced dataset as in this case. This can be highighted using the f1 score. A low f1-score for a label indicate poor performance of the model._"
   ]
  },
  {
   "cell_type": "code",
   "execution_count": 61,
   "id": "053cb401",
   "metadata": {
    "execution": {
     "iopub.execute_input": "2022-12-19T13:13:52.217283Z",
     "iopub.status.busy": "2022-12-19T13:13:52.188422Z",
     "iopub.status.idle": "2022-12-19T13:13:52.504902Z",
     "shell.execute_reply": "2022-12-19T13:13:52.505451Z"
    },
    "papermill": {
     "duration": 0.43164,
     "end_time": "2022-12-19T13:13:52.505641",
     "exception": false,
     "start_time": "2022-12-19T13:13:52.074001",
     "status": "completed"
    },
    "tags": []
   },
   "outputs": [
    {
     "name": "stdout",
     "output_type": "stream",
     "text": [
      "Classification Report Training set\n",
      "\n",
      "\n",
      "              precision    recall  f1-score   support\n",
      "\n",
      "       group       0.88      0.78      0.82      2801\n",
      "      person       0.88      0.84      0.86      3687\n",
      "      public       0.83      0.93      0.88      3687\n",
      "\n",
      "    accuracy                           0.86     10175\n",
      "   macro avg       0.86      0.85      0.85     10175\n",
      "weighted avg       0.86      0.86      0.86     10175\n",
      "\n"
     ]
    }
   ],
   "source": [
    "print('Classification Report Training set')\n",
    "print('\\n')\n",
    "print(classification_report(y_train,LR_train_predictions))"
   ]
  },
  {
   "cell_type": "code",
   "execution_count": 62,
   "id": "ff963d31",
   "metadata": {
    "execution": {
     "iopub.execute_input": "2022-12-19T13:13:52.732457Z",
     "iopub.status.busy": "2022-12-19T13:13:52.731807Z",
     "iopub.status.idle": "2022-12-19T13:13:52.790501Z",
     "shell.execute_reply": "2022-12-19T13:13:52.791095Z"
    },
    "papermill": {
     "duration": 0.173918,
     "end_time": "2022-12-19T13:13:52.791276",
     "exception": false,
     "start_time": "2022-12-19T13:13:52.617358",
     "status": "completed"
    },
    "tags": []
   },
   "outputs": [
    {
     "name": "stdout",
     "output_type": "stream",
     "text": [
      "Classification Report Testing set\n",
      "\n",
      "\n",
      "              precision    recall  f1-score   support\n",
      "\n",
      "       group       0.72      0.59      0.65       701\n",
      "      person       0.76      0.70      0.73       922\n",
      "      public       0.42      0.63      0.51       394\n",
      "\n",
      "    accuracy                           0.65      2017\n",
      "   macro avg       0.63      0.64      0.63      2017\n",
      "weighted avg       0.68      0.65      0.66      2017\n",
      "\n"
     ]
    }
   ],
   "source": [
    "print('Classification Report Testing set')\n",
    "print('\\n')\n",
    "print(classification_report(y_test,LR_test_predictions))"
   ]
  },
  {
   "cell_type": "markdown",
   "id": "2dc013f2",
   "metadata": {
    "papermill": {
     "duration": 0.112788,
     "end_time": "2022-12-19T13:13:53.017060",
     "exception": false,
     "start_time": "2022-12-19T13:13:52.904272",
     "status": "completed"
    },
    "tags": []
   },
   "source": [
    "_The model's f1-score is low for label 1 which indicates the hate text in the twitter_"
   ]
  },
  {
   "cell_type": "markdown",
   "id": "ac077a23",
   "metadata": {
    "papermill": {
     "duration": 0.112196,
     "end_time": "2022-12-19T13:13:53.241359",
     "exception": false,
     "start_time": "2022-12-19T13:13:53.129163",
     "status": "completed"
    },
    "tags": []
   },
   "source": [
    "### _Model building: SVM_"
   ]
  },
  {
   "cell_type": "code",
   "execution_count": 63,
   "id": "4cafb71e",
   "metadata": {
    "execution": {
     "iopub.execute_input": "2022-12-19T13:13:53.470959Z",
     "iopub.status.busy": "2022-12-19T13:13:53.470294Z",
     "iopub.status.idle": "2022-12-19T13:13:53.474621Z",
     "shell.execute_reply": "2022-12-19T13:13:53.474101Z"
    },
    "papermill": {
     "duration": 0.120489,
     "end_time": "2022-12-19T13:13:53.474775",
     "exception": false,
     "start_time": "2022-12-19T13:13:53.354286",
     "status": "completed"
    },
    "tags": []
   },
   "outputs": [],
   "source": [
    "#import the models\n",
    "from sklearn.svm import SVC\n"
   ]
  },
  {
   "cell_type": "code",
   "execution_count": 64,
   "id": "6715fbe4",
   "metadata": {
    "execution": {
     "iopub.execute_input": "2022-12-19T13:13:53.701794Z",
     "iopub.status.busy": "2022-12-19T13:13:53.701073Z",
     "iopub.status.idle": "2022-12-19T13:14:15.123496Z",
     "shell.execute_reply": "2022-12-19T13:14:15.122913Z"
    },
    "papermill": {
     "duration": 21.53644,
     "end_time": "2022-12-19T13:14:15.123641",
     "exception": false,
     "start_time": "2022-12-19T13:13:53.587201",
     "status": "completed"
    },
    "tags": []
   },
   "outputs": [
    {
     "name": "stdout",
     "output_type": "stream",
     "text": [
      "It took 21.414706230163574 seconds.\n"
     ]
    }
   ],
   "source": [
    "#instantiate the models with default hyper-parameters\n",
    "start= time.time()\n",
    "\n",
    "\n",
    "svclassifier = SVC(kernel='linear')\n",
    "svclassifier.fit(X_train,y_train)\n",
    "SVM_train_predictions = svclassifier.predict(X_train)\n",
    "SVM_test_predictions = svclassifier.predict(X_test)\n",
    "\n",
    "time_NB= time.time()-start\n",
    "print('It took',time_NB, 'seconds.')"
   ]
  },
  {
   "cell_type": "markdown",
   "id": "e6631926",
   "metadata": {
    "papermill": {
     "duration": 0.113721,
     "end_time": "2022-12-19T13:14:15.349669",
     "exception": false,
     "start_time": "2022-12-19T13:14:15.235948",
     "status": "completed"
    },
    "tags": []
   },
   "source": [
    "<a id='4-4'></a>\n",
    "### _Model evaluation_\n",
    "\n"
   ]
  },
  {
   "cell_type": "code",
   "execution_count": 65,
   "id": "1c42c086",
   "metadata": {
    "execution": {
     "iopub.execute_input": "2022-12-19T13:14:15.578537Z",
     "iopub.status.busy": "2022-12-19T13:14:15.577567Z",
     "iopub.status.idle": "2022-12-19T13:14:15.582320Z",
     "shell.execute_reply": "2022-12-19T13:14:15.582841Z"
    },
    "papermill": {
     "duration": 0.120784,
     "end_time": "2022-12-19T13:14:15.583028",
     "exception": false,
     "start_time": "2022-12-19T13:14:15.462244",
     "status": "completed"
    },
    "tags": []
   },
   "outputs": [],
   "source": [
    "#import the metrics\n",
    "from sklearn.metrics import accuracy_score\n",
    "from sklearn.metrics import f1_score\n",
    "from sklearn.metrics import classification_report\n",
    "from sklearn.metrics import confusion_matrix"
   ]
  },
  {
   "cell_type": "code",
   "execution_count": 66,
   "id": "2ef03335",
   "metadata": {
    "execution": {
     "iopub.execute_input": "2022-12-19T13:14:15.810181Z",
     "iopub.status.busy": "2022-12-19T13:14:15.809519Z",
     "iopub.status.idle": "2022-12-19T13:14:15.829168Z",
     "shell.execute_reply": "2022-12-19T13:14:15.829648Z"
    },
    "papermill": {
     "duration": 0.134101,
     "end_time": "2022-12-19T13:14:15.829835",
     "exception": false,
     "start_time": "2022-12-19T13:14:15.695734",
     "status": "completed"
    },
    "tags": []
   },
   "outputs": [
    {
     "name": "stdout",
     "output_type": "stream",
     "text": [
      "Accuracy Score on training set 0.87843\n",
      "Accuracy Score on test set 0.65146\n"
     ]
    }
   ],
   "source": [
    "#get the model accuracy on the training and the test set\n",
    "print('Accuracy Score on training set %.5f' %accuracy_score(y_train,SVM_train_predictions))\n",
    "print('Accuracy Score on test set %.5f' %accuracy_score(y_test,SVM_test_predictions))"
   ]
  },
  {
   "cell_type": "markdown",
   "id": "1cb13a4a",
   "metadata": {
    "papermill": {
     "duration": 0.154598,
     "end_time": "2022-12-19T13:14:16.098459",
     "exception": false,
     "start_time": "2022-12-19T13:14:15.943861",
     "status": "completed"
    },
    "tags": []
   },
   "source": [
    "_Accuracy is never a good metric for an imbalanced dataset as in this case. This can be highighted using the f1 score. A low f1-score for a label indicate poor performance of the model._"
   ]
  },
  {
   "cell_type": "code",
   "execution_count": 67,
   "id": "fc29e8e0",
   "metadata": {
    "execution": {
     "iopub.execute_input": "2022-12-19T13:14:16.339766Z",
     "iopub.status.busy": "2022-12-19T13:14:16.338871Z",
     "iopub.status.idle": "2022-12-19T13:14:16.663013Z",
     "shell.execute_reply": "2022-12-19T13:14:16.662458Z"
    },
    "papermill": {
     "duration": 0.44908,
     "end_time": "2022-12-19T13:14:16.663167",
     "exception": false,
     "start_time": "2022-12-19T13:14:16.214087",
     "status": "completed"
    },
    "tags": []
   },
   "outputs": [
    {
     "name": "stdout",
     "output_type": "stream",
     "text": [
      "Classification Report Training set\n",
      "\n",
      "\n",
      "              precision    recall  f1-score   support\n",
      "\n",
      "       group       0.89      0.82      0.86      2801\n",
      "      person       0.90      0.86      0.88      3687\n",
      "      public       0.85      0.94      0.90      3687\n",
      "\n",
      "    accuracy                           0.88     10175\n",
      "   macro avg       0.88      0.87      0.88     10175\n",
      "weighted avg       0.88      0.88      0.88     10175\n",
      "\n"
     ]
    }
   ],
   "source": [
    "print('Classification Report Training set')\n",
    "print('\\n')\n",
    "print(classification_report(y_train,SVM_train_predictions))"
   ]
  },
  {
   "cell_type": "code",
   "execution_count": 68,
   "id": "aefe1d8c",
   "metadata": {
    "execution": {
     "iopub.execute_input": "2022-12-19T13:14:16.913408Z",
     "iopub.status.busy": "2022-12-19T13:14:16.908024Z",
     "iopub.status.idle": "2022-12-19T13:14:16.954726Z",
     "shell.execute_reply": "2022-12-19T13:14:16.955240Z"
    },
    "papermill": {
     "duration": 0.178572,
     "end_time": "2022-12-19T13:14:16.955419",
     "exception": false,
     "start_time": "2022-12-19T13:14:16.776847",
     "status": "completed"
    },
    "tags": []
   },
   "outputs": [
    {
     "name": "stdout",
     "output_type": "stream",
     "text": [
      "Classification Report Testing set\n",
      "\n",
      "\n",
      "              precision    recall  f1-score   support\n",
      "\n",
      "       group       0.70      0.61      0.65       701\n",
      "      person       0.75      0.70      0.73       922\n",
      "      public       0.44      0.61      0.51       394\n",
      "\n",
      "    accuracy                           0.65      2017\n",
      "   macro avg       0.63      0.64      0.63      2017\n",
      "weighted avg       0.67      0.65      0.66      2017\n",
      "\n"
     ]
    }
   ],
   "source": [
    "print('Classification Report Testing set')\n",
    "print('\\n')\n",
    "print(classification_report(y_test,SVM_test_predictions))"
   ]
  },
  {
   "cell_type": "markdown",
   "id": "8fdc18c2",
   "metadata": {
    "papermill": {
     "duration": 0.11378,
     "end_time": "2022-12-19T13:14:17.182131",
     "exception": false,
     "start_time": "2022-12-19T13:14:17.068351",
     "status": "completed"
    },
    "tags": []
   },
   "source": [
    "### _Model building: NaiveBayes_"
   ]
  },
  {
   "cell_type": "code",
   "execution_count": 69,
   "id": "1da81a13",
   "metadata": {
    "execution": {
     "iopub.execute_input": "2022-12-19T13:14:17.414449Z",
     "iopub.status.busy": "2022-12-19T13:14:17.413363Z",
     "iopub.status.idle": "2022-12-19T13:14:17.416942Z",
     "shell.execute_reply": "2022-12-19T13:14:17.417449Z"
    },
    "papermill": {
     "duration": 0.121541,
     "end_time": "2022-12-19T13:14:17.417626",
     "exception": false,
     "start_time": "2022-12-19T13:14:17.296085",
     "status": "completed"
    },
    "tags": []
   },
   "outputs": [],
   "source": [
    "#import the models\n",
    "from sklearn.naive_bayes import MultinomialNB"
   ]
  },
  {
   "cell_type": "code",
   "execution_count": 70,
   "id": "bc058499",
   "metadata": {
    "execution": {
     "iopub.execute_input": "2022-12-19T13:14:17.653122Z",
     "iopub.status.busy": "2022-12-19T13:14:17.650252Z",
     "iopub.status.idle": "2022-12-19T13:14:17.699135Z",
     "shell.execute_reply": "2022-12-19T13:14:17.698593Z"
    },
    "papermill": {
     "duration": 0.166386,
     "end_time": "2022-12-19T13:14:17.699288",
     "exception": false,
     "start_time": "2022-12-19T13:14:17.532902",
     "status": "completed"
    },
    "tags": []
   },
   "outputs": [
    {
     "name": "stdout",
     "output_type": "stream",
     "text": [
      "It took 0.04121255874633789 seconds.\n"
     ]
    }
   ],
   "source": [
    "#instantiate the models with default hyper-parameters\n",
    "\n",
    "start= time.time()\n",
    "\n",
    "nbclassifier = MultinomialNB()\n",
    "nbclassifier.fit(X_train,y_train)\n",
    "NB_train_predictions = nbclassifier.predict(X_train)\n",
    "NB_test_predictions = nbclassifier.predict(X_test)\n",
    "\n",
    "time_NB= time.time()-start\n",
    "print('It took',time_NB, 'seconds.')"
   ]
  },
  {
   "cell_type": "markdown",
   "id": "17e920e9",
   "metadata": {
    "papermill": {
     "duration": 0.113366,
     "end_time": "2022-12-19T13:14:17.927727",
     "exception": false,
     "start_time": "2022-12-19T13:14:17.814361",
     "status": "completed"
    },
    "tags": []
   },
   "source": [
    "<a id='4-4'></a>\n",
    "### _Model evaluation_\n",
    "\n"
   ]
  },
  {
   "cell_type": "code",
   "execution_count": 71,
   "id": "a199f59d",
   "metadata": {
    "execution": {
     "iopub.execute_input": "2022-12-19T13:14:18.159157Z",
     "iopub.status.busy": "2022-12-19T13:14:18.158418Z",
     "iopub.status.idle": "2022-12-19T13:14:18.162407Z",
     "shell.execute_reply": "2022-12-19T13:14:18.163045Z"
    },
    "papermill": {
     "duration": 0.121098,
     "end_time": "2022-12-19T13:14:18.163227",
     "exception": false,
     "start_time": "2022-12-19T13:14:18.042129",
     "status": "completed"
    },
    "tags": []
   },
   "outputs": [],
   "source": [
    "#import the metrics\n",
    "from sklearn.metrics import accuracy_score\n",
    "from sklearn.metrics import f1_score\n",
    "from sklearn.metrics import classification_report\n",
    "from sklearn.metrics import confusion_matrix"
   ]
  },
  {
   "cell_type": "code",
   "execution_count": 72,
   "id": "d557056f",
   "metadata": {
    "execution": {
     "iopub.execute_input": "2022-12-19T13:14:18.397943Z",
     "iopub.status.busy": "2022-12-19T13:14:18.397263Z",
     "iopub.status.idle": "2022-12-19T13:14:18.414545Z",
     "shell.execute_reply": "2022-12-19T13:14:18.415172Z"
    },
    "papermill": {
     "duration": 0.138096,
     "end_time": "2022-12-19T13:14:18.415350",
     "exception": false,
     "start_time": "2022-12-19T13:14:18.277254",
     "status": "completed"
    },
    "tags": []
   },
   "outputs": [
    {
     "name": "stdout",
     "output_type": "stream",
     "text": [
      "Accuracy Score on training set 0.81032\n",
      "Accuracy Score on test set 0.64403\n"
     ]
    }
   ],
   "source": [
    "#get the model accuracy on the training and the test set\n",
    "print('Accuracy Score on training set %.5f' %accuracy_score(y_train,NB_train_predictions))\n",
    "print('Accuracy Score on test set %.5f' %accuracy_score(y_test,NB_test_predictions))"
   ]
  },
  {
   "cell_type": "markdown",
   "id": "95750863",
   "metadata": {
    "papermill": {
     "duration": 0.115963,
     "end_time": "2022-12-19T13:14:18.646527",
     "exception": false,
     "start_time": "2022-12-19T13:14:18.530564",
     "status": "completed"
    },
    "tags": []
   },
   "source": [
    "_Accuracy is never a good metric for an imbalanced dataset as in this case. This can be highighted using the f1 score. A low f1-score for a label indicate poor performance of the model._"
   ]
  },
  {
   "cell_type": "code",
   "execution_count": 73,
   "id": "822e0117",
   "metadata": {
    "execution": {
     "iopub.execute_input": "2022-12-19T13:14:18.879197Z",
     "iopub.status.busy": "2022-12-19T13:14:18.878582Z",
     "iopub.status.idle": "2022-12-19T13:14:19.110216Z",
     "shell.execute_reply": "2022-12-19T13:14:19.109684Z"
    },
    "papermill": {
     "duration": 0.349397,
     "end_time": "2022-12-19T13:14:19.110367",
     "exception": false,
     "start_time": "2022-12-19T13:14:18.760970",
     "status": "completed"
    },
    "tags": []
   },
   "outputs": [
    {
     "name": "stdout",
     "output_type": "stream",
     "text": [
      "Classification Report Training set\n",
      "\n",
      "\n",
      "              precision    recall  f1-score   support\n",
      "\n",
      "       group       0.87      0.71      0.78      2801\n",
      "      person       0.79      0.84      0.82      3687\n",
      "      public       0.79      0.85      0.82      3687\n",
      "\n",
      "    accuracy                           0.81     10175\n",
      "   macro avg       0.82      0.80      0.81     10175\n",
      "weighted avg       0.81      0.81      0.81     10175\n",
      "\n"
     ]
    }
   ],
   "source": [
    "print('Classification Report Training set')\n",
    "print('\\n')\n",
    "print(classification_report(y_train,NB_train_predictions))"
   ]
  },
  {
   "cell_type": "code",
   "execution_count": 74,
   "id": "94c1006c",
   "metadata": {
    "execution": {
     "iopub.execute_input": "2022-12-19T13:14:19.348729Z",
     "iopub.status.busy": "2022-12-19T13:14:19.348075Z",
     "iopub.status.idle": "2022-12-19T13:14:19.391259Z",
     "shell.execute_reply": "2022-12-19T13:14:19.390753Z"
    },
    "papermill": {
     "duration": 0.164535,
     "end_time": "2022-12-19T13:14:19.391418",
     "exception": false,
     "start_time": "2022-12-19T13:14:19.226883",
     "status": "completed"
    },
    "tags": []
   },
   "outputs": [
    {
     "name": "stdout",
     "output_type": "stream",
     "text": [
      "Classification Report Testing set\n",
      "\n",
      "\n",
      "              precision    recall  f1-score   support\n",
      "\n",
      "       group       0.73      0.57      0.64       701\n",
      "      person       0.73      0.75      0.74       922\n",
      "      public       0.40      0.54      0.46       394\n",
      "\n",
      "    accuracy                           0.64      2017\n",
      "   macro avg       0.62      0.62      0.61      2017\n",
      "weighted avg       0.66      0.64      0.65      2017\n",
      "\n"
     ]
    }
   ],
   "source": [
    "print('Classification Report Testing set')\n",
    "print('\\n')\n",
    "print(classification_report(y_test,NB_test_predictions))"
   ]
  },
  {
   "cell_type": "markdown",
   "id": "c29e4ce9",
   "metadata": {
    "papermill": {
     "duration": 0.114695,
     "end_time": "2022-12-19T13:14:19.621570",
     "exception": false,
     "start_time": "2022-12-19T13:14:19.506875",
     "status": "completed"
    },
    "tags": []
   },
   "source": [
    "### _Model building: RandomForest_"
   ]
  },
  {
   "cell_type": "code",
   "execution_count": 75,
   "id": "81999386",
   "metadata": {
    "execution": {
     "iopub.execute_input": "2022-12-19T13:14:19.855674Z",
     "iopub.status.busy": "2022-12-19T13:14:19.854989Z",
     "iopub.status.idle": "2022-12-19T13:14:19.857187Z",
     "shell.execute_reply": "2022-12-19T13:14:19.857768Z"
    },
    "papermill": {
     "duration": 0.120931,
     "end_time": "2022-12-19T13:14:19.857940",
     "exception": false,
     "start_time": "2022-12-19T13:14:19.737009",
     "status": "completed"
    },
    "tags": []
   },
   "outputs": [],
   "source": [
    "#import the models\n",
    "from sklearn.ensemble import RandomForestClassifier"
   ]
  },
  {
   "cell_type": "code",
   "execution_count": 76,
   "id": "c34e67be",
   "metadata": {
    "execution": {
     "iopub.execute_input": "2022-12-19T13:14:20.088801Z",
     "iopub.status.busy": "2022-12-19T13:14:20.088149Z",
     "iopub.status.idle": "2022-12-19T13:14:33.711402Z",
     "shell.execute_reply": "2022-12-19T13:14:33.710845Z"
    },
    "papermill": {
     "duration": 13.739887,
     "end_time": "2022-12-19T13:14:33.711563",
     "exception": false,
     "start_time": "2022-12-19T13:14:19.971676",
     "status": "completed"
    },
    "tags": []
   },
   "outputs": [
    {
     "name": "stdout",
     "output_type": "stream",
     "text": [
      "It took 13.615705728530884 seconds.\n"
     ]
    }
   ],
   "source": [
    "#instantiate the models with default hyper-parameters\n",
    "\n",
    "start= time.time()\n",
    "\n",
    "rfclassifier = RandomForestClassifier()\n",
    "rfclassifier.fit(X_train,y_train)\n",
    "RF_train_predictions = rfclassifier.predict(X_train)\n",
    "RF_test_predictions = rfclassifier.predict(X_test)\n",
    "\n",
    "time_NB= time.time()-start\n",
    "print('It took',time_NB, 'seconds.')"
   ]
  },
  {
   "cell_type": "markdown",
   "id": "247e0062",
   "metadata": {
    "papermill": {
     "duration": 0.116292,
     "end_time": "2022-12-19T13:14:33.944616",
     "exception": false,
     "start_time": "2022-12-19T13:14:33.828324",
     "status": "completed"
    },
    "tags": []
   },
   "source": [
    "<a id='4-4'></a>\n",
    "### _Model evaluation_\n",
    "\n"
   ]
  },
  {
   "cell_type": "code",
   "execution_count": 77,
   "id": "53e7a454",
   "metadata": {
    "execution": {
     "iopub.execute_input": "2022-12-19T13:14:34.182148Z",
     "iopub.status.busy": "2022-12-19T13:14:34.181115Z",
     "iopub.status.idle": "2022-12-19T13:14:34.183739Z",
     "shell.execute_reply": "2022-12-19T13:14:34.184244Z"
    },
    "papermill": {
     "duration": 0.123361,
     "end_time": "2022-12-19T13:14:34.184417",
     "exception": false,
     "start_time": "2022-12-19T13:14:34.061056",
     "status": "completed"
    },
    "tags": []
   },
   "outputs": [],
   "source": [
    "#import the metrics\n",
    "from sklearn.metrics import accuracy_score\n",
    "from sklearn.metrics import f1_score\n",
    "from sklearn.metrics import classification_report\n",
    "from sklearn.metrics import confusion_matrix"
   ]
  },
  {
   "cell_type": "code",
   "execution_count": 78,
   "id": "9ede6cdb",
   "metadata": {
    "execution": {
     "iopub.execute_input": "2022-12-19T13:14:34.421118Z",
     "iopub.status.busy": "2022-12-19T13:14:34.420386Z",
     "iopub.status.idle": "2022-12-19T13:14:34.440343Z",
     "shell.execute_reply": "2022-12-19T13:14:34.440909Z"
    },
    "papermill": {
     "duration": 0.138529,
     "end_time": "2022-12-19T13:14:34.441098",
     "exception": false,
     "start_time": "2022-12-19T13:14:34.302569",
     "status": "completed"
    },
    "tags": []
   },
   "outputs": [
    {
     "name": "stdout",
     "output_type": "stream",
     "text": [
      "Accuracy Score on training set 0.99420\n",
      "Accuracy Score on test set 0.64204\n"
     ]
    }
   ],
   "source": [
    "#get the model accuracy on the training and the test set\n",
    "print('Accuracy Score on training set %.5f' %accuracy_score(y_train,RF_train_predictions))\n",
    "print('Accuracy Score on test set %.5f' %accuracy_score(y_test,RF_test_predictions))"
   ]
  },
  {
   "cell_type": "markdown",
   "id": "0f8598ae",
   "metadata": {
    "papermill": {
     "duration": 0.115186,
     "end_time": "2022-12-19T13:14:34.671588",
     "exception": false,
     "start_time": "2022-12-19T13:14:34.556402",
     "status": "completed"
    },
    "tags": []
   },
   "source": [
    "_Accuracy is never a good metric for an imbalanced dataset as in this case. This can be highighted using the f1 score. A low f1-score for a label indicate poor performance of the model._"
   ]
  },
  {
   "cell_type": "code",
   "execution_count": 79,
   "id": "3c78bef6",
   "metadata": {
    "execution": {
     "iopub.execute_input": "2022-12-19T13:14:34.908014Z",
     "iopub.status.busy": "2022-12-19T13:14:34.907330Z",
     "iopub.status.idle": "2022-12-19T13:14:35.232343Z",
     "shell.execute_reply": "2022-12-19T13:14:35.231686Z"
    },
    "papermill": {
     "duration": 0.445881,
     "end_time": "2022-12-19T13:14:35.232521",
     "exception": false,
     "start_time": "2022-12-19T13:14:34.786640",
     "status": "completed"
    },
    "tags": []
   },
   "outputs": [
    {
     "name": "stdout",
     "output_type": "stream",
     "text": [
      "Classification Report Training set\n",
      "\n",
      "\n",
      "              precision    recall  f1-score   support\n",
      "\n",
      "       group       1.00      0.99      1.00      2801\n",
      "      person       1.00      0.99      0.99      3687\n",
      "      public       0.99      1.00      0.99      3687\n",
      "\n",
      "    accuracy                           0.99     10175\n",
      "   macro avg       0.99      0.99      0.99     10175\n",
      "weighted avg       0.99      0.99      0.99     10175\n",
      "\n"
     ]
    }
   ],
   "source": [
    "print('Classification Report Training set')\n",
    "print('\\n')\n",
    "print(classification_report(y_train,RF_train_predictions))"
   ]
  },
  {
   "cell_type": "code",
   "execution_count": 80,
   "id": "59072d09",
   "metadata": {
    "execution": {
     "iopub.execute_input": "2022-12-19T13:14:35.492612Z",
     "iopub.status.busy": "2022-12-19T13:14:35.485300Z",
     "iopub.status.idle": "2022-12-19T13:14:35.535060Z",
     "shell.execute_reply": "2022-12-19T13:14:35.535590Z"
    },
    "papermill": {
     "duration": 0.183879,
     "end_time": "2022-12-19T13:14:35.535770",
     "exception": false,
     "start_time": "2022-12-19T13:14:35.351891",
     "status": "completed"
    },
    "tags": []
   },
   "outputs": [
    {
     "name": "stdout",
     "output_type": "stream",
     "text": [
      "Classification Report Testing set\n",
      "\n",
      "\n",
      "              precision    recall  f1-score   support\n",
      "\n",
      "       group       0.71      0.60      0.65       701\n",
      "      person       0.73      0.70      0.71       922\n",
      "      public       0.43      0.59      0.50       394\n",
      "\n",
      "    accuracy                           0.64      2017\n",
      "   macro avg       0.62      0.63      0.62      2017\n",
      "weighted avg       0.66      0.64      0.65      2017\n",
      "\n"
     ]
    }
   ],
   "source": [
    "print('Classification Report Testing set')\n",
    "print('\\n')\n",
    "print(classification_report(y_test,RF_test_predictions))"
   ]
  },
  {
   "cell_type": "markdown",
   "id": "eb54604c",
   "metadata": {
    "papermill": {
     "duration": 0.116559,
     "end_time": "2022-12-19T13:14:35.769658",
     "exception": false,
     "start_time": "2022-12-19T13:14:35.653099",
     "status": "completed"
    },
    "tags": []
   },
   "source": [
    "### _Model building: DecisionTree_"
   ]
  },
  {
   "cell_type": "code",
   "execution_count": 81,
   "id": "96535e58",
   "metadata": {
    "execution": {
     "iopub.execute_input": "2022-12-19T13:14:36.007655Z",
     "iopub.status.busy": "2022-12-19T13:14:36.006675Z",
     "iopub.status.idle": "2022-12-19T13:14:36.010540Z",
     "shell.execute_reply": "2022-12-19T13:14:36.011134Z"
    },
    "papermill": {
     "duration": 0.12431,
     "end_time": "2022-12-19T13:14:36.011306",
     "exception": false,
     "start_time": "2022-12-19T13:14:35.886996",
     "status": "completed"
    },
    "tags": []
   },
   "outputs": [],
   "source": [
    "#import the models\n",
    "from sklearn.tree import DecisionTreeClassifier"
   ]
  },
  {
   "cell_type": "code",
   "execution_count": 82,
   "id": "4f389b56",
   "metadata": {
    "execution": {
     "iopub.execute_input": "2022-12-19T13:14:36.250246Z",
     "iopub.status.busy": "2022-12-19T13:14:36.249289Z",
     "iopub.status.idle": "2022-12-19T13:14:39.468454Z",
     "shell.execute_reply": "2022-12-19T13:14:39.467708Z"
    },
    "papermill": {
     "duration": 3.340607,
     "end_time": "2022-12-19T13:14:39.468605",
     "exception": false,
     "start_time": "2022-12-19T13:14:36.127998",
     "status": "completed"
    },
    "tags": []
   },
   "outputs": [
    {
     "name": "stdout",
     "output_type": "stream",
     "text": [
      "It took 3.2115137577056885 seconds.\n"
     ]
    }
   ],
   "source": [
    "#instantiate the models with default hyper-parameters\n",
    "\n",
    "start= time.time()\n",
    "\n",
    "dtclassifier = DecisionTreeClassifier()\n",
    "dtclassifier.fit(X_train,y_train)\n",
    "DT_train_predictions = dtclassifier.predict(X_train)\n",
    "DT_test_predictions = dtclassifier.predict(X_test)\n",
    "\n",
    "time_NB= time.time()-start\n",
    "print('It took',time_NB, 'seconds.')"
   ]
  },
  {
   "cell_type": "markdown",
   "id": "da12792f",
   "metadata": {
    "papermill": {
     "duration": 0.118541,
     "end_time": "2022-12-19T13:14:39.705280",
     "exception": false,
     "start_time": "2022-12-19T13:14:39.586739",
     "status": "completed"
    },
    "tags": []
   },
   "source": [
    "<a id='4-4'></a>\n",
    "### _Model evaluation_\n",
    "\n"
   ]
  },
  {
   "cell_type": "code",
   "execution_count": 83,
   "id": "6cefc95b",
   "metadata": {
    "execution": {
     "iopub.execute_input": "2022-12-19T13:14:39.946006Z",
     "iopub.status.busy": "2022-12-19T13:14:39.945253Z",
     "iopub.status.idle": "2022-12-19T13:14:39.948464Z",
     "shell.execute_reply": "2022-12-19T13:14:39.947787Z"
    },
    "papermill": {
     "duration": 0.126068,
     "end_time": "2022-12-19T13:14:39.948614",
     "exception": false,
     "start_time": "2022-12-19T13:14:39.822546",
     "status": "completed"
    },
    "tags": []
   },
   "outputs": [],
   "source": [
    "#import the metrics\n",
    "from sklearn.metrics import accuracy_score\n",
    "from sklearn.metrics import f1_score\n",
    "from sklearn.metrics import classification_report\n",
    "from sklearn.metrics import confusion_matrix"
   ]
  },
  {
   "cell_type": "code",
   "execution_count": 84,
   "id": "c2f6ec2c",
   "metadata": {
    "execution": {
     "iopub.execute_input": "2022-12-19T13:14:40.205320Z",
     "iopub.status.busy": "2022-12-19T13:14:40.204621Z",
     "iopub.status.idle": "2022-12-19T13:14:40.207451Z",
     "shell.execute_reply": "2022-12-19T13:14:40.208017Z"
    },
    "papermill": {
     "duration": 0.141346,
     "end_time": "2022-12-19T13:14:40.208203",
     "exception": false,
     "start_time": "2022-12-19T13:14:40.066857",
     "status": "completed"
    },
    "tags": []
   },
   "outputs": [
    {
     "name": "stdout",
     "output_type": "stream",
     "text": [
      "Accuracy Score on training set 0.99420\n",
      "Accuracy Score on test set 0.58503\n"
     ]
    }
   ],
   "source": [
    "#get the model accuracy on the training and the test set\n",
    "print('Accuracy Score on training set %.5f' %accuracy_score(y_train,DT_train_predictions))\n",
    "print('Accuracy Score on test set %.5f' %accuracy_score(y_test,DT_test_predictions))"
   ]
  },
  {
   "cell_type": "markdown",
   "id": "a8b81310",
   "metadata": {
    "papermill": {
     "duration": 0.126436,
     "end_time": "2022-12-19T13:14:40.469444",
     "exception": false,
     "start_time": "2022-12-19T13:14:40.343008",
     "status": "completed"
    },
    "tags": []
   },
   "source": [
    "_Accuracy is never a good metric for an imbalanced dataset as in this case. This can be highighted using the f1 score. A low f1-score for a label indicate poor performance of the model._"
   ]
  },
  {
   "cell_type": "code",
   "execution_count": 85,
   "id": "d766d7ef",
   "metadata": {
    "execution": {
     "iopub.execute_input": "2022-12-19T13:14:40.730841Z",
     "iopub.status.busy": "2022-12-19T13:14:40.730146Z",
     "iopub.status.idle": "2022-12-19T13:14:41.057191Z",
     "shell.execute_reply": "2022-12-19T13:14:41.056640Z"
    },
    "papermill": {
     "duration": 0.461512,
     "end_time": "2022-12-19T13:14:41.057339",
     "exception": false,
     "start_time": "2022-12-19T13:14:40.595827",
     "status": "completed"
    },
    "tags": []
   },
   "outputs": [
    {
     "name": "stdout",
     "output_type": "stream",
     "text": [
      "Classification Report Training set\n",
      "\n",
      "\n",
      "              precision    recall  f1-score   support\n",
      "\n",
      "       group       1.00      1.00      1.00      2801\n",
      "      person       1.00      0.99      0.99      3687\n",
      "      public       0.99      1.00      0.99      3687\n",
      "\n",
      "    accuracy                           0.99     10175\n",
      "   macro avg       0.99      0.99      0.99     10175\n",
      "weighted avg       0.99      0.99      0.99     10175\n",
      "\n"
     ]
    }
   ],
   "source": [
    "print('Classification Report Training set')\n",
    "print('\\n')\n",
    "print(classification_report(y_train,DT_train_predictions))"
   ]
  },
  {
   "cell_type": "code",
   "execution_count": 86,
   "id": "cb09e2a1",
   "metadata": {
    "execution": {
     "iopub.execute_input": "2022-12-19T13:14:41.302676Z",
     "iopub.status.busy": "2022-12-19T13:14:41.301671Z",
     "iopub.status.idle": "2022-12-19T13:14:41.362473Z",
     "shell.execute_reply": "2022-12-19T13:14:41.363028Z"
    },
    "papermill": {
     "duration": 0.18318,
     "end_time": "2022-12-19T13:14:41.363224",
     "exception": false,
     "start_time": "2022-12-19T13:14:41.180044",
     "status": "completed"
    },
    "tags": []
   },
   "outputs": [
    {
     "name": "stdout",
     "output_type": "stream",
     "text": [
      "Classification Report Testing set\n",
      "\n",
      "\n",
      "              precision    recall  f1-score   support\n",
      "\n",
      "       group       0.59      0.57      0.58       701\n",
      "      person       0.67      0.64      0.65       922\n",
      "      public       0.41      0.48      0.44       394\n",
      "\n",
      "    accuracy                           0.59      2017\n",
      "   macro avg       0.56      0.56      0.56      2017\n",
      "weighted avg       0.59      0.59      0.59      2017\n",
      "\n"
     ]
    }
   ],
   "source": [
    "print('Classification Report Testing set')\n",
    "print('\\n')\n",
    "print(classification_report(y_test,DT_test_predictions))"
   ]
  },
  {
   "cell_type": "markdown",
   "id": "6393e0a6",
   "metadata": {
    "papermill": {
     "duration": 0.118406,
     "end_time": "2022-12-19T13:14:41.600692",
     "exception": false,
     "start_time": "2022-12-19T13:14:41.482286",
     "status": "completed"
    },
    "tags": []
   },
   "source": [
    "### _Model building: RidgeClassifier_"
   ]
  },
  {
   "cell_type": "code",
   "execution_count": 87,
   "id": "263e2569",
   "metadata": {
    "execution": {
     "iopub.execute_input": "2022-12-19T13:14:41.842950Z",
     "iopub.status.busy": "2022-12-19T13:14:41.841969Z",
     "iopub.status.idle": "2022-12-19T13:14:41.844309Z",
     "shell.execute_reply": "2022-12-19T13:14:41.844863Z"
    },
    "papermill": {
     "duration": 0.125457,
     "end_time": "2022-12-19T13:14:41.845042",
     "exception": false,
     "start_time": "2022-12-19T13:14:41.719585",
     "status": "completed"
    },
    "tags": []
   },
   "outputs": [],
   "source": [
    "#import the models\n",
    "from sklearn.linear_model import RidgeClassifier"
   ]
  },
  {
   "cell_type": "code",
   "execution_count": 88,
   "id": "aeb8f302",
   "metadata": {
    "execution": {
     "iopub.execute_input": "2022-12-19T13:14:42.090947Z",
     "iopub.status.busy": "2022-12-19T13:14:42.089986Z",
     "iopub.status.idle": "2022-12-19T13:14:42.210880Z",
     "shell.execute_reply": "2022-12-19T13:14:42.210147Z"
    },
    "papermill": {
     "duration": 0.248086,
     "end_time": "2022-12-19T13:14:42.211038",
     "exception": false,
     "start_time": "2022-12-19T13:14:41.962952",
     "status": "completed"
    },
    "tags": []
   },
   "outputs": [
    {
     "name": "stdout",
     "output_type": "stream",
     "text": [
      "It took 0.11319208145141602 seconds.\n"
     ]
    }
   ],
   "source": [
    "#instantiate the models with default hyper-parameters\n",
    "\n",
    "start= time.time()\n",
    "\n",
    "rcclassifier = RidgeClassifier()\n",
    "rcclassifier.fit(X_train,y_train)\n",
    "RC_train_predictions = rcclassifier.predict(X_train)\n",
    "RC_test_predictions = rcclassifier.predict(X_test)\n",
    "\n",
    "time_NB= time.time()-start\n",
    "print('It took',time_NB, 'seconds.')"
   ]
  },
  {
   "cell_type": "markdown",
   "id": "25f40099",
   "metadata": {
    "papermill": {
     "duration": 0.119106,
     "end_time": "2022-12-19T13:14:42.450597",
     "exception": false,
     "start_time": "2022-12-19T13:14:42.331491",
     "status": "completed"
    },
    "tags": []
   },
   "source": [
    "<a id='4-4'></a>\n",
    "### _Model evaluation_\n",
    "\n"
   ]
  },
  {
   "cell_type": "code",
   "execution_count": 89,
   "id": "6f5a5e4a",
   "metadata": {
    "execution": {
     "iopub.execute_input": "2022-12-19T13:14:42.696270Z",
     "iopub.status.busy": "2022-12-19T13:14:42.695654Z",
     "iopub.status.idle": "2022-12-19T13:14:42.699317Z",
     "shell.execute_reply": "2022-12-19T13:14:42.699861Z"
    },
    "papermill": {
     "duration": 0.128018,
     "end_time": "2022-12-19T13:14:42.700048",
     "exception": false,
     "start_time": "2022-12-19T13:14:42.572030",
     "status": "completed"
    },
    "tags": []
   },
   "outputs": [],
   "source": [
    "#import the metrics\n",
    "from sklearn.metrics import accuracy_score\n",
    "from sklearn.metrics import f1_score\n",
    "from sklearn.metrics import classification_report\n",
    "from sklearn.metrics import confusion_matrix"
   ]
  },
  {
   "cell_type": "code",
   "execution_count": 90,
   "id": "b74fb847",
   "metadata": {
    "execution": {
     "iopub.execute_input": "2022-12-19T13:14:42.942282Z",
     "iopub.status.busy": "2022-12-19T13:14:42.941629Z",
     "iopub.status.idle": "2022-12-19T13:14:42.959017Z",
     "shell.execute_reply": "2022-12-19T13:14:42.959588Z"
    },
    "papermill": {
     "duration": 0.140667,
     "end_time": "2022-12-19T13:14:42.959796",
     "exception": false,
     "start_time": "2022-12-19T13:14:42.819129",
     "status": "completed"
    },
    "tags": []
   },
   "outputs": [
    {
     "name": "stdout",
     "output_type": "stream",
     "text": [
      "Accuracy Score on training set 0.90762\n",
      "Accuracy Score on test set 0.63609\n"
     ]
    }
   ],
   "source": [
    "#get the model accuracy on the training and the test set\n",
    "print('Accuracy Score on training set %.5f' %accuracy_score(y_train,RC_train_predictions))\n",
    "print('Accuracy Score on test set %.5f' %accuracy_score(y_test,RC_test_predictions))"
   ]
  },
  {
   "cell_type": "markdown",
   "id": "a66fa5fd",
   "metadata": {
    "papermill": {
     "duration": 0.118695,
     "end_time": "2022-12-19T13:14:43.199864",
     "exception": false,
     "start_time": "2022-12-19T13:14:43.081169",
     "status": "completed"
    },
    "tags": []
   },
   "source": [
    "_Accuracy is never a good metric for an imbalanced dataset as in this case. This can be highighted using the f1 score. A low f1-score for a label indicate poor performance of the model._"
   ]
  },
  {
   "cell_type": "code",
   "execution_count": 91,
   "id": "ea583404",
   "metadata": {
    "execution": {
     "iopub.execute_input": "2022-12-19T13:14:43.443828Z",
     "iopub.status.busy": "2022-12-19T13:14:43.443140Z",
     "iopub.status.idle": "2022-12-19T13:14:43.677391Z",
     "shell.execute_reply": "2022-12-19T13:14:43.676843Z"
    },
    "papermill": {
     "duration": 0.357526,
     "end_time": "2022-12-19T13:14:43.677576",
     "exception": false,
     "start_time": "2022-12-19T13:14:43.320050",
     "status": "completed"
    },
    "tags": []
   },
   "outputs": [
    {
     "name": "stdout",
     "output_type": "stream",
     "text": [
      "Classification Report Training set\n",
      "\n",
      "\n",
      "              precision    recall  f1-score   support\n",
      "\n",
      "       group       0.93      0.86      0.89      2801\n",
      "      person       0.92      0.89      0.91      3687\n",
      "      public       0.88      0.96      0.92      3687\n",
      "\n",
      "    accuracy                           0.91     10175\n",
      "   macro avg       0.91      0.90      0.91     10175\n",
      "weighted avg       0.91      0.91      0.91     10175\n",
      "\n"
     ]
    }
   ],
   "source": [
    "print('Classification Report Training set')\n",
    "print('\\n')\n",
    "print(classification_report(y_train,RC_train_predictions))"
   ]
  },
  {
   "cell_type": "code",
   "execution_count": 92,
   "id": "01104514",
   "metadata": {
    "execution": {
     "iopub.execute_input": "2022-12-19T13:14:43.935956Z",
     "iopub.status.busy": "2022-12-19T13:14:43.934985Z",
     "iopub.status.idle": "2022-12-19T13:14:43.983634Z",
     "shell.execute_reply": "2022-12-19T13:14:43.982885Z"
    },
    "papermill": {
     "duration": 0.185149,
     "end_time": "2022-12-19T13:14:43.983792",
     "exception": false,
     "start_time": "2022-12-19T13:14:43.798643",
     "status": "completed"
    },
    "tags": []
   },
   "outputs": [
    {
     "name": "stdout",
     "output_type": "stream",
     "text": [
      "Classification Report Testing set\n",
      "\n",
      "\n",
      "              precision    recall  f1-score   support\n",
      "\n",
      "       group       0.69      0.60      0.64       701\n",
      "      person       0.73      0.69      0.71       922\n",
      "      public       0.42      0.57      0.48       394\n",
      "\n",
      "    accuracy                           0.64      2017\n",
      "   macro avg       0.61      0.62      0.61      2017\n",
      "weighted avg       0.66      0.64      0.64      2017\n",
      "\n"
     ]
    }
   ],
   "source": [
    "print('Classification Report Testing set')\n",
    "print('\\n')\n",
    "print(classification_report(y_test,RC_test_predictions))"
   ]
  },
  {
   "cell_type": "markdown",
   "id": "4d75c0e2",
   "metadata": {
    "papermill": {
     "duration": 0.123321,
     "end_time": "2022-12-19T13:14:44.229775",
     "exception": false,
     "start_time": "2022-12-19T13:14:44.106454",
     "status": "completed"
    },
    "tags": []
   },
   "source": [
    "# Vergleich der Modellperformance\n"
   ]
  },
  {
   "cell_type": "code",
   "execution_count": 93,
   "id": "33a9d8cc",
   "metadata": {
    "execution": {
     "iopub.execute_input": "2022-12-19T13:14:44.477505Z",
     "iopub.status.busy": "2022-12-19T13:14:44.476471Z",
     "iopub.status.idle": "2022-12-19T13:14:44.573228Z",
     "shell.execute_reply": "2022-12-19T13:14:44.572582Z"
    },
    "papermill": {
     "duration": 0.221615,
     "end_time": "2022-12-19T13:14:44.573370",
     "exception": false,
     "start_time": "2022-12-19T13:14:44.351755",
     "status": "completed"
    },
    "tags": []
   },
   "outputs": [
    {
     "name": "stdout",
     "output_type": "stream",
     "text": [
      "Classification Model Performance Report\n",
      "\n",
      "\n",
      "-TARGET-\n",
      "\n",
      "\n",
      "Logistic Regression\n",
      "Accuracy Score on training set 0.85710\n",
      "Accuracy Score on test set 0.65047\n",
      "\n",
      "\n",
      "SVM\n",
      "Accuracy Score on training set 0.87843\n",
      "Accuracy Score on test set 0.65146\n",
      "\n",
      "\n",
      "NaiveBayes\n",
      "Accuracy Score on training set 0.81032\n",
      "Accuracy Score on test set 0.64403\n",
      "\n",
      "\n",
      "RandomForest\n",
      "Accuracy Score on training set 0.99420\n",
      "Accuracy Score on test set 0.64204\n",
      "\n",
      "\n",
      "DecisionTree\n",
      "Accuracy Score on training set 0.99420\n",
      "Accuracy Score on test set 0.58503\n",
      "\n",
      "\n",
      "RidgeClassifier\n",
      "Accuracy Score on training set 0.90762\n",
      "Accuracy Score on test set 0.63609\n",
      "\n",
      "\n"
     ]
    }
   ],
   "source": [
    "print('Classification Model Performance Report')\n",
    "print('\\n')\n",
    "print('-TARGET-')\n",
    "print('\\n')\n",
    "\n",
    "print('Logistic Regression')\n",
    "print('Accuracy Score on training set %.5f' %accuracy_score(y_train,LR_train_predictions))\n",
    "print('Accuracy Score on test set %.5f' %accuracy_score(y_test,LR_test_predictions))\n",
    "print('\\n')\n",
    "\n",
    "print('SVM')\n",
    "print('Accuracy Score on training set %.5f' %accuracy_score(y_train,SVM_train_predictions))\n",
    "print('Accuracy Score on test set %.5f' %accuracy_score(y_test,SVM_test_predictions))\n",
    "print('\\n')\n",
    "\n",
    "print('NaiveBayes')\n",
    "print('Accuracy Score on training set %.5f' %accuracy_score(y_train,NB_train_predictions))\n",
    "print('Accuracy Score on test set %.5f' %accuracy_score(y_test,NB_test_predictions))\n",
    "print('\\n')\n",
    "\n",
    "print('RandomForest')\n",
    "print('Accuracy Score on training set %.5f' %accuracy_score(y_train,RF_train_predictions))\n",
    "print('Accuracy Score on test set %.5f' %accuracy_score(y_test,RF_test_predictions))\n",
    "print('\\n')\n",
    "\n",
    "print('DecisionTree')\n",
    "print('Accuracy Score on training set %.5f' %accuracy_score(y_train,DT_train_predictions))\n",
    "print('Accuracy Score on test set %.5f' %accuracy_score(y_test,DT_test_predictions))\n",
    "print('\\n')\n",
    "\n",
    "print('RidgeClassifier')\n",
    "print('Accuracy Score on training set %.5f' %accuracy_score(y_train,RC_train_predictions))\n",
    "print('Accuracy Score on test set %.5f' %accuracy_score(y_test,RC_test_predictions))\n",
    "print('\\n')"
   ]
  },
  {
   "cell_type": "markdown",
   "id": "343e7c7f",
   "metadata": {
    "papermill": {
     "duration": 0.121062,
     "end_time": "2022-12-19T13:14:44.816171",
     "exception": false,
     "start_time": "2022-12-19T13:14:44.695109",
     "status": "completed"
    },
    "tags": []
   },
   "source": [
    "# Kfold - Cross Validation\n"
   ]
  },
  {
   "cell_type": "code",
   "execution_count": 94,
   "id": "4e103b1e",
   "metadata": {
    "execution": {
     "iopub.execute_input": "2022-12-19T13:14:45.065089Z",
     "iopub.status.busy": "2022-12-19T13:14:45.064411Z",
     "iopub.status.idle": "2022-12-19T13:14:45.067532Z",
     "shell.execute_reply": "2022-12-19T13:14:45.066982Z"
    },
    "papermill": {
     "duration": 0.128429,
     "end_time": "2022-12-19T13:14:45.067679",
     "exception": false,
     "start_time": "2022-12-19T13:14:44.939250",
     "status": "completed"
    },
    "tags": []
   },
   "outputs": [],
   "source": [
    "#import the required libraries for grid search\n",
    "from sklearn.model_selection import StratifiedKFold\n",
    "from sklearn.model_selection import cross_val_score\n",
    "from sklearn.model_selection import learning_curve"
   ]
  },
  {
   "cell_type": "markdown",
   "id": "da41c58d",
   "metadata": {
    "papermill": {
     "duration": 0.120778,
     "end_time": "2022-12-19T13:14:45.312525",
     "exception": false,
     "start_time": "2022-12-19T13:14:45.191747",
     "status": "completed"
    },
    "tags": []
   },
   "source": [
    "## Learning Curve"
   ]
  },
  {
   "cell_type": "code",
   "execution_count": 95,
   "id": "a94b74ab",
   "metadata": {
    "execution": {
     "iopub.execute_input": "2022-12-19T13:14:45.560993Z",
     "iopub.status.busy": "2022-12-19T13:14:45.560355Z",
     "iopub.status.idle": "2022-12-19T13:14:46.420637Z",
     "shell.execute_reply": "2022-12-19T13:14:46.420086Z"
    },
    "papermill": {
     "duration": 0.984043,
     "end_time": "2022-12-19T13:14:46.420795",
     "exception": false,
     "start_time": "2022-12-19T13:14:45.436752",
     "status": "completed"
    },
    "tags": []
   },
   "outputs": [
    {
     "data": {
      "text/plain": [
       "<Figure size 360x360 with 0 Axes>"
      ]
     },
     "metadata": {},
     "output_type": "display_data"
    },
    {
     "data": {
      "image/png": "[encoded data removed]",
      "text/plain": [
       "<Figure size 864x360 with 1 Axes>"
      ]
     },
     "metadata": {
      "needs_background": "light"
     },
     "output_type": "display_data"
    }
   ],
   "source": [
    "import scikitplot.estimators as esti\n",
    "import matplotlib.pyplot as plt\n",
    "plt.figure(figsize=(5, 5))\n",
    "\n",
    "rf = MultinomialNB()\n",
    "esti.plot_learning_curve(rf, X_train,y_train, title='Learning Curve', \n",
    "                         cv=5, n_jobs=1, title_fontsize='large',text_fontsize='medium')\n",
    "plt.show()"
   ]
  },
  {
   "cell_type": "code",
   "execution_count": 96,
   "id": "8a22ec7e",
   "metadata": {
    "execution": {
     "iopub.execute_input": "2022-12-19T13:14:46.676864Z",
     "iopub.status.busy": "2022-12-19T13:14:46.676189Z",
     "iopub.status.idle": "2022-12-19T13:14:47.259934Z",
     "shell.execute_reply": "2022-12-19T13:14:47.259388Z"
    },
    "papermill": {
     "duration": 0.714601,
     "end_time": "2022-12-19T13:14:47.260093",
     "exception": false,
     "start_time": "2022-12-19T13:14:46.545492",
     "status": "completed"
    },
    "tags": []
   },
   "outputs": [
    {
     "name": "stdout",
     "output_type": "stream",
     "text": [
      "CV accuracy scores: [0.67583497 0.68369352 0.6719057  0.67976424 0.71807466 0.68633235\n",
      " 0.72369715 0.72959685 0.72566372 0.73058014]\n",
      "CV accuracy: 0.703 +/- 0.024\n"
     ]
    },
    {
     "data": {
      "image/png": "[encoded data removed]",
      "text/plain": [
       "<Figure size 864x360 with 1 Axes>"
      ]
     },
     "metadata": {
      "needs_background": "light"
     },
     "output_type": "display_data"
    }
   ],
   "source": [
    "import matplotlib.pyplot as plt\n",
    "import seaborn as sns\n",
    "from sklearn.model_selection import cross_val_score\n",
    "\n",
    "scores = cross_val_score(MultinomialNB(), X=X_train, y=y_train, cv=10)\n",
    "print('CV accuracy scores: %s' % scores)\n",
    "print('CV accuracy: %.3f +/- %.3f' % (np.mean(scores),np.std(scores)))\n",
    "\n",
    "\n",
    "\n",
    "plt.plot(scores, label='validation score')\n",
    "plt.axhline(np.mean(scores),  label='m', color = 'r', linestyle='dashed')\n",
    "plt.axhline(np.mean(scores)+ np.std(scores),  label='std', color = 'g', linestyle='dashed')\n",
    "plt.axhline(np.mean(scores)- np.std(scores), color = 'g', linestyle='dashed')\n",
    "\n",
    "plt.xlabel('k-fold')\n",
    "plt.ylabel('validation score')\n",
    "plt.title('Validation Curve')\n",
    "\n",
    "plt.legend()\n",
    "\n",
    "plt.show()"
   ]
  },
  {
   "cell_type": "code",
   "execution_count": 97,
   "id": "baf61014",
   "metadata": {
    "execution": {
     "iopub.execute_input": "2022-12-19T13:14:47.524375Z",
     "iopub.status.busy": "2022-12-19T13:14:47.523689Z",
     "iopub.status.idle": "2022-12-19T13:14:47.527035Z",
     "shell.execute_reply": "2022-12-19T13:14:47.526511Z"
    },
    "papermill": {
     "duration": 0.138102,
     "end_time": "2022-12-19T13:14:47.527186",
     "exception": false,
     "start_time": "2022-12-19T13:14:47.389084",
     "status": "completed"
    },
    "tags": []
   },
   "outputs": [],
   "source": [
    "def learning_curve(clf, k):\n",
    "    plt.figure(figsize=(5, 5))\n",
    "\n",
    "    rf = clf\n",
    "    esti.plot_learning_curve(rf, X_train,y_train, title='Learning Curve', \n",
    "                         cv=k, n_jobs=1, title_fontsize='large',text_fontsize='medium')\n",
    "    plt.savefig('L_Curve'+str(clf)+'clf.png')\n",
    "    plt.show()"
   ]
  },
  {
   "cell_type": "code",
   "execution_count": 98,
   "id": "b62a4bbd",
   "metadata": {
    "execution": {
     "iopub.execute_input": "2022-12-19T13:14:47.829717Z",
     "iopub.status.busy": "2022-12-19T13:14:47.818942Z",
     "iopub.status.idle": "2022-12-19T13:21:42.225679Z",
     "shell.execute_reply": "2022-12-19T13:21:42.226201Z"
    },
    "papermill": {
     "duration": 414.573628,
     "end_time": "2022-12-19T13:21:42.226397",
     "exception": false,
     "start_time": "2022-12-19T13:14:47.652769",
     "status": "completed"
    },
    "tags": []
   },
   "outputs": [
    {
     "name": "stdout",
     "output_type": "stream",
     "text": [
      "Classification Model Performance Report\n",
      "-TARGET-\n",
      "\n",
      "\n",
      "**5-Fold-Cross-Validation**\n",
      "\n",
      "\n"
     ]
    },
    {
     "name": "stderr",
     "output_type": "stream",
     "text": [
      "/opt/conda/lib/python3.7/site-packages/sklearn/model_selection/_validation.py:552: FitFailedWarning: Estimator fit failed. The score on this train-test partition for these parameters will be set to nan. Details: \n",
      "Traceback (most recent call last):\n",
      "  File \"/opt/conda/lib/python3.7/site-packages/sklearn/model_selection/_validation.py\", line 531, in _fit_and_score\n",
      "    estimator.fit(X_train, y_train, **fit_params)\n",
      "  File \"/opt/conda/lib/python3.7/site-packages/sklearn/linear_model/_logistic.py\", line 1417, in fit\n",
      "    for class_, warm_start_coef_ in zip(classes_, warm_start_coef))\n",
      "  File \"/opt/conda/lib/python3.7/site-packages/joblib/parallel.py\", line 1041, in __call__\n",
      "    if self.dispatch_one_batch(iterator):\n",
      "  File \"/opt/conda/lib/python3.7/site-packages/joblib/parallel.py\", line 859, in dispatch_one_batch\n",
      "    self._dispatch(tasks)\n",
      "  File \"/opt/conda/lib/python3.7/site-packages/joblib/parallel.py\", line 777, in _dispatch\n",
      "    job = self._backend.apply_async(batch, callback=cb)\n",
      "  File \"/opt/conda/lib/python3.7/site-packages/joblib/_parallel_backends.py\", line 208, in apply_async\n",
      "    result = ImmediateResult(func)\n",
      "  File \"/opt/conda/lib/python3.7/site-packages/joblib/_parallel_backends.py\", line 572, in __init__\n",
      "    self.results = batch()\n",
      "  File \"/opt/conda/lib/python3.7/site-packages/joblib/parallel.py\", line 263, in __call__\n",
      "    for func, args, kwargs in self.items]\n",
      "  File \"/opt/conda/lib/python3.7/site-packages/joblib/parallel.py\", line 263, in <listcomp>\n",
      "    for func, args, kwargs in self.items]\n",
      "  File \"/opt/conda/lib/python3.7/site-packages/sklearn/linear_model/_logistic.py\", line 764, in _logistic_regression_path\n",
      "    extra_warning_msg=_LOGISTIC_SOLVER_CONVERGENCE_MSG)\n",
      "  File \"/opt/conda/lib/python3.7/site-packages/sklearn/utils/optimize.py\", line 243, in _check_optimize_result\n",
      "    ).format(solver, result.status, result.message.decode(\"latin1\"))\n",
      "AttributeError: 'str' object has no attribute 'decode'\n",
      "\n",
      "  FitFailedWarning)\n",
      "/opt/conda/lib/python3.7/site-packages/sklearn/model_selection/_validation.py:552: FitFailedWarning: Estimator fit failed. The score on this train-test partition for these parameters will be set to nan. Details: \n",
      "Traceback (most recent call last):\n",
      "  File \"/opt/conda/lib/python3.7/site-packages/sklearn/model_selection/_validation.py\", line 531, in _fit_and_score\n",
      "    estimator.fit(X_train, y_train, **fit_params)\n",
      "  File \"/opt/conda/lib/python3.7/site-packages/sklearn/linear_model/_logistic.py\", line 1417, in fit\n",
      "    for class_, warm_start_coef_ in zip(classes_, warm_start_coef))\n",
      "  File \"/opt/conda/lib/python3.7/site-packages/joblib/parallel.py\", line 1041, in __call__\n",
      "    if self.dispatch_one_batch(iterator):\n",
      "  File \"/opt/conda/lib/python3.7/site-packages/joblib/parallel.py\", line 859, in dispatch_one_batch\n",
      "    self._dispatch(tasks)\n",
      "  File \"/opt/conda/lib/python3.7/site-packages/joblib/parallel.py\", line 777, in _dispatch\n",
      "    job = self._backend.apply_async(batch, callback=cb)\n",
      "  File \"/opt/conda/lib/python3.7/site-packages/joblib/_parallel_backends.py\", line 208, in apply_async\n",
      "    result = ImmediateResult(func)\n",
      "  File \"/opt/conda/lib/python3.7/site-packages/joblib/_parallel_backends.py\", line 572, in __init__\n",
      "    self.results = batch()\n",
      "  File \"/opt/conda/lib/python3.7/site-packages/joblib/parallel.py\", line 263, in __call__\n",
      "    for func, args, kwargs in self.items]\n",
      "  File \"/opt/conda/lib/python3.7/site-packages/joblib/parallel.py\", line 263, in <listcomp>\n",
      "    for func, args, kwargs in self.items]\n",
      "  File \"/opt/conda/lib/python3.7/site-packages/sklearn/linear_model/_logistic.py\", line 764, in _logistic_regression_path\n",
      "    extra_warning_msg=_LOGISTIC_SOLVER_CONVERGENCE_MSG)\n",
      "  File \"/opt/conda/lib/python3.7/site-packages/sklearn/utils/optimize.py\", line 243, in _check_optimize_result\n",
      "    ).format(solver, result.status, result.message.decode(\"latin1\"))\n",
      "AttributeError: 'str' object has no attribute 'decode'\n",
      "\n",
      "  FitFailedWarning)\n"
     ]
    },
    {
     "data": {
      "text/plain": [
       "<Figure size 360x360 with 0 Axes>"
      ]
     },
     "metadata": {},
     "output_type": "display_data"
    },
    {
     "data": {
      "image/png": "[encoded data removed]",
      "text/plain": [
       "<Figure size 864x360 with 1 Axes>"
      ]
     },
     "metadata": {
      "needs_background": "light"
     },
     "output_type": "display_data"
    },
    {
     "name": "stdout",
     "output_type": "stream",
     "text": [
      "\n",
      "\n",
      "\n",
      "\n"
     ]
    },
    {
     "data": {
      "text/plain": [
       "<Figure size 360x360 with 0 Axes>"
      ]
     },
     "metadata": {},
     "output_type": "display_data"
    },
    {
     "data": {
      "image/png": "[encoded data removed]",
      "text/plain": [
       "<Figure size 864x360 with 1 Axes>"
      ]
     },
     "metadata": {
      "needs_background": "light"
     },
     "output_type": "display_data"
    },
    {
     "name": "stdout",
     "output_type": "stream",
     "text": [
      "\n",
      "\n",
      "\n",
      "\n"
     ]
    },
    {
     "data": {
      "text/plain": [
       "<Figure size 360x360 with 0 Axes>"
      ]
     },
     "metadata": {},
     "output_type": "display_data"
    },
    {
     "data": {
      "image/png": "[encoded data removed]",
      "text/plain": [
       "<Figure size 864x360 with 1 Axes>"
      ]
     },
     "metadata": {
      "needs_background": "light"
     },
     "output_type": "display_data"
    },
    {
     "name": "stdout",
     "output_type": "stream",
     "text": [
      "\n",
      "\n",
      "\n",
      "\n"
     ]
    },
    {
     "data": {
      "text/plain": [
       "<Figure size 360x360 with 0 Axes>"
      ]
     },
     "metadata": {},
     "output_type": "display_data"
    },
    {
     "data": {
      "image/png": "[encoded data removed]",
      "text/plain": [
       "<Figure size 864x360 with 1 Axes>"
      ]
     },
     "metadata": {
      "needs_background": "light"
     },
     "output_type": "display_data"
    },
    {
     "name": "stdout",
     "output_type": "stream",
     "text": [
      "\n",
      "\n",
      "\n",
      "\n"
     ]
    },
    {
     "data": {
      "text/plain": [
       "<Figure size 360x360 with 0 Axes>"
      ]
     },
     "metadata": {},
     "output_type": "display_data"
    },
    {
     "data": {
      "image/png": "[encoded data removed]",
      "text/plain": [
       "<Figure size 864x360 with 1 Axes>"
      ]
     },
     "metadata": {
      "needs_background": "light"
     },
     "output_type": "display_data"
    },
    {
     "name": "stdout",
     "output_type": "stream",
     "text": [
      "\n",
      "\n",
      "\n",
      "\n"
     ]
    },
    {
     "data": {
      "text/plain": [
       "<Figure size 360x360 with 0 Axes>"
      ]
     },
     "metadata": {},
     "output_type": "display_data"
    },
    {
     "data": {
      "image/png": "[encoded data removed]",
      "text/plain": [
       "<Figure size 864x360 with 1 Axes>"
      ]
     },
     "metadata": {
      "needs_background": "light"
     },
     "output_type": "display_data"
    },
    {
     "name": "stdout",
     "output_type": "stream",
     "text": [
      "\n",
      "\n"
     ]
    }
   ],
   "source": [
    "print('Classification Model Performance Report')\n",
    "print('-TARGET-')\n",
    "print('\\n')\n",
    "print('**5-Fold-Cross-Validation**')\n",
    "print('\\n')\n",
    "learning_curve(LogisticRegression(), 5)\n",
    "print('\\n')\n",
    "\n",
    "print('\\n')\n",
    "learning_curve(SVC(), 5)\n",
    "print('\\n')\n",
    "\n",
    "print('\\n')\n",
    "learning_curve(MultinomialNB(), 5)\n",
    "print('\\n')\n",
    "\n",
    "print('\\n')\n",
    "learning_curve(RandomForestClassifier(), 5)\n",
    "print('\\n')\n",
    "\n",
    "print('\\n')\n",
    "learning_curve(DecisionTreeClassifier(), 5)\n",
    "print('\\n')\n",
    "\n",
    "print('\\n')\n",
    "learning_curve(RidgeClassifier(), 5)\n",
    "print('\\n')"
   ]
  },
  {
   "cell_type": "markdown",
   "id": "44fa5d9a",
   "metadata": {
    "papermill": {
     "duration": 0.187476,
     "end_time": "2022-12-19T13:21:42.556790",
     "exception": false,
     "start_time": "2022-12-19T13:21:42.369314",
     "status": "completed"
    },
    "tags": []
   },
   "source": [
    "# Function call"
   ]
  },
  {
   "cell_type": "code",
   "execution_count": 99,
   "id": "1a17f2a4",
   "metadata": {
    "execution": {
     "iopub.execute_input": "2022-12-19T13:21:42.841020Z",
     "iopub.status.busy": "2022-12-19T13:21:42.840192Z",
     "iopub.status.idle": "2022-12-19T13:21:42.847092Z",
     "shell.execute_reply": "2022-12-19T13:21:42.847610Z"
    },
    "papermill": {
     "duration": 0.149482,
     "end_time": "2022-12-19T13:21:42.847789",
     "exception": false,
     "start_time": "2022-12-19T13:21:42.698307",
     "status": "completed"
    },
    "tags": []
   },
   "outputs": [],
   "source": [
    "def val_curve(clf, k):\n",
    "    scores = cross_val_score(clf, X=X_train, y=y_train, cv=k)\n",
    "    plt.plot(scores, label='validation score', marker='o')\n",
    "    plt.axhline(np.mean(scores),  label='m', color = 'r', linestyle='dashed')\n",
    "    plt.axhline(np.mean(scores)+ np.std(scores),  label='std', color = 'g', linestyle='dashed')\n",
    "    plt.axhline(np.mean(scores)- np.std(scores), color = 'g', linestyle='dashed')\n",
    "\n",
    "    plt.xlabel('k-fold')\n",
    "    plt.ylabel('validation score')\n",
    "    plt.title('Validation Curve')\n",
    "\n",
    "    plt.legend()\n",
    "\n",
    "    plt.show()\n",
    "    print('CV accuracy scores: %s' % scores)\n",
    "    print('CV accuracy: %.3f +/- %.3f' % (np.mean(scores),np.std(scores)))"
   ]
  },
  {
   "cell_type": "code",
   "execution_count": 100,
   "id": "4f76a81b",
   "metadata": {
    "execution": {
     "iopub.execute_input": "2022-12-19T13:21:43.133257Z",
     "iopub.status.busy": "2022-12-19T13:21:43.132545Z",
     "iopub.status.idle": "2022-12-19T13:23:57.000019Z",
     "shell.execute_reply": "2022-12-19T13:23:57.000527Z"
    },
    "papermill": {
     "duration": 134.011411,
     "end_time": "2022-12-19T13:23:57.000723",
     "exception": false,
     "start_time": "2022-12-19T13:21:42.989312",
     "status": "completed"
    },
    "tags": []
   },
   "outputs": [
    {
     "name": "stdout",
     "output_type": "stream",
     "text": [
      "Classification Model Performance Report\n",
      "-Target-\n",
      "\n",
      "\n",
      "**5-Fold-Cross-Validation**\n",
      "\n",
      "\n"
     ]
    },
    {
     "data": {
      "image/png": "[encoded data removed]",
      "text/plain": [
       "<Figure size 864x360 with 1 Axes>"
      ]
     },
     "metadata": {
      "needs_background": "light"
     },
     "output_type": "display_data"
    },
    {
     "name": "stdout",
     "output_type": "stream",
     "text": [
      "CV accuracy scores: [0.72432432 0.73120393 0.74545455 0.74250614 0.74840295]\n",
      "CV accuracy: 0.738 +/- 0.009\n",
      "\n",
      "\n",
      "\n",
      "\n"
     ]
    },
    {
     "data": {
      "image/png": "[encoded data removed]",
      "text/plain": [
       "<Figure size 864x360 with 1 Axes>"
      ]
     },
     "metadata": {
      "needs_background": "light"
     },
     "output_type": "display_data"
    },
    {
     "name": "stdout",
     "output_type": "stream",
     "text": [
      "CV accuracy scores: [0.76658477 0.76117936 0.7965602  0.80884521 0.804914  ]\n",
      "CV accuracy: 0.788 +/- 0.020\n",
      "\n",
      "\n",
      "\n",
      "\n"
     ]
    },
    {
     "data": {
      "image/png": "[encoded data removed]",
      "text/plain": [
       "<Figure size 864x360 with 1 Axes>"
      ]
     },
     "metadata": {
      "needs_background": "light"
     },
     "output_type": "display_data"
    },
    {
     "name": "stdout",
     "output_type": "stream",
     "text": [
      "CV accuracy scores: [0.67862408 0.68353808 0.70859951 0.72334152 0.72432432]\n",
      "CV accuracy: 0.704 +/- 0.019\n",
      "\n",
      "\n",
      "\n",
      "\n"
     ]
    },
    {
     "data": {
      "image/png": "[encoded data removed]",
      "text/plain": [
       "<Figure size 864x360 with 1 Axes>"
      ]
     },
     "metadata": {
      "needs_background": "light"
     },
     "output_type": "display_data"
    },
    {
     "name": "stdout",
     "output_type": "stream",
     "text": [
      "CV accuracy scores: [0.74054054 0.74594595 0.76560197 0.78476658 0.76068796]\n",
      "CV accuracy: 0.760 +/- 0.016\n",
      "\n",
      "\n",
      "\n",
      "\n"
     ]
    },
    {
     "data": {
      "image/png": "[encoded data removed]",
      "text/plain": [
       "<Figure size 864x360 with 1 Axes>"
      ]
     },
     "metadata": {
      "needs_background": "light"
     },
     "output_type": "display_data"
    },
    {
     "name": "stdout",
     "output_type": "stream",
     "text": [
      "CV accuracy scores: [0.6997543  0.72039312 0.75184275 0.77886978 0.74447174]\n",
      "CV accuracy: 0.739 +/- 0.027\n",
      "\n",
      "\n",
      "\n",
      "\n"
     ]
    },
    {
     "data": {
      "image/png": "[encoded data removed]",
      "text/plain": [
       "<Figure size 864x360 with 1 Axes>"
      ]
     },
     "metadata": {
      "needs_background": "light"
     },
     "output_type": "display_data"
    },
    {
     "name": "stdout",
     "output_type": "stream",
     "text": [
      "CV accuracy scores: [0.71646192 0.71941032 0.75577396 0.75184275 0.75184275]\n",
      "CV accuracy: 0.739 +/- 0.017\n",
      "\n",
      "\n"
     ]
    }
   ],
   "source": [
    "print('Classification Model Performance Report')\n",
    "print('-Target-')\n",
    "print('\\n')\n",
    "print('**5-Fold-Cross-Validation**')\n",
    "print('\\n')\n",
    "val_curve(LogisticRegression(), 5)\n",
    "print('\\n')\n",
    "\n",
    "print('\\n')\n",
    "val_curve(SVC(), 5)\n",
    "print('\\n')\n",
    "\n",
    "print('\\n')\n",
    "val_curve(MultinomialNB(), 5)\n",
    "print('\\n')\n",
    "\n",
    "print('\\n')\n",
    "val_curve(RandomForestClassifier(), 5)\n",
    "print('\\n')\n",
    "\n",
    "print('\\n')\n",
    "val_curve(DecisionTreeClassifier(), 5)\n",
    "print('\\n')\n",
    "\n",
    "print('\\n')\n",
    "val_curve(RidgeClassifier(), 5)\n",
    "print('\\n')"
   ]
  },
  {
   "cell_type": "markdown",
   "id": "d8d8bcd5",
   "metadata": {
    "papermill": {
     "duration": 0.148604,
     "end_time": "2022-12-19T13:23:57.298651",
     "exception": false,
     "start_time": "2022-12-19T13:23:57.150047",
     "status": "completed"
    },
    "tags": []
   },
   "source": [
    "# Gaussian Dist\n",
    "Yellow Brick"
   ]
  },
  {
   "cell_type": "code",
   "execution_count": 101,
   "id": "860b07cc",
   "metadata": {
    "execution": {
     "iopub.execute_input": "2022-12-19T13:23:57.602890Z",
     "iopub.status.busy": "2022-12-19T13:23:57.602175Z",
     "iopub.status.idle": "2022-12-19T13:24:06.731482Z",
     "shell.execute_reply": "2022-12-19T13:24:06.732005Z"
    },
    "papermill": {
     "duration": 9.282776,
     "end_time": "2022-12-19T13:24:06.732185",
     "exception": false,
     "start_time": "2022-12-19T13:23:57.449409",
     "status": "completed"
    },
    "tags": []
   },
   "outputs": [
    {
     "name": "stdout",
     "output_type": "stream",
     "text": [
      "Classification Report Testing set\n",
      "\n",
      "\n",
      "              precision    recall  f1-score   support\n",
      "\n",
      "       group       0.72      0.59      0.65       701\n",
      "      person       0.76      0.70      0.73       922\n",
      "      public       0.42      0.63      0.51       394\n",
      "\n",
      "    accuracy                           0.65      2017\n",
      "   macro avg       0.63      0.64      0.63      2017\n",
      "weighted avg       0.68      0.65      0.66      2017\n",
      "\n",
      "CV accuracy scores: [0.72432432 0.73120393 0.74545455 0.74250614 0.74840295]\n",
      "CV accuracy: 0.738 +/- 0.009\n"
     ]
    },
    {
     "data": {
      "image/png": "[encoded data removed]",
      "text/plain": [
       "<Figure size 576x396 with 2 Axes>"
      ]
     },
     "metadata": {},
     "output_type": "display_data"
    },
    {
     "data": {
      "text/plain": [
       "<AxesSubplot:title={'center':'LogisticRegression Classification Report'}>"
      ]
     },
     "execution_count": 101,
     "metadata": {},
     "output_type": "execute_result"
    }
   ],
   "source": [
    "from sklearn.model_selection import cross_val_score\n",
    "\n",
    "print('Classification Report Testing set')\n",
    "print('\\n')\n",
    "print(classification_report(y_test,LR_test_predictions))\n",
    "\n",
    "scores = cross_val_score(LogisticRegression(), X=X_train, y=y_train, cv=5)\n",
    "print('CV accuracy scores: %s' % scores)\n",
    "print('CV accuracy: %.3f +/- %.3f' % (np.mean(scores),np.std(scores)))\n",
    "\n",
    "from sklearn.model_selection import TimeSeriesSplit\n",
    "from yellowbrick.classifier import ClassificationReport\n",
    "\n",
    "# Load the classification dataset\n",
    "\n",
    "# Specify the target classes\n",
    "classes = [\"person\", \"group\", \"public\"]\n",
    "\n",
    "# Instantiate the classification model and visualizer\n",
    "model = LogisticRegression()\n",
    "visualizer = ClassificationReport(model, classes=classes, support=True)\n",
    "\n",
    "visualizer.fit(X_train, y_train)        # Fit the visualizer and the model\n",
    "visualizer.score(X_test, y_test)        # Evaluate the model on the test data\n",
    "visualizer.show()                       # Finalize and show the figure"
   ]
  },
  {
   "cell_type": "code",
   "execution_count": 102,
   "id": "d796618f",
   "metadata": {
    "execution": {
     "iopub.execute_input": "2022-12-19T13:24:07.043242Z",
     "iopub.status.busy": "2022-12-19T13:24:07.042542Z",
     "iopub.status.idle": "2022-12-19T13:24:07.049674Z",
     "shell.execute_reply": "2022-12-19T13:24:07.050199Z"
    },
    "papermill": {
     "duration": 0.165803,
     "end_time": "2022-12-19T13:24:07.050380",
     "exception": false,
     "start_time": "2022-12-19T13:24:06.884577",
     "status": "completed"
    },
    "tags": []
   },
   "outputs": [],
   "source": [
    "from sklearn.model_selection import cross_val_score\n",
    "\n",
    "from sklearn.model_selection import TimeSeriesSplit\n",
    "from yellowbrick.classifier import ClassificationReport\n",
    "\n",
    "def print_report(clf):\n",
    "\n",
    "    scores = cross_val_score(clf, X=X_train, y=y_train, cv=5)\n",
    "    clf.fit(X_train,y_train)\n",
    "    clf_test_predictions = clf.predict(X_test)\n",
    "    print('Classification Report Testing set')\n",
    "    print('\\n')\n",
    "    print(classification_report(y_test,clf_test_predictions))\n",
    "    print('\\n')\n",
    "    print('CV accuracy scores: %s' % scores)\n",
    "    print('CV accuracy: %.3f +/- %.3f' % (np.mean(scores),np.std(scores)))\n",
    "    \n",
    "    # Specify the target classes\n",
    "    classes = [\"person\", \"group\", \"public\"]\n",
    "\n",
    "    # Instantiate the classification model and visualizer\n",
    "    model = clf\n",
    "    visualizer = ClassificationReport(model, classes=classes, support=True)\n",
    "\n",
    "    visualizer.fit(X_train, y_train)        # Fit the visualizer and the model\n",
    "    visualizer.score(X_test, y_test)        # Evaluate the model on the test data\n",
    "    visualizer.show()                       # Finalize and show the figure"
   ]
  },
  {
   "cell_type": "code",
   "execution_count": 103,
   "id": "e1045562",
   "metadata": {
    "execution": {
     "iopub.execute_input": "2022-12-19T13:24:07.359319Z",
     "iopub.status.busy": "2022-12-19T13:24:07.358675Z",
     "iopub.status.idle": "2022-12-19T13:26:34.241721Z",
     "shell.execute_reply": "2022-12-19T13:26:34.242237Z"
    },
    "papermill": {
     "duration": 147.040044,
     "end_time": "2022-12-19T13:26:34.242447",
     "exception": false,
     "start_time": "2022-12-19T13:24:07.202403",
     "status": "completed"
    },
    "tags": []
   },
   "outputs": [
    {
     "name": "stdout",
     "output_type": "stream",
     "text": [
      "Classification Report Testing set\n",
      "\n",
      "\n",
      "              precision    recall  f1-score   support\n",
      "\n",
      "       group       0.72      0.59      0.65       701\n",
      "      person       0.76      0.70      0.73       922\n",
      "      public       0.42      0.63      0.51       394\n",
      "\n",
      "    accuracy                           0.65      2017\n",
      "   macro avg       0.63      0.64      0.63      2017\n",
      "weighted avg       0.68      0.65      0.66      2017\n",
      "\n",
      "\n",
      "\n",
      "CV accuracy scores: [0.72432432 0.73120393 0.74545455 0.74250614 0.74840295]\n",
      "CV accuracy: 0.738 +/- 0.009\n"
     ]
    },
    {
     "data": {
      "image/png": "[encoded data removed]",
      "text/plain": [
       "<Figure size 576x396 with 2 Axes>"
      ]
     },
     "metadata": {},
     "output_type": "display_data"
    },
    {
     "name": "stdout",
     "output_type": "stream",
     "text": [
      "\n",
      "\n",
      "Classification Report Testing set\n",
      "\n",
      "\n",
      "              precision    recall  f1-score   support\n",
      "\n",
      "       group       0.70      0.61      0.65       701\n",
      "      person       0.75      0.70      0.73       922\n",
      "      public       0.44      0.61      0.51       394\n",
      "\n",
      "    accuracy                           0.65      2017\n",
      "   macro avg       0.63      0.64      0.63      2017\n",
      "weighted avg       0.67      0.65      0.66      2017\n",
      "\n",
      "\n",
      "\n",
      "CV accuracy scores: [0.72530713 0.72088452 0.74742015 0.74742015 0.74643735]\n",
      "CV accuracy: 0.737 +/- 0.012\n"
     ]
    },
    {
     "data": {
      "image/png": "[encoded data removed]",
      "text/plain": [
       "<Figure size 576x396 with 2 Axes>"
      ]
     },
     "metadata": {},
     "output_type": "display_data"
    },
    {
     "name": "stdout",
     "output_type": "stream",
     "text": [
      "\n",
      "\n",
      "Classification Report Testing set\n",
      "\n",
      "\n",
      "              precision    recall  f1-score   support\n",
      "\n",
      "       group       0.73      0.57      0.64       701\n",
      "      person       0.73      0.75      0.74       922\n",
      "      public       0.40      0.54      0.46       394\n",
      "\n",
      "    accuracy                           0.64      2017\n",
      "   macro avg       0.62      0.62      0.61      2017\n",
      "weighted avg       0.66      0.64      0.65      2017\n",
      "\n",
      "\n",
      "\n",
      "CV accuracy scores: [0.67862408 0.68353808 0.70859951 0.72334152 0.72432432]\n",
      "CV accuracy: 0.704 +/- 0.019\n"
     ]
    },
    {
     "data": {
      "image/png": "[encoded data removed]",
      "text/plain": [
       "<Figure size 576x396 with 2 Axes>"
      ]
     },
     "metadata": {},
     "output_type": "display_data"
    },
    {
     "name": "stdout",
     "output_type": "stream",
     "text": [
      "\n",
      "\n",
      "Classification Report Testing set\n",
      "\n",
      "\n",
      "              precision    recall  f1-score   support\n",
      "\n",
      "       group       0.71      0.62      0.66       701\n",
      "      person       0.75      0.70      0.73       922\n",
      "      public       0.45      0.62      0.52       394\n",
      "\n",
      "    accuracy                           0.66      2017\n",
      "   macro avg       0.64      0.65      0.64      2017\n",
      "weighted avg       0.68      0.66      0.66      2017\n",
      "\n",
      "\n",
      "\n",
      "CV accuracy scores: [0.73513514 0.74987715 0.77149877 0.78820639 0.75872236]\n",
      "CV accuracy: 0.761 +/- 0.018\n"
     ]
    },
    {
     "data": {
      "image/png": "[encoded data removed]",
      "text/plain": [
       "<Figure size 576x396 with 2 Axes>"
      ]
     },
     "metadata": {},
     "output_type": "display_data"
    },
    {
     "name": "stdout",
     "output_type": "stream",
     "text": [
      "\n",
      "\n",
      "Classification Report Testing set\n",
      "\n",
      "\n",
      "              precision    recall  f1-score   support\n",
      "\n",
      "       group       0.59      0.56      0.58       701\n",
      "      person       0.67      0.63      0.65       922\n",
      "      public       0.40      0.50      0.45       394\n",
      "\n",
      "    accuracy                           0.58      2017\n",
      "   macro avg       0.56      0.56      0.56      2017\n",
      "weighted avg       0.59      0.58      0.58      2017\n",
      "\n",
      "\n",
      "\n",
      "CV accuracy scores: [0.6977887  0.70761671 0.76658477 0.77149877 0.75528256]\n",
      "CV accuracy: 0.740 +/- 0.031\n"
     ]
    },
    {
     "data": {
      "image/png": "[encoded data removed]",
      "text/plain": [
       "<Figure size 576x396 with 2 Axes>"
      ]
     },
     "metadata": {},
     "output_type": "display_data"
    },
    {
     "name": "stdout",
     "output_type": "stream",
     "text": [
      "\n",
      "\n",
      "Classification Report Testing set\n",
      "\n",
      "\n",
      "              precision    recall  f1-score   support\n",
      "\n",
      "       group       0.69      0.60      0.64       701\n",
      "      person       0.73      0.69      0.71       922\n",
      "      public       0.42      0.57      0.48       394\n",
      "\n",
      "    accuracy                           0.64      2017\n",
      "   macro avg       0.61      0.62      0.61      2017\n",
      "weighted avg       0.66      0.64      0.64      2017\n",
      "\n",
      "\n",
      "\n",
      "CV accuracy scores: [0.71646192 0.71941032 0.75577396 0.75184275 0.75184275]\n",
      "CV accuracy: 0.739 +/- 0.017\n"
     ]
    },
    {
     "data": {
      "image/png": "[encoded data removed]",
      "text/plain": [
       "<Figure size 576x396 with 2 Axes>"
      ]
     },
     "metadata": {},
     "output_type": "display_data"
    },
    {
     "name": "stdout",
     "output_type": "stream",
     "text": [
      "\n",
      "\n"
     ]
    }
   ],
   "source": [
    "print_report(LogisticRegression())\n",
    "print('\\n')\n",
    "print_report(SVC(kernel='linear'))\n",
    "print('\\n')\n",
    "print_report(MultinomialNB())\n",
    "print('\\n')\n",
    "print_report(RandomForestClassifier())\n",
    "print('\\n')\n",
    "print_report(DecisionTreeClassifier())\n",
    "print('\\n')\n",
    "print_report(RidgeClassifier())\n",
    "print('\\n')"
   ]
  },
  {
   "cell_type": "markdown",
   "id": "3885d219",
   "metadata": {
    "papermill": {
     "duration": 0.163223,
     "end_time": "2022-12-19T13:26:34.568924",
     "exception": false,
     "start_time": "2022-12-19T13:26:34.405701",
     "status": "completed"
    },
    "tags": []
   },
   "source": [
    "# LABEL TEST SET AND EXPORT"
   ]
  },
  {
   "cell_type": "code",
   "execution_count": 104,
   "id": "70af2fb6",
   "metadata": {
    "execution": {
     "iopub.execute_input": "2022-12-19T13:26:34.901421Z",
     "iopub.status.busy": "2022-12-19T13:26:34.900788Z",
     "iopub.status.idle": "2022-12-19T13:26:34.965665Z",
     "shell.execute_reply": "2022-12-19T13:26:34.965144Z"
    },
    "papermill": {
     "duration": 0.233489,
     "end_time": "2022-12-19T13:26:34.965814",
     "exception": false,
     "start_time": "2022-12-19T13:26:34.732325",
     "status": "completed"
    },
    "tags": []
   },
   "outputs": [
    {
     "data": {
      "text/html": [
       "<div>\n",
       "<style scoped>\n",
       "    .dataframe tbody tr th:only-of-type {\n",
       "        vertical-align: middle;\n",
       "    }\n",
       "\n",
       "    .dataframe tbody tr th {\n",
       "        vertical-align: top;\n",
       "    }\n",
       "\n",
       "    .dataframe thead th {\n",
       "        text-align: right;\n",
       "    }\n",
       "</style>\n",
       "<table border=\"1\" class=\"dataframe\">\n",
       "  <thead>\n",
       "    <tr style=\"text-align: right;\">\n",
       "      <th></th>\n",
       "      <th>c_id</th>\n",
       "      <th>c_text</th>\n",
       "      <th>date</th>\n",
       "      <th>author_id</th>\n",
       "      <th>like_count</th>\n",
       "      <th>quote_count</th>\n",
       "      <th>retweet_count</th>\n",
       "      <th>reply_count</th>\n",
       "    </tr>\n",
       "  </thead>\n",
       "  <tbody>\n",
       "    <tr>\n",
       "      <th>0</th>\n",
       "      <td>1.384217e+18</td>\n",
       "      <td>@MichaelBroecker @HeuteBluhm @ArminLaschet @CD...</td>\n",
       "      <td>2021-04-19T18:46:54Z</td>\n",
       "      <td>1.109805e+18</td>\n",
       "      <td>1</td>\n",
       "      <td>0</td>\n",
       "      <td>0</td>\n",
       "      <td>0</td>\n",
       "    </tr>\n",
       "    <tr>\n",
       "      <th>1</th>\n",
       "      <td>1.397925e+18</td>\n",
       "      <td>@reitschuster Jetzt beginnt die Wahlwerbung fü...</td>\n",
       "      <td>2021-05-27T14:38:06Z</td>\n",
       "      <td>1.373293e+18</td>\n",
       "      <td>3</td>\n",
       "      <td>0</td>\n",
       "      <td>0</td>\n",
       "      <td>0</td>\n",
       "    </tr>\n",
       "    <tr>\n",
       "      <th>2</th>\n",
       "      <td>1.391853e+18</td>\n",
       "      <td>@welt Na wenn DA mal nicht ein paar Querdenker...</td>\n",
       "      <td>2021-05-10T20:30:49Z</td>\n",
       "      <td>1.217412e+18</td>\n",
       "      <td>0</td>\n",
       "      <td>0</td>\n",
       "      <td>0</td>\n",
       "      <td>0</td>\n",
       "    </tr>\n",
       "    <tr>\n",
       "      <th>3</th>\n",
       "      <td>1.383950e+18</td>\n",
       "      <td>@Eiterdaus Danke hatte ich schon. Is wie ne Gr...</td>\n",
       "      <td>2021-04-19T01:07:10Z</td>\n",
       "      <td>7.673723e+17</td>\n",
       "      <td>0</td>\n",
       "      <td>0</td>\n",
       "      <td>0</td>\n",
       "      <td>1</td>\n",
       "    </tr>\n",
       "    <tr>\n",
       "      <th>4</th>\n",
       "      <td>1.400755e+18</td>\n",
       "      <td>@janboehm Es gibt weitaus wichtigere Punkte um...</td>\n",
       "      <td>2021-06-04T10:04:10Z</td>\n",
       "      <td>1.252295e+18</td>\n",
       "      <td>1109</td>\n",
       "      <td>1</td>\n",
       "      <td>9</td>\n",
       "      <td>19</td>\n",
       "    </tr>\n",
       "  </tbody>\n",
       "</table>\n",
       "</div>"
      ],
      "text/plain": [
       "           c_id                                             c_text  \\\n",
       "0  1.384217e+18  @MichaelBroecker @HeuteBluhm @ArminLaschet @CD...   \n",
       "1  1.397925e+18  @reitschuster Jetzt beginnt die Wahlwerbung fü...   \n",
       "2  1.391853e+18  @welt Na wenn DA mal nicht ein paar Querdenker...   \n",
       "3  1.383950e+18  @Eiterdaus Danke hatte ich schon. Is wie ne Gr...   \n",
       "4  1.400755e+18  @janboehm Es gibt weitaus wichtigere Punkte um...   \n",
       "\n",
       "                   date     author_id  like_count  quote_count  retweet_count  \\\n",
       "0  2021-04-19T18:46:54Z  1.109805e+18           1            0              0   \n",
       "1  2021-05-27T14:38:06Z  1.373293e+18           3            0              0   \n",
       "2  2021-05-10T20:30:49Z  1.217412e+18           0            0              0   \n",
       "3  2021-04-19T01:07:10Z  7.673723e+17           0            0              0   \n",
       "4  2021-06-04T10:04:10Z  1.252295e+18        1109            1              9   \n",
       "\n",
       "   reply_count  \n",
       "0            0  \n",
       "1            0  \n",
       "2            0  \n",
       "3            1  \n",
       "4           19  "
      ]
     },
     "execution_count": 104,
     "metadata": {},
     "output_type": "execute_result"
    }
   ],
   "source": [
    "testdaten = pd.read_csv('/kaggle/input/testdaten/Testdaten.tsv', sep='\\t')\n",
    "testdaten.head()"
   ]
  },
  {
   "cell_type": "code",
   "execution_count": 105,
   "id": "c030f2d9",
   "metadata": {
    "execution": {
     "iopub.execute_input": "2022-12-19T13:26:35.305100Z",
     "iopub.status.busy": "2022-12-19T13:26:35.304009Z",
     "iopub.status.idle": "2022-12-19T13:26:35.320996Z",
     "shell.execute_reply": "2022-12-19T13:26:35.322015Z"
    },
    "papermill": {
     "duration": 0.187453,
     "end_time": "2022-12-19T13:26:35.322364",
     "exception": false,
     "start_time": "2022-12-19T13:26:35.134911",
     "status": "completed"
    },
    "tags": []
   },
   "outputs": [
    {
     "name": "stdout",
     "output_type": "stream",
     "text": [
      "<class 'pandas.core.frame.DataFrame'>\n",
      "RangeIndex: 2034 entries, 0 to 2033\n",
      "Data columns (total 8 columns):\n",
      " #   Column         Non-Null Count  Dtype  \n",
      "---  ------         --------------  -----  \n",
      " 0   c_id           2034 non-null   float64\n",
      " 1   c_text         2034 non-null   object \n",
      " 2   date           2034 non-null   object \n",
      " 3   author_id      2034 non-null   float64\n",
      " 4   like_count     2034 non-null   int64  \n",
      " 5   quote_count    2034 non-null   int64  \n",
      " 6   retweet_count  2034 non-null   int64  \n",
      " 7   reply_count    2034 non-null   int64  \n",
      "dtypes: float64(2), int64(4), object(2)\n",
      "memory usage: 127.2+ KB\n"
     ]
    }
   ],
   "source": [
    "testdaten.info()"
   ]
  },
  {
   "cell_type": "code",
   "execution_count": 106,
   "id": "21358cf5",
   "metadata": {
    "execution": {
     "iopub.execute_input": "2022-12-19T13:26:35.657917Z",
     "iopub.status.busy": "2022-12-19T13:26:35.657253Z",
     "iopub.status.idle": "2022-12-19T13:26:35.661506Z",
     "shell.execute_reply": "2022-12-19T13:26:35.662050Z"
    },
    "papermill": {
     "duration": 0.172015,
     "end_time": "2022-12-19T13:26:35.662226",
     "exception": false,
     "start_time": "2022-12-19T13:26:35.490211",
     "status": "completed"
    },
    "tags": []
   },
   "outputs": [],
   "source": [
    "def clf_predict(text):\n",
    "    \n",
    "    input_text=[]\n",
    "    input_text = [text]\n",
    "    \n",
    "    #TFIDF\n",
    "    X_TEST = vectorizer.transform(input_text)\n",
    "    \n",
    "    #Prediction\n",
    "    classification_score = rfclassifier.predict(X_TEST)\n",
    "    classification_score = str(classification_score)\n",
    "        \n",
    "    return classification_score"
   ]
  },
  {
   "cell_type": "code",
   "execution_count": 107,
   "id": "fc68af24",
   "metadata": {
    "execution": {
     "iopub.execute_input": "2022-12-19T13:26:35.995274Z",
     "iopub.status.busy": "2022-12-19T13:26:35.994557Z",
     "iopub.status.idle": "2022-12-19T13:26:36.012835Z",
     "shell.execute_reply": "2022-12-19T13:26:36.012207Z"
    },
    "papermill": {
     "duration": 0.185961,
     "end_time": "2022-12-19T13:26:36.013025",
     "exception": false,
     "start_time": "2022-12-19T13:26:35.827064",
     "status": "completed"
    },
    "tags": []
   },
   "outputs": [
    {
     "name": "stdout",
     "output_type": "stream",
     "text": [
      "['person']\n",
      "@Eiterdaus Danke hatte ich schon. Is wie ne Grippe, also nicht ängstlich. Is nur für alte und kranke wirklich gefährlich. Ja das zeigt was du für ein intoleranter, verborter Mensch bist der den Mainstream Müll aus den Medien nachplappert!!! Hauptsache man kann nazi schreiben\n"
     ]
    }
   ],
   "source": [
    "print(clf_predict(testdaten['c_text'][3]))\n",
    "print(testdaten['c_text'][3])"
   ]
  },
  {
   "cell_type": "code",
   "execution_count": 108,
   "id": "e8d3ddef",
   "metadata": {
    "execution": {
     "iopub.execute_input": "2022-12-19T13:26:36.348224Z",
     "iopub.status.busy": "2022-12-19T13:26:36.347256Z",
     "iopub.status.idle": "2022-12-19T13:26:58.757694Z",
     "shell.execute_reply": "2022-12-19T13:26:58.758408Z"
    },
    "papermill": {
     "duration": 22.579276,
     "end_time": "2022-12-19T13:26:58.758671",
     "exception": false,
     "start_time": "2022-12-19T13:26:36.179395",
     "status": "completed"
    },
    "tags": []
   },
   "outputs": [
    {
     "name": "stderr",
     "output_type": "stream",
     "text": [
      "100%|██████████| 2034/2034 [00:22<00:00, 90.87it/s]\n"
     ]
    },
    {
     "data": {
      "text/html": [
       "<div>\n",
       "<style scoped>\n",
       "    .dataframe tbody tr th:only-of-type {\n",
       "        vertical-align: middle;\n",
       "    }\n",
       "\n",
       "    .dataframe tbody tr th {\n",
       "        vertical-align: top;\n",
       "    }\n",
       "\n",
       "    .dataframe thead th {\n",
       "        text-align: right;\n",
       "    }\n",
       "</style>\n",
       "<table border=\"1\" class=\"dataframe\">\n",
       "  <thead>\n",
       "    <tr style=\"text-align: right;\">\n",
       "      <th></th>\n",
       "      <th>c_id</th>\n",
       "      <th>c_text</th>\n",
       "      <th>date</th>\n",
       "      <th>author_id</th>\n",
       "      <th>like_count</th>\n",
       "      <th>quote_count</th>\n",
       "      <th>retweet_count</th>\n",
       "      <th>reply_count</th>\n",
       "      <th>target</th>\n",
       "    </tr>\n",
       "  </thead>\n",
       "  <tbody>\n",
       "    <tr>\n",
       "      <th>0</th>\n",
       "      <td>1.384217e+18</td>\n",
       "      <td>@MichaelBroecker @HeuteBluhm @ArminLaschet @CD...</td>\n",
       "      <td>2021-04-19T18:46:54Z</td>\n",
       "      <td>1.109805e+18</td>\n",
       "      <td>1</td>\n",
       "      <td>0</td>\n",
       "      <td>0</td>\n",
       "      <td>0</td>\n",
       "      <td>['person']</td>\n",
       "    </tr>\n",
       "    <tr>\n",
       "      <th>1</th>\n",
       "      <td>1.397925e+18</td>\n",
       "      <td>@reitschuster Jetzt beginnt die Wahlwerbung fü...</td>\n",
       "      <td>2021-05-27T14:38:06Z</td>\n",
       "      <td>1.373293e+18</td>\n",
       "      <td>3</td>\n",
       "      <td>0</td>\n",
       "      <td>0</td>\n",
       "      <td>0</td>\n",
       "      <td>['group']</td>\n",
       "    </tr>\n",
       "    <tr>\n",
       "      <th>2</th>\n",
       "      <td>1.391853e+18</td>\n",
       "      <td>@welt Na wenn DA mal nicht ein paar Querdenker...</td>\n",
       "      <td>2021-05-10T20:30:49Z</td>\n",
       "      <td>1.217412e+18</td>\n",
       "      <td>0</td>\n",
       "      <td>0</td>\n",
       "      <td>0</td>\n",
       "      <td>0</td>\n",
       "      <td>['group']</td>\n",
       "    </tr>\n",
       "    <tr>\n",
       "      <th>3</th>\n",
       "      <td>1.383950e+18</td>\n",
       "      <td>@Eiterdaus Danke hatte ich schon. Is wie ne Gr...</td>\n",
       "      <td>2021-04-19T01:07:10Z</td>\n",
       "      <td>7.673723e+17</td>\n",
       "      <td>0</td>\n",
       "      <td>0</td>\n",
       "      <td>0</td>\n",
       "      <td>1</td>\n",
       "      <td>['person']</td>\n",
       "    </tr>\n",
       "    <tr>\n",
       "      <th>4</th>\n",
       "      <td>1.400755e+18</td>\n",
       "      <td>@janboehm Es gibt weitaus wichtigere Punkte um...</td>\n",
       "      <td>2021-06-04T10:04:10Z</td>\n",
       "      <td>1.252295e+18</td>\n",
       "      <td>1109</td>\n",
       "      <td>1</td>\n",
       "      <td>9</td>\n",
       "      <td>19</td>\n",
       "      <td>['public']</td>\n",
       "    </tr>\n",
       "    <tr>\n",
       "      <th>5</th>\n",
       "      <td>1.388448e+18</td>\n",
       "      <td>@amo_il_caffe @Dr_Emergencydoc Vor Monaten sch...</td>\n",
       "      <td>2021-05-01T10:59:54Z</td>\n",
       "      <td>7.411392e+17</td>\n",
       "      <td>0</td>\n",
       "      <td>0</td>\n",
       "      <td>0</td>\n",
       "      <td>0</td>\n",
       "      <td>['public']</td>\n",
       "    </tr>\n",
       "    <tr>\n",
       "      <th>6</th>\n",
       "      <td>1.384275e+18</td>\n",
       "      <td>@noaheIeazar @arouet71 @tagesthemen @tagesscha...</td>\n",
       "      <td>2021-04-19T22:38:03Z</td>\n",
       "      <td>1.238851e+18</td>\n",
       "      <td>1</td>\n",
       "      <td>0</td>\n",
       "      <td>0</td>\n",
       "      <td>2</td>\n",
       "      <td>['group']</td>\n",
       "    </tr>\n",
       "    <tr>\n",
       "      <th>7</th>\n",
       "      <td>1.387171e+18</td>\n",
       "      <td>https://t.co/AykzTbk6Gc #E0105\\n9.30 Uhr, Froh...</td>\n",
       "      <td>2021-04-27T22:26:06Z</td>\n",
       "      <td>4.770650e+07</td>\n",
       "      <td>0</td>\n",
       "      <td>1</td>\n",
       "      <td>0</td>\n",
       "      <td>0</td>\n",
       "      <td>['group']</td>\n",
       "    </tr>\n",
       "    <tr>\n",
       "      <th>8</th>\n",
       "      <td>1.400062e+18</td>\n",
       "      <td>@herr_sin @Karl_Lauterbach @Alice_Weidel Perso...</td>\n",
       "      <td>2021-06-02T12:09:39Z</td>\n",
       "      <td>8.380310e+17</td>\n",
       "      <td>1</td>\n",
       "      <td>0</td>\n",
       "      <td>0</td>\n",
       "      <td>0</td>\n",
       "      <td>['public']</td>\n",
       "    </tr>\n",
       "    <tr>\n",
       "      <th>9</th>\n",
       "      <td>1.389253e+18</td>\n",
       "      <td>Cn Naziterror\\n\\nDu läufst mit paar linken Pat...</td>\n",
       "      <td>2021-05-03T16:18:36Z</td>\n",
       "      <td>9.706050e+17</td>\n",
       "      <td>1</td>\n",
       "      <td>0</td>\n",
       "      <td>0</td>\n",
       "      <td>1</td>\n",
       "      <td>['person']</td>\n",
       "    </tr>\n",
       "  </tbody>\n",
       "</table>\n",
       "</div>"
      ],
      "text/plain": [
       "           c_id                                             c_text  \\\n",
       "0  1.384217e+18  @MichaelBroecker @HeuteBluhm @ArminLaschet @CD...   \n",
       "1  1.397925e+18  @reitschuster Jetzt beginnt die Wahlwerbung fü...   \n",
       "2  1.391853e+18  @welt Na wenn DA mal nicht ein paar Querdenker...   \n",
       "3  1.383950e+18  @Eiterdaus Danke hatte ich schon. Is wie ne Gr...   \n",
       "4  1.400755e+18  @janboehm Es gibt weitaus wichtigere Punkte um...   \n",
       "5  1.388448e+18  @amo_il_caffe @Dr_Emergencydoc Vor Monaten sch...   \n",
       "6  1.384275e+18  @noaheIeazar @arouet71 @tagesthemen @tagesscha...   \n",
       "7  1.387171e+18  https://t.co/AykzTbk6Gc #E0105\\n9.30 Uhr, Froh...   \n",
       "8  1.400062e+18  @herr_sin @Karl_Lauterbach @Alice_Weidel Perso...   \n",
       "9  1.389253e+18  Cn Naziterror\\n\\nDu läufst mit paar linken Pat...   \n",
       "\n",
       "                   date     author_id  like_count  quote_count  retweet_count  \\\n",
       "0  2021-04-19T18:46:54Z  1.109805e+18           1            0              0   \n",
       "1  2021-05-27T14:38:06Z  1.373293e+18           3            0              0   \n",
       "2  2021-05-10T20:30:49Z  1.217412e+18           0            0              0   \n",
       "3  2021-04-19T01:07:10Z  7.673723e+17           0            0              0   \n",
       "4  2021-06-04T10:04:10Z  1.252295e+18        1109            1              9   \n",
       "5  2021-05-01T10:59:54Z  7.411392e+17           0            0              0   \n",
       "6  2021-04-19T22:38:03Z  1.238851e+18           1            0              0   \n",
       "7  2021-04-27T22:26:06Z  4.770650e+07           0            1              0   \n",
       "8  2021-06-02T12:09:39Z  8.380310e+17           1            0              0   \n",
       "9  2021-05-03T16:18:36Z  9.706050e+17           1            0              0   \n",
       "\n",
       "   reply_count      target  \n",
       "0            0  ['person']  \n",
       "1            0   ['group']  \n",
       "2            0   ['group']  \n",
       "3            1  ['person']  \n",
       "4           19  ['public']  \n",
       "5            0  ['public']  \n",
       "6            2   ['group']  \n",
       "7            0   ['group']  \n",
       "8            0  ['public']  \n",
       "9            1  ['person']  "
      ]
     },
     "execution_count": 108,
     "metadata": {},
     "output_type": "execute_result"
    }
   ],
   "source": [
    "from tqdm import tqdm\n",
    "tqdm.pandas()\n",
    "\n",
    "\n",
    "testdaten['target'] = testdaten['c_text'].progress_apply(lambda n : clf_predict(n))\n",
    "testdaten.head(10)"
   ]
  },
  {
   "cell_type": "code",
   "execution_count": 109,
   "id": "8b62f2f8",
   "metadata": {
    "execution": {
     "iopub.execute_input": "2022-12-19T13:26:59.216883Z",
     "iopub.status.busy": "2022-12-19T13:26:59.216130Z",
     "iopub.status.idle": "2022-12-19T13:26:59.219746Z",
     "shell.execute_reply": "2022-12-19T13:26:59.219092Z"
    },
    "papermill": {
     "duration": 0.236397,
     "end_time": "2022-12-19T13:26:59.219893",
     "exception": false,
     "start_time": "2022-12-19T13:26:58.983496",
     "status": "completed"
    },
    "tags": []
   },
   "outputs": [
    {
     "data": {
      "text/plain": [
       "['person']    966\n",
       "['group']     581\n",
       "['public']    487\n",
       "Name: target, dtype: int64"
      ]
     },
     "execution_count": 109,
     "metadata": {},
     "output_type": "execute_result"
    }
   ],
   "source": [
    "testdaten['target'].value_counts()"
   ]
  },
  {
   "cell_type": "code",
   "execution_count": 110,
   "id": "a01d480e",
   "metadata": {
    "execution": {
     "iopub.execute_input": "2022-12-19T13:26:59.681647Z",
     "iopub.status.busy": "2022-12-19T13:26:59.680928Z",
     "iopub.status.idle": "2022-12-19T13:26:59.694019Z",
     "shell.execute_reply": "2022-12-19T13:26:59.694869Z"
    },
    "papermill": {
     "duration": 0.24732,
     "end_time": "2022-12-19T13:26:59.695131",
     "exception": false,
     "start_time": "2022-12-19T13:26:59.447811",
     "status": "completed"
    },
    "tags": []
   },
   "outputs": [
    {
     "name": "stdout",
     "output_type": "stream",
     "text": [
      "<class 'pandas.core.frame.DataFrame'>\n",
      "RangeIndex: 2034 entries, 0 to 2033\n",
      "Data columns (total 9 columns):\n",
      " #   Column         Non-Null Count  Dtype  \n",
      "---  ------         --------------  -----  \n",
      " 0   c_id           2034 non-null   float64\n",
      " 1   c_text         2034 non-null   object \n",
      " 2   date           2034 non-null   object \n",
      " 3   author_id      2034 non-null   float64\n",
      " 4   like_count     2034 non-null   int64  \n",
      " 5   quote_count    2034 non-null   int64  \n",
      " 6   retweet_count  2034 non-null   int64  \n",
      " 7   reply_count    2034 non-null   int64  \n",
      " 8   target         2034 non-null   object \n",
      "dtypes: float64(2), int64(4), object(3)\n",
      "memory usage: 143.1+ KB\n"
     ]
    }
   ],
   "source": [
    "testdaten.info()"
   ]
  },
  {
   "cell_type": "code",
   "execution_count": 111,
   "id": "e6df5657",
   "metadata": {
    "execution": {
     "iopub.execute_input": "2022-12-19T13:27:00.164768Z",
     "iopub.status.busy": "2022-12-19T13:27:00.164017Z",
     "iopub.status.idle": "2022-12-19T13:27:00.176587Z",
     "shell.execute_reply": "2022-12-19T13:27:00.176003Z"
    },
    "papermill": {
     "duration": 0.249441,
     "end_time": "2022-12-19T13:27:00.176745",
     "exception": false,
     "start_time": "2022-12-19T13:26:59.927304",
     "status": "completed"
    },
    "tags": []
   },
   "outputs": [],
   "source": [
    "testdaten = testdaten.drop('c_text', axis=1)\n",
    "testdaten = testdaten.drop('date', axis=1)\n",
    "testdaten = testdaten.drop('author_id', axis=1)\n",
    "testdaten = testdaten.drop('like_count', axis=1)\n",
    "testdaten = testdaten.drop('quote_count', axis=1)\n",
    "testdaten = testdaten.drop('retweet_count', axis=1)\n",
    "testdaten = testdaten.drop('reply_count', axis=1)"
   ]
  },
  {
   "cell_type": "code",
   "execution_count": 112,
   "id": "23f44e7f",
   "metadata": {
    "execution": {
     "iopub.execute_input": "2022-12-19T13:27:00.632849Z",
     "iopub.status.busy": "2022-12-19T13:27:00.632136Z",
     "iopub.status.idle": "2022-12-19T13:27:00.650879Z",
     "shell.execute_reply": "2022-12-19T13:27:00.651405Z"
    },
    "papermill": {
     "duration": 0.248542,
     "end_time": "2022-12-19T13:27:00.651611",
     "exception": false,
     "start_time": "2022-12-19T13:27:00.403069",
     "status": "completed"
    },
    "tags": []
   },
   "outputs": [
    {
     "name": "stderr",
     "output_type": "stream",
     "text": [
      "100%|██████████| 2034/2034 [00:00<00:00, 438510.12it/s]\n"
     ]
    },
    {
     "data": {
      "text/html": [
       "<div>\n",
       "<style scoped>\n",
       "    .dataframe tbody tr th:only-of-type {\n",
       "        vertical-align: middle;\n",
       "    }\n",
       "\n",
       "    .dataframe tbody tr th {\n",
       "        vertical-align: top;\n",
       "    }\n",
       "\n",
       "    .dataframe thead th {\n",
       "        text-align: right;\n",
       "    }\n",
       "</style>\n",
       "<table border=\"1\" class=\"dataframe\">\n",
       "  <thead>\n",
       "    <tr style=\"text-align: right;\">\n",
       "      <th></th>\n",
       "      <th>c_id</th>\n",
       "      <th>target</th>\n",
       "    </tr>\n",
       "  </thead>\n",
       "  <tbody>\n",
       "    <tr>\n",
       "      <th>0</th>\n",
       "      <td>1384216954488049664</td>\n",
       "      <td>['person']</td>\n",
       "    </tr>\n",
       "    <tr>\n",
       "      <th>1</th>\n",
       "      <td>1397925083717410816</td>\n",
       "      <td>['group']</td>\n",
       "    </tr>\n",
       "    <tr>\n",
       "      <th>2</th>\n",
       "      <td>1391853254615699712</td>\n",
       "      <td>['group']</td>\n",
       "    </tr>\n",
       "    <tr>\n",
       "      <th>3</th>\n",
       "      <td>1383950264403587072</td>\n",
       "      <td>['person']</td>\n",
       "    </tr>\n",
       "    <tr>\n",
       "      <th>4</th>\n",
       "      <td>1400755246411005952</td>\n",
       "      <td>['public']</td>\n",
       "    </tr>\n",
       "  </tbody>\n",
       "</table>\n",
       "</div>"
      ],
      "text/plain": [
       "                  c_id      target\n",
       "0  1384216954488049664  ['person']\n",
       "1  1397925083717410816   ['group']\n",
       "2  1391853254615699712   ['group']\n",
       "3  1383950264403587072  ['person']\n",
       "4  1400755246411005952  ['public']"
      ]
     },
     "execution_count": 112,
     "metadata": {},
     "output_type": "execute_result"
    }
   ],
   "source": [
    "testdaten['c_id'] = testdaten['c_id'].progress_apply(lambda n: int(n))\n",
    "testdaten.head()"
   ]
  },
  {
   "cell_type": "code",
   "execution_count": 113,
   "id": "9cf99a97",
   "metadata": {
    "execution": {
     "iopub.execute_input": "2022-12-19T13:27:01.142964Z",
     "iopub.status.busy": "2022-12-19T13:27:01.142296Z",
     "iopub.status.idle": "2022-12-19T13:27:01.160027Z",
     "shell.execute_reply": "2022-12-19T13:27:01.159306Z"
    },
    "papermill": {
     "duration": 0.271869,
     "end_time": "2022-12-19T13:27:01.160181",
     "exception": false,
     "start_time": "2022-12-19T13:27:00.888312",
     "status": "completed"
    },
    "tags": []
   },
   "outputs": [],
   "source": [
    "compression_opts = dict(method='zip',archive_name='Target_Gruppe4_1b.csv')  \n",
    "testdaten.to_csv('Target_Gruppe4_1b.zip', index=False, compression=compression_opts)  "
   ]
  },
  {
   "cell_type": "markdown",
   "id": "e2298db8",
   "metadata": {
    "papermill": {
     "duration": 0.22829,
     "end_time": "2022-12-19T13:27:01.617266",
     "exception": false,
     "start_time": "2022-12-19T13:27:01.388976",
     "status": "completed"
    },
    "tags": []
   },
   "source": [
    "# Model Comparison"
   ]
  },
  {
   "cell_type": "code",
   "execution_count": 114,
   "id": "7ba688db",
   "metadata": {
    "execution": {
     "iopub.execute_input": "2022-12-19T13:27:02.082902Z",
     "iopub.status.busy": "2022-12-19T13:27:02.082192Z",
     "iopub.status.idle": "2022-12-19T13:27:02.084116Z",
     "shell.execute_reply": "2022-12-19T13:27:02.084677Z"
    },
    "papermill": {
     "duration": 0.239182,
     "end_time": "2022-12-19T13:27:02.084855",
     "exception": false,
     "start_time": "2022-12-19T13:27:01.845673",
     "status": "completed"
    },
    "tags": []
   },
   "outputs": [],
   "source": [
    "def cv_score(clf,k):\n",
    "    score = cross_val_score(clf, X=X_train, y=y_train, cv=k)\n",
    "    return score"
   ]
  },
  {
   "cell_type": "code",
   "execution_count": 115,
   "id": "56676800",
   "metadata": {
    "execution": {
     "iopub.execute_input": "2022-12-19T13:27:02.539087Z",
     "iopub.status.busy": "2022-12-19T13:27:02.538379Z",
     "iopub.status.idle": "2022-12-19T13:31:32.828377Z",
     "shell.execute_reply": "2022-12-19T13:31:32.828947Z"
    },
    "papermill": {
     "duration": 270.517374,
     "end_time": "2022-12-19T13:31:32.829145",
     "exception": false,
     "start_time": "2022-12-19T13:27:02.311771",
     "status": "completed"
    },
    "tags": []
   },
   "outputs": [
    {
     "data": {
      "text/html": [
       "<div>\n",
       "<style scoped>\n",
       "    .dataframe tbody tr th:only-of-type {\n",
       "        vertical-align: middle;\n",
       "    }\n",
       "\n",
       "    .dataframe tbody tr th {\n",
       "        vertical-align: top;\n",
       "    }\n",
       "\n",
       "    .dataframe thead th {\n",
       "        text-align: right;\n",
       "    }\n",
       "</style>\n",
       "<table border=\"1\" class=\"dataframe\">\n",
       "  <thead>\n",
       "    <tr style=\"text-align: right;\">\n",
       "      <th></th>\n",
       "      <th>Classifier Name</th>\n",
       "      <th>acc_train</th>\n",
       "      <th>acc_test</th>\n",
       "      <th>mean_cv_score(5)</th>\n",
       "      <th>std_cv_score(5)</th>\n",
       "    </tr>\n",
       "  </thead>\n",
       "  <tbody>\n",
       "    <tr>\n",
       "      <th>0</th>\n",
       "      <td>LogisticRegression</td>\n",
       "      <td>0.857101</td>\n",
       "      <td>0.650471</td>\n",
       "      <td>0.738378</td>\n",
       "      <td>0.009128</td>\n",
       "    </tr>\n",
       "    <tr>\n",
       "      <th>1</th>\n",
       "      <td>MultinomialNB</td>\n",
       "      <td>0.810319</td>\n",
       "      <td>0.644026</td>\n",
       "      <td>0.703686</td>\n",
       "      <td>0.019341</td>\n",
       "    </tr>\n",
       "    <tr>\n",
       "      <th>2</th>\n",
       "      <td>SVC</td>\n",
       "      <td>0.878428</td>\n",
       "      <td>0.651463</td>\n",
       "      <td>0.787617</td>\n",
       "      <td>0.019855</td>\n",
       "    </tr>\n",
       "    <tr>\n",
       "      <th>3</th>\n",
       "      <td>DecisionTreeClassifier</td>\n",
       "      <td>0.994201</td>\n",
       "      <td>0.585027</td>\n",
       "      <td>0.736904</td>\n",
       "      <td>0.026467</td>\n",
       "    </tr>\n",
       "    <tr>\n",
       "      <th>4</th>\n",
       "      <td>RandomForestClassifier</td>\n",
       "      <td>0.994201</td>\n",
       "      <td>0.642043</td>\n",
       "      <td>0.761081</td>\n",
       "      <td>0.016830</td>\n",
       "    </tr>\n",
       "    <tr>\n",
       "      <th>5</th>\n",
       "      <td>RidgeClassifier</td>\n",
       "      <td>0.907617</td>\n",
       "      <td>0.636093</td>\n",
       "      <td>0.739066</td>\n",
       "      <td>0.017337</td>\n",
       "    </tr>\n",
       "  </tbody>\n",
       "</table>\n",
       "</div>"
      ],
      "text/plain": [
       "          Classifier Name  acc_train  acc_test  mean_cv_score(5)  \\\n",
       "0      LogisticRegression   0.857101  0.650471          0.738378   \n",
       "1           MultinomialNB   0.810319  0.644026          0.703686   \n",
       "2                     SVC   0.878428  0.651463          0.787617   \n",
       "3  DecisionTreeClassifier   0.994201  0.585027          0.736904   \n",
       "4  RandomForestClassifier   0.994201  0.642043          0.761081   \n",
       "5         RidgeClassifier   0.907617  0.636093          0.739066   \n",
       "\n",
       "   std_cv_score(5)  \n",
       "0         0.009128  \n",
       "1         0.019341  \n",
       "2         0.019855  \n",
       "3         0.026467  \n",
       "4         0.016830  \n",
       "5         0.017337  "
      ]
     },
     "execution_count": 115,
     "metadata": {},
     "output_type": "execute_result"
    }
   ],
   "source": [
    "results = {'Classifier Name':  ['LogisticRegression', 'MultinomialNB', 'SVC', 'DecisionTreeClassifier', 'RandomForestClassifier', 'RidgeClassifier'],\n",
    "        'acc_train':  [ accuracy_score(y_train,LR_train_predictions), accuracy_score(y_train,NB_train_predictions), accuracy_score(y_train,SVM_train_predictions), accuracy_score(y_train,DT_train_predictions), accuracy_score(y_train,RF_train_predictions), accuracy_score(y_train,RC_train_predictions)],\n",
    "        'acc_test':  [ accuracy_score(y_test,LR_test_predictions), accuracy_score(y_test,NB_test_predictions), accuracy_score(y_test,SVM_test_predictions), accuracy_score(y_test,DT_test_predictions), accuracy_score(y_test,RF_test_predictions), accuracy_score(y_test,RC_test_predictions)],\n",
    "        'mean_cv_score(5)':  [np.mean(cv_score(LogisticRegression(),5)), np.mean(cv_score(MultinomialNB(),5)), np.mean(cv_score(SVC(),5)), np.mean(cv_score(DecisionTreeClassifier(),5)), np.mean(cv_score(RandomForestClassifier(),5)),np.mean(cv_score(RidgeClassifier(),5))],\n",
    "        'std_cv_score(5)':  [np.std(cv_score(LogisticRegression(),5)), np.std(cv_score(MultinomialNB(),5)), np.std(cv_score(SVC(),5)), np.std(cv_score(DecisionTreeClassifier(),5)), np.std(cv_score(RandomForestClassifier(),5)),np.std(cv_score(RidgeClassifier(),5))]}\n",
    "\n",
    "results = pd.DataFrame(results)\n",
    "\n",
    "results.head(6)"
   ]
  },
  {
   "cell_type": "code",
   "execution_count": 116,
   "id": "3a348faf",
   "metadata": {
    "execution": {
     "iopub.execute_input": "2022-12-19T13:31:33.286379Z",
     "iopub.status.busy": "2022-12-19T13:31:33.285691Z",
     "iopub.status.idle": "2022-12-19T13:31:33.291191Z",
     "shell.execute_reply": "2022-12-19T13:31:33.291760Z"
    },
    "papermill": {
     "duration": 0.235702,
     "end_time": "2022-12-19T13:31:33.291947",
     "exception": false,
     "start_time": "2022-12-19T13:31:33.056245",
     "status": "completed"
    },
    "tags": []
   },
   "outputs": [],
   "source": [
    "compression_opts = dict(method='zip',archive_name='results_of_classification.csv')  \n",
    "results.to_csv('TC_results.zip', index=False, compression=compression_opts) "
   ]
  }
 ],
 "metadata": {
  "kernelspec": {
   "display_name": "Python 3",
   "language": "python",
   "name": "python3"
  },
  "language_info": {
   "codemirror_mode": {
    "name": "ipython",
    "version": 3
   },
   "file_extension": ".py",
   "mimetype": "text/x-python",
   "name": "python",
   "nbconvert_exporter": "python",
   "pygments_lexer": "ipython3",
   "version": "3.7.10"
  },
  "papermill": {
   "default_parameters": {},
   "duration": 1098.559205,
   "end_time": "2022-12-19T13:31:35.154503",
   "environment_variables": {},
   "exception": null,
   "input_path": "__notebook__.ipynb",
   "output_path": "__notebook__.ipynb",
   "parameters": {},
   "start_time": "2022-12-19T13:13:16.595298",
   "version": "2.3.3"
  }
 },
 "nbformat": 4,
 "nbformat_minor": 5
}
